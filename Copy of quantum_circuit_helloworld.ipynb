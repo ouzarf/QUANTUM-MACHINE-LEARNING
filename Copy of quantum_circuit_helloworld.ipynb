{
 "cells": [
  {
   "cell_type": "markdown",
   "metadata": {
    "id": "9hCPccXDgXS5"
   },
   "source": [
    "## 0. 安裝並 import qiskit套件"
   ]
  },
  {
   "cell_type": "code",
   "execution_count": 3,
   "metadata": {
    "colab": {
     "base_uri": "https://localhost:8080/"
    },
    "executionInfo": {
     "elapsed": 33188,
     "status": "ok",
     "timestamp": 1636481334907,
     "user": {
      "displayName": "MOHAMED OUZARF",
      "photoUrl": "https://lh3.googleusercontent.com/a-/AOh14GjqOe87DDkKIuMqyJnj_be11wNskc-Z_LdlxCai-Q=s64",
      "userId": "07627566397046241781"
     },
     "user_tz": -60
    },
    "id": "B0W-Z4C_EQEJ",
    "outputId": "1e8d7141-f850-467c-f37b-fde8b4509e8a",
    "scrolled": false
   },
   "outputs": [
    {
     "name": "stdout",
     "output_type": "stream",
     "text": [
      "Collecting qiskit\n",
      "  Downloading https://files.pythonhosted.org/packages/61/5e/1e95f9bd9ef639c39b213abb4ad9a93bf315fb68db1b706b3d3449909fea/qiskit-0.31.0.tar.gz\n",
      "Collecting qiskit-terra==0.18.3 (from qiskit)\n",
      "\u001b[?25l  Downloading https://files.pythonhosted.org/packages/4e/29/d3a9799f3c416db5bc9c1e99ecb6ec6a7507ae2d04f8b788c91d582a8569/qiskit_terra-0.18.3-cp37-cp37m-macosx_10_9_x86_64.whl (5.3MB)\n",
      "\u001b[K     |████████████████████████████████| 5.3MB 437kB/s eta 0:00:01\n",
      "\u001b[?25hCollecting qiskit-aer==0.9.1 (from qiskit)\n",
      "\u001b[?25l  Downloading https://files.pythonhosted.org/packages/10/da/61cd608c4cabef949acb45dc82440fd28a86b3a66cbcbdd4e5156a075b27/qiskit_aer-0.9.1-cp37-cp37m-macosx_10_9_x86_64.whl (8.6MB)\n",
      "\u001b[K     |████████████████████████████████| 8.6MB 1.2MB/s eta 0:00:01\n",
      "\u001b[?25hCollecting qiskit-ibmq-provider==0.17.0 (from qiskit)\n",
      "\u001b[?25l  Downloading https://files.pythonhosted.org/packages/dd/21/7494bc2eec57009fc8c0c4c5d654e32a7ba626062821011f0a30595895eb/qiskit_ibmq_provider-0.17.0-py3-none-any.whl (236kB)\n",
      "\u001b[K     |████████████████████████████████| 245kB 1.2MB/s eta 0:00:01\n",
      "\u001b[?25hCollecting qiskit-ignis==0.6.0 (from qiskit)\n",
      "\u001b[?25l  Downloading https://files.pythonhosted.org/packages/54/be/a13c828e457e09d979667a61bddbd8c7246aafa94e2501b6a9154429cbea/qiskit_ignis-0.6.0-py3-none-any.whl (207kB)\n",
      "\u001b[K     |████████████████████████████████| 215kB 1.2MB/s eta 0:00:01\n",
      "\u001b[?25hCollecting qiskit-aqua==0.9.5 (from qiskit)\n",
      "\u001b[?25l  Downloading https://files.pythonhosted.org/packages/27/25/b7e36b17dcc11622b8ee04e638363dcd6726308bda2152fe97737098f8fe/qiskit_aqua-0.9.5-py3-none-any.whl (2.1MB)\n",
      "\u001b[K     |████████████████████████████████| 2.1MB 632kB/s eta 0:00:01\n",
      "\u001b[?25hCollecting dill>=0.3 (from qiskit-terra==0.18.3->qiskit)\n",
      "\u001b[?25l  Downloading https://files.pythonhosted.org/packages/b6/c3/973676ceb86b60835bb3978c6db67a5dc06be6cfdbd14ef0f5a13e3fc9fd/dill-0.3.4-py2.py3-none-any.whl (86kB)\n",
      "\u001b[K     |████████████████████████████████| 92kB 1.4MB/s eta 0:00:011\n",
      "\u001b[?25hRequirement already satisfied: python-dateutil>=2.8.0 in /Users/wiameouzarf/opt/anaconda3/lib/python3.7/site-packages (from qiskit-terra==0.18.3->qiskit) (2.8.0)\n",
      "Requirement already satisfied: jsonschema>=2.6 in /Users/wiameouzarf/opt/anaconda3/lib/python3.7/site-packages (from qiskit-terra==0.18.3->qiskit) (3.0.2)\n",
      "Requirement already satisfied: psutil>=5 in /Users/wiameouzarf/opt/anaconda3/lib/python3.7/site-packages (from qiskit-terra==0.18.3->qiskit) (5.6.3)\n",
      "Collecting scipy>=1.4 (from qiskit-terra==0.18.3->qiskit)\n",
      "\u001b[?25l  Downloading https://files.pythonhosted.org/packages/18/63/97af98f933b0a06e1d60ddf8373a89124a60073d4f0d47eafb362b51de1d/scipy-1.7.2-cp37-cp37m-macosx_10_9_x86_64.whl (33.0MB)\n",
      "\u001b[K     |████████████████████████████████| 33.0MB 82kB/s  eta 0:00:01     |███████████████████████▎        | 24.0MB 1.4MB/s eta 0:00:07\n",
      "\u001b[?25hRequirement already satisfied: numpy>=1.17 in /Users/wiameouzarf/opt/anaconda3/lib/python3.7/site-packages (from qiskit-terra==0.18.3->qiskit) (1.19.5)\n",
      "Collecting symengine>0.7; platform_machine == \"x86_64\" or platform_machine == \"aarch64\" or platform_machine == \"ppc64le\" or platform_machine == \"amd64\" or platform_machine == \"arm64\" (from qiskit-terra==0.18.3->qiskit)\n",
      "\u001b[?25l  Downloading https://files.pythonhosted.org/packages/b9/ed/cd1c8ec4cc4f15c68fa382317651af622c288787e96fa127f8961ad6efb0/symengine-0.8.1-cp37-cp37m-macosx_10_9_x86_64.whl (17.6MB)\n",
      "\u001b[K     |████████████████████████████████| 17.6MB 166kB/s eta 0:00:01    |████████████▌                   | 6.9MB 1.3MB/s eta 0:00:09\n",
      "\u001b[?25hCollecting fastjsonschema>=2.10 (from qiskit-terra==0.18.3->qiskit)\n",
      "  Downloading https://files.pythonhosted.org/packages/d1/fb/ea090e917b18320f79be31d754bbe496b715175e865603cfce1eaed2e774/fastjsonschema-2.15.1-py3-none-any.whl\n",
      "Collecting python-constraint>=1.4 (from qiskit-terra==0.18.3->qiskit)\n",
      "  Downloading https://files.pythonhosted.org/packages/37/8b/5f1bc2734ca611943e1d6733ee244238679f6410a10cd45ede55a61a8402/python-constraint-1.4.0.tar.bz2\n",
      "Collecting tweedledum<2.0,>=1.1 (from qiskit-terra==0.18.3->qiskit)\n",
      "\u001b[?25l  Downloading https://files.pythonhosted.org/packages/05/bb/71edde9f6b281bfc1296de367923ad8c05b5e1407f421bc2ba040cdce371/tweedledum-1.1.1-cp37-cp37m-macosx_10_9_x86_64.whl (1.8MB)\n",
      "\u001b[K     |████████████████████████████████| 1.8MB 1.2MB/s eta 0:00:01\n",
      "\u001b[?25hRequirement already satisfied: ply>=3.10 in /Users/wiameouzarf/opt/anaconda3/lib/python3.7/site-packages (from qiskit-terra==0.18.3->qiskit) (3.11)\n",
      "Collecting retworkx>=0.9.0 (from qiskit-terra==0.18.3->qiskit)\n",
      "\u001b[?25l  Downloading https://files.pythonhosted.org/packages/bb/7e/d31c5ba6b813f15f19b1578d3d330e71eb93433281feb4a9c9c96a1d18fc/retworkx-0.10.2-cp37-cp37m-macosx_10_9_x86_64.whl (1.1MB)\n",
      "\u001b[K     |████████████████████████████████| 1.1MB 2.1MB/s eta 0:00:01\n",
      "\u001b[?25hRequirement already satisfied: sympy>=1.3 in /Users/wiameouzarf/opt/anaconda3/lib/python3.7/site-packages (from qiskit-terra==0.18.3->qiskit) (1.4)\n",
      "Collecting requests-ntlm>=1.1.0 (from qiskit-ibmq-provider==0.17.0->qiskit)\n",
      "  Downloading https://files.pythonhosted.org/packages/03/4b/8b9a1afde8072c4d5710d9fa91433d504325821b038e00237dc8d6d833dc/requests_ntlm-1.1.0-py2.py3-none-any.whl\n",
      "Requirement already satisfied: requests>=2.19 in /Users/wiameouzarf/opt/anaconda3/lib/python3.7/site-packages (from qiskit-ibmq-provider==0.17.0->qiskit) (2.22.0)\n",
      "Requirement already satisfied: urllib3>=1.21.1 in /Users/wiameouzarf/opt/anaconda3/lib/python3.7/site-packages (from qiskit-ibmq-provider==0.17.0->qiskit) (1.24.2)\n",
      "Collecting websocket-client>=1.0.1 (from qiskit-ibmq-provider==0.17.0->qiskit)\n",
      "\u001b[?25l  Downloading https://files.pythonhosted.org/packages/55/44/030ea47390896c8d6dc9995c8e9a4c5df3a161cd45416d88119036c73eda/websocket_client-1.2.1-py2.py3-none-any.whl (52kB)\n",
      "\u001b[K     |████████████████████████████████| 61kB 1.6MB/s eta 0:00:01\n",
      "\u001b[?25hRequirement already satisfied: setuptools>=40.1.0 in /Users/wiameouzarf/opt/anaconda3/lib/python3.7/site-packages (from qiskit-ignis==0.6.0->qiskit) (41.4.0)\n",
      "Requirement already satisfied: scikit-learn>=0.20.0 in /Users/wiameouzarf/opt/anaconda3/lib/python3.7/site-packages (from qiskit-aqua==0.9.5->qiskit) (0.21.3)\n",
      "Collecting yfinance>=0.1.62 (from qiskit-aqua==0.9.5->qiskit)\n",
      "  Downloading https://files.pythonhosted.org/packages/f4/86/bbbad07b95e300c9008b0dcbc8e69ce0825d27a57e8eae1d5200ca0539a0/yfinance-0.1.64.tar.gz\n",
      "Requirement already satisfied: h5py<3.3.0 in /Users/wiameouzarf/opt/anaconda3/lib/python3.7/site-packages (from qiskit-aqua==0.9.5->qiskit) (3.1.0)\n",
      "Collecting quandl (from qiskit-aqua==0.9.5->qiskit)\n",
      "  Downloading https://files.pythonhosted.org/packages/68/b2/3945c319fc855aa2245dfe85af2c3411f11671926e60d1dfe42df942ab35/Quandl-3.6.2-py2.py3-none-any.whl\n",
      "Collecting docplex>=2.21.207 (from qiskit-aqua==0.9.5->qiskit)\n",
      "\u001b[?25l  Downloading https://files.pythonhosted.org/packages/5e/d2/a3defb5c85b06e857ed398ee017c6a5769bc95db6d355aa0f895c3e177cd/docplex-2.22.213.tar.gz (634kB)\n",
      "\u001b[K     |████████████████████████████████| 634kB 221kB/s eta 0:00:01\n",
      "\u001b[?25hCollecting fastdtw<=0.3.4 (from qiskit-aqua==0.9.5->qiskit)\n",
      "\u001b[?25l  Downloading https://files.pythonhosted.org/packages/99/43/30f2d8db076f216b15c10db663b46e22d1750b1ebacd7af6e62b83d6ab98/fastdtw-0.3.4.tar.gz (133kB)\n",
      "\u001b[K     |████████████████████████████████| 143kB 1.7MB/s eta 0:00:01\n",
      "\u001b[?25hCollecting dlx<=1.0.4 (from qiskit-aqua==0.9.5->qiskit)\n",
      "  Downloading https://files.pythonhosted.org/packages/54/c0/b8fb5bb727e983b6f5251433ef941b48f38c65bb0bd6ec509e9185bcd406/dlx-1.0.4.tar.gz\n",
      "Requirement already satisfied: pandas in /Users/wiameouzarf/opt/anaconda3/lib/python3.7/site-packages (from qiskit-aqua==0.9.5->qiskit) (0.25.1)\n",
      "Requirement already satisfied: six>=1.5 in /Users/wiameouzarf/opt/anaconda3/lib/python3.7/site-packages (from python-dateutil>=2.8.0->qiskit-terra==0.18.3->qiskit) (1.15.0)\n",
      "Requirement already satisfied: attrs>=17.4.0 in /Users/wiameouzarf/opt/anaconda3/lib/python3.7/site-packages (from jsonschema>=2.6->qiskit-terra==0.18.3->qiskit) (19.2.0)\n",
      "Requirement already satisfied: pyrsistent>=0.14.0 in /Users/wiameouzarf/opt/anaconda3/lib/python3.7/site-packages (from jsonschema>=2.6->qiskit-terra==0.18.3->qiskit) (0.15.4)\n",
      "Requirement already satisfied: mpmath>=0.19 in /Users/wiameouzarf/opt/anaconda3/lib/python3.7/site-packages (from sympy>=1.3->qiskit-terra==0.18.3->qiskit) (1.1.0)\n",
      "Requirement already satisfied: cryptography>=1.3 in /Users/wiameouzarf/opt/anaconda3/lib/python3.7/site-packages (from requests-ntlm>=1.1.0->qiskit-ibmq-provider==0.17.0->qiskit) (2.7)\n"
     ]
    },
    {
     "name": "stdout",
     "output_type": "stream",
     "text": [
      "Collecting ntlm-auth>=1.0.2 (from requests-ntlm>=1.1.0->qiskit-ibmq-provider==0.17.0->qiskit)\n",
      "  Downloading https://files.pythonhosted.org/packages/ff/84/97c550164b54942b0e908c31ef09d9469f3ba4cd7332a671e2125732f63b/ntlm_auth-1.5.0-py2.py3-none-any.whl\n",
      "Requirement already satisfied: idna<2.9,>=2.5 in /Users/wiameouzarf/opt/anaconda3/lib/python3.7/site-packages (from requests>=2.19->qiskit-ibmq-provider==0.17.0->qiskit) (2.8)\n",
      "Requirement already satisfied: chardet<3.1.0,>=3.0.2 in /Users/wiameouzarf/opt/anaconda3/lib/python3.7/site-packages (from requests>=2.19->qiskit-ibmq-provider==0.17.0->qiskit) (3.0.4)\n",
      "Requirement already satisfied: certifi>=2017.4.17 in /Users/wiameouzarf/opt/anaconda3/lib/python3.7/site-packages (from requests>=2.19->qiskit-ibmq-provider==0.17.0->qiskit) (2019.9.11)\n",
      "Requirement already satisfied: joblib>=0.11 in /Users/wiameouzarf/opt/anaconda3/lib/python3.7/site-packages (from scikit-learn>=0.20.0->qiskit-aqua==0.9.5->qiskit) (0.13.2)\n",
      "Collecting multitasking>=0.0.7 (from yfinance>=0.1.62->qiskit-aqua==0.9.5->qiskit)\n",
      "  Downloading https://files.pythonhosted.org/packages/69/e7/e9f1661c28f7b87abfa08cb0e8f51dad2240a9f4f741f02ea839835e6d18/multitasking-0.0.9.tar.gz\n",
      "Collecting lxml>=4.5.1 (from yfinance>=0.1.62->qiskit-aqua==0.9.5->qiskit)\n",
      "\u001b[?25l  Downloading https://files.pythonhosted.org/packages/fe/4c/a4dbb4e389f75e69dbfb623462dfe0d0e652107a95481d40084830d29b37/lxml-4.6.4.tar.gz (3.2MB)\n",
      "\u001b[K     |████████████████████████████████| 3.2MB 1.1MB/s eta 0:00:01\n",
      "\u001b[?25hRequirement already satisfied: cached-property; python_version < \"3.8\" in /Users/wiameouzarf/opt/anaconda3/lib/python3.7/site-packages (from h5py<3.3.0->qiskit-aqua==0.9.5->qiskit) (1.5.2)\n",
      "Collecting inflection>=0.3.1 (from quandl->qiskit-aqua==0.9.5->qiskit)\n",
      "  Downloading https://files.pythonhosted.org/packages/59/91/aa6bde563e0085a02a435aa99b49ef75b0a4b062635e606dab23ce18d720/inflection-0.5.1-py2.py3-none-any.whl\n",
      "Requirement already satisfied: more-itertools in /Users/wiameouzarf/opt/anaconda3/lib/python3.7/site-packages (from quandl->qiskit-aqua==0.9.5->qiskit) (7.2.0)\n",
      "Requirement already satisfied: pytz>=2017.2 in /Users/wiameouzarf/opt/anaconda3/lib/python3.7/site-packages (from pandas->qiskit-aqua==0.9.5->qiskit) (2019.3)\n",
      "Requirement already satisfied: asn1crypto>=0.21.0 in /Users/wiameouzarf/opt/anaconda3/lib/python3.7/site-packages (from cryptography>=1.3->requests-ntlm>=1.1.0->qiskit-ibmq-provider==0.17.0->qiskit) (1.0.1)\n",
      "Requirement already satisfied: cffi!=1.11.3,>=1.8 in /Users/wiameouzarf/opt/anaconda3/lib/python3.7/site-packages (from cryptography>=1.3->requests-ntlm>=1.1.0->qiskit-ibmq-provider==0.17.0->qiskit) (1.12.3)\n",
      "Requirement already satisfied: pycparser in /Users/wiameouzarf/opt/anaconda3/lib/python3.7/site-packages (from cffi!=1.11.3,>=1.8->cryptography>=1.3->requests-ntlm>=1.1.0->qiskit-ibmq-provider==0.17.0->qiskit) (2.19)\n",
      "Building wheels for collected packages: qiskit, python-constraint, yfinance, docplex, fastdtw, dlx, multitasking, lxml\n",
      "  Building wheel for qiskit (setup.py) ... \u001b[?25ldone\n",
      "\u001b[?25h  Created wheel for qiskit: filename=qiskit-0.31.0-cp37-none-any.whl size=11714 sha256=1991bdcb974012d6614e74878134d6adb95dce33b1ebc20b99dfb29555252e7f\n",
      "  Stored in directory: /Users/wiameouzarf/Library/Caches/pip/wheels/13/e5/5d/6d7548c4d366be529a9a07480916a9d06aac2dec0c423e28ce\n",
      "  Building wheel for python-constraint (setup.py) ... \u001b[?25ldone\n",
      "\u001b[?25h  Created wheel for python-constraint: filename=python_constraint-1.4.0-py2.py3-none-any.whl size=24081 sha256=baf2ad2c6099455e73664b702fc334b46364f5bca5c61e2d180264a5b9998865\n",
      "  Stored in directory: /Users/wiameouzarf/Library/Caches/pip/wheels/34/31/15/7b070b25d0a549d20ce2e9fe6d727471c2c61ef904720fd40c\n",
      "  Building wheel for yfinance (setup.py) ... \u001b[?25ldone\n",
      "\u001b[?25h  Created wheel for yfinance: filename=yfinance-0.1.64-py2.py3-none-any.whl size=24094 sha256=eb21324233d37e6d807cea37d026e6b2b4b6863ec006aa16e7a326dcfdd55e1b\n",
      "  Stored in directory: /Users/wiameouzarf/Library/Caches/pip/wheels/79/06/23/8d21ef931f3c9e0420d3dc1fb45c25d6e58735c37df237f205\n",
      "  Building wheel for docplex (setup.py) ... \u001b[?25ldone\n",
      "\u001b[?25h  Created wheel for docplex: filename=docplex-2.22.213-cp37-none-any.whl size=696851 sha256=908273224b3625d4359688a44bbfb15c1cc25c603c7ff914b982c33364027702\n",
      "  Stored in directory: /Users/wiameouzarf/Library/Caches/pip/wheels/52/03/35/2d73ec3a251e432c636fb226346bdebe0032d96de0eb4d5657\n",
      "  Building wheel for fastdtw (setup.py) ... \u001b[?25ldone\n",
      "\u001b[?25h  Created wheel for fastdtw: filename=fastdtw-0.3.4-cp37-cp37m-macosx_10_9_x86_64.whl size=92765 sha256=e551ae930f30a78a226fc4041a7eb08595341f86af7643a1b7fbca544418d040\n",
      "  Stored in directory: /Users/wiameouzarf/Library/Caches/pip/wheels/7e/95/df/935f19af51d6ab63d416c103c0d6eae7048a8c2ecb00a1497f\n",
      "  Building wheel for dlx (setup.py) ... \u001b[?25ldone\n",
      "\u001b[?25h  Created wheel for dlx: filename=dlx-1.0.4-cp37-none-any.whl size=5710 sha256=6c19ed439afad2f2f23d60bc2d2ed3489ae52db3223b72ad9e5242631982bfca\n",
      "  Stored in directory: /Users/wiameouzarf/Library/Caches/pip/wheels/bb/ba/15/fdd0deb104df3254912998150ba9245668db06b00af5912d1a\n",
      "  Building wheel for multitasking (setup.py) ... \u001b[?25ldone\n",
      "\u001b[?25h  Created wheel for multitasking: filename=multitasking-0.0.9-cp37-none-any.whl size=8367 sha256=9572a0330378ff85e4fb301108b3aac52944386fdda535a03c63bdd719633e88\n",
      "  Stored in directory: /Users/wiameouzarf/Library/Caches/pip/wheels/37/fa/73/d492849e319038eb4d986f5152e4b19ffb1bc0639da84d2677\n",
      "  Building wheel for lxml (setup.py) ... \u001b[?25ldone\n",
      "\u001b[?25h  Created wheel for lxml: filename=lxml-4.6.4-cp37-cp37m-macosx_10_9_x86_64.whl size=1396175 sha256=9009ad7c5db216acf75ae1c950200ed2ed061c43864f79a82f6fc8ec072a35be\n",
      "  Stored in directory: /Users/wiameouzarf/Library/Caches/pip/wheels/ac/ca/6c/8983f788ff39f22b0fffb6e0be32f6e065ecd4ba082c8910e3\n",
      "Successfully built qiskit python-constraint yfinance docplex fastdtw dlx multitasking lxml\n",
      "Installing collected packages: dill, scipy, symengine, fastjsonschema, python-constraint, tweedledum, retworkx, qiskit-terra, qiskit-aer, ntlm-auth, requests-ntlm, websocket-client, qiskit-ibmq-provider, qiskit-ignis, multitasking, lxml, yfinance, inflection, quandl, docplex, fastdtw, dlx, qiskit-aqua, qiskit\n",
      "  Found existing installation: scipy 1.3.1\n",
      "    Uninstalling scipy-1.3.1:\n",
      "      Successfully uninstalled scipy-1.3.1\n",
      "  Found existing installation: lxml 4.4.1\n",
      "    Uninstalling lxml-4.4.1:\n",
      "      Successfully uninstalled lxml-4.4.1\n",
      "Successfully installed dill-0.3.4 dlx-1.0.4 docplex-2.22.213 fastdtw-0.3.4 fastjsonschema-2.15.1 inflection-0.5.1 lxml-4.6.4 multitasking-0.0.9 ntlm-auth-1.5.0 python-constraint-1.4.0 qiskit-0.31.0 qiskit-aer-0.9.1 qiskit-aqua-0.9.5 qiskit-ibmq-provider-0.17.0 qiskit-ignis-0.6.0 qiskit-terra-0.18.3 quandl-3.6.2 requests-ntlm-1.1.0 retworkx-0.10.2 scipy-1.7.2 symengine-0.8.1 tweedledum-1.1.1 websocket-client-1.2.1 yfinance-0.1.64\n",
      "Requirement already satisfied: qiskit[visualization] in /Users/wiameouzarf/opt/anaconda3/lib/python3.7/site-packages (0.31.0)\n",
      "Requirement already satisfied: qiskit-terra==0.18.3 in /Users/wiameouzarf/opt/anaconda3/lib/python3.7/site-packages (from qiskit[visualization]) (0.18.3)\n",
      "Requirement already satisfied: qiskit-ibmq-provider==0.17.0 in /Users/wiameouzarf/opt/anaconda3/lib/python3.7/site-packages (from qiskit[visualization]) (0.17.0)\n",
      "Requirement already satisfied: qiskit-aer==0.9.1 in /Users/wiameouzarf/opt/anaconda3/lib/python3.7/site-packages (from qiskit[visualization]) (0.9.1)\n",
      "Requirement already satisfied: qiskit-ignis==0.6.0 in /Users/wiameouzarf/opt/anaconda3/lib/python3.7/site-packages (from qiskit[visualization]) (0.6.0)\n",
      "Requirement already satisfied: qiskit-aqua==0.9.5 in /Users/wiameouzarf/opt/anaconda3/lib/python3.7/site-packages (from qiskit[visualization]) (0.9.5)\n",
      "Requirement already satisfied: ipywidgets>=7.3.0; extra == \"visualization\" in /Users/wiameouzarf/opt/anaconda3/lib/python3.7/site-packages (from qiskit[visualization]) (7.5.1)\n",
      "Requirement already satisfied: pillow>=4.2.1; extra == \"visualization\" in /Users/wiameouzarf/opt/anaconda3/lib/python3.7/site-packages (from qiskit[visualization]) (6.2.0)\n",
      "Collecting pylatexenc>=1.4; extra == \"visualization\" (from qiskit[visualization])\n",
      "\u001b[?25l  Downloading https://files.pythonhosted.org/packages/5d/ab/34ec41718af73c00119d0351b7a2531d2ebddb51833a36448fc7b862be60/pylatexenc-2.10.tar.gz (162kB)\n"
     ]
    },
    {
     "name": "stdout",
     "output_type": "stream",
     "text": [
      "\u001b[K     |████████████████████████████████| 163kB 375kB/s eta 0:00:01\n",
      "\u001b[?25hCollecting pydot; extra == \"visualization\" (from qiskit[visualization])\n",
      "  Downloading https://files.pythonhosted.org/packages/ea/76/75b1bb82e9bad3e3d656556eaa353d8cd17c4254393b08ec9786ac8ed273/pydot-1.4.2-py2.py3-none-any.whl\n",
      "Requirement already satisfied: pygments>=2.4; extra == \"visualization\" in /Users/wiameouzarf/opt/anaconda3/lib/python3.7/site-packages (from qiskit[visualization]) (2.4.2)\n",
      "Requirement already satisfied: matplotlib>=2.1; extra == \"visualization\" in /Users/wiameouzarf/opt/anaconda3/lib/python3.7/site-packages (from qiskit[visualization]) (3.1.1)\n",
      "Requirement already satisfied: seaborn>=0.9.0; extra == \"visualization\" in /Users/wiameouzarf/opt/anaconda3/lib/python3.7/site-packages (from qiskit[visualization]) (0.9.0)\n",
      "Requirement already satisfied: python-dateutil>=2.8.0 in /Users/wiameouzarf/opt/anaconda3/lib/python3.7/site-packages (from qiskit-terra==0.18.3->qiskit[visualization]) (2.8.0)\n",
      "Requirement already satisfied: tweedledum<2.0,>=1.1 in /Users/wiameouzarf/opt/anaconda3/lib/python3.7/site-packages (from qiskit-terra==0.18.3->qiskit[visualization]) (1.1.1)\n",
      "Requirement already satisfied: sympy>=1.3 in /Users/wiameouzarf/opt/anaconda3/lib/python3.7/site-packages (from qiskit-terra==0.18.3->qiskit[visualization]) (1.4)\n",
      "Requirement already satisfied: fastjsonschema>=2.10 in /Users/wiameouzarf/opt/anaconda3/lib/python3.7/site-packages (from qiskit-terra==0.18.3->qiskit[visualization]) (2.15.1)\n",
      "Requirement already satisfied: symengine>0.7; platform_machine == \"x86_64\" or platform_machine == \"aarch64\" or platform_machine == \"ppc64le\" or platform_machine == \"amd64\" or platform_machine == \"arm64\" in /Users/wiameouzarf/opt/anaconda3/lib/python3.7/site-packages (from qiskit-terra==0.18.3->qiskit[visualization]) (0.8.1)\n",
      "Requirement already satisfied: numpy>=1.17 in /Users/wiameouzarf/opt/anaconda3/lib/python3.7/site-packages (from qiskit-terra==0.18.3->qiskit[visualization]) (1.19.5)\n",
      "Requirement already satisfied: scipy>=1.4 in /Users/wiameouzarf/opt/anaconda3/lib/python3.7/site-packages (from qiskit-terra==0.18.3->qiskit[visualization]) (1.7.2)\n",
      "Requirement already satisfied: jsonschema>=2.6 in /Users/wiameouzarf/opt/anaconda3/lib/python3.7/site-packages (from qiskit-terra==0.18.3->qiskit[visualization]) (3.0.2)\n",
      "Requirement already satisfied: python-constraint>=1.4 in /Users/wiameouzarf/opt/anaconda3/lib/python3.7/site-packages (from qiskit-terra==0.18.3->qiskit[visualization]) (1.4.0)\n",
      "Requirement already satisfied: ply>=3.10 in /Users/wiameouzarf/opt/anaconda3/lib/python3.7/site-packages (from qiskit-terra==0.18.3->qiskit[visualization]) (3.11)\n",
      "Requirement already satisfied: retworkx>=0.9.0 in /Users/wiameouzarf/opt/anaconda3/lib/python3.7/site-packages (from qiskit-terra==0.18.3->qiskit[visualization]) (0.10.2)\n",
      "Requirement already satisfied: dill>=0.3 in /Users/wiameouzarf/opt/anaconda3/lib/python3.7/site-packages (from qiskit-terra==0.18.3->qiskit[visualization]) (0.3.4)\n",
      "Requirement already satisfied: psutil>=5 in /Users/wiameouzarf/opt/anaconda3/lib/python3.7/site-packages (from qiskit-terra==0.18.3->qiskit[visualization]) (5.6.3)\n",
      "Requirement already satisfied: urllib3>=1.21.1 in /Users/wiameouzarf/opt/anaconda3/lib/python3.7/site-packages (from qiskit-ibmq-provider==0.17.0->qiskit[visualization]) (1.24.2)\n",
      "Requirement already satisfied: requests-ntlm>=1.1.0 in /Users/wiameouzarf/opt/anaconda3/lib/python3.7/site-packages (from qiskit-ibmq-provider==0.17.0->qiskit[visualization]) (1.1.0)\n",
      "Requirement already satisfied: websocket-client>=1.0.1 in /Users/wiameouzarf/opt/anaconda3/lib/python3.7/site-packages (from qiskit-ibmq-provider==0.17.0->qiskit[visualization]) (1.2.1)\n",
      "Requirement already satisfied: requests>=2.19 in /Users/wiameouzarf/opt/anaconda3/lib/python3.7/site-packages (from qiskit-ibmq-provider==0.17.0->qiskit[visualization]) (2.22.0)\n",
      "Requirement already satisfied: setuptools>=40.1.0 in /Users/wiameouzarf/opt/anaconda3/lib/python3.7/site-packages (from qiskit-ignis==0.6.0->qiskit[visualization]) (41.4.0)\n",
      "Requirement already satisfied: docplex>=2.21.207 in /Users/wiameouzarf/opt/anaconda3/lib/python3.7/site-packages (from qiskit-aqua==0.9.5->qiskit[visualization]) (2.22.213)\n",
      "Requirement already satisfied: quandl in /Users/wiameouzarf/opt/anaconda3/lib/python3.7/site-packages (from qiskit-aqua==0.9.5->qiskit[visualization]) (3.6.2)\n",
      "Requirement already satisfied: yfinance>=0.1.62 in /Users/wiameouzarf/opt/anaconda3/lib/python3.7/site-packages (from qiskit-aqua==0.9.5->qiskit[visualization]) (0.1.64)\n",
      "Requirement already satisfied: fastdtw<=0.3.4 in /Users/wiameouzarf/opt/anaconda3/lib/python3.7/site-packages (from qiskit-aqua==0.9.5->qiskit[visualization]) (0.3.4)\n",
      "Requirement already satisfied: scikit-learn>=0.20.0 in /Users/wiameouzarf/opt/anaconda3/lib/python3.7/site-packages (from qiskit-aqua==0.9.5->qiskit[visualization]) (0.21.3)\n",
      "Requirement already satisfied: pandas in /Users/wiameouzarf/opt/anaconda3/lib/python3.7/site-packages (from qiskit-aqua==0.9.5->qiskit[visualization]) (0.25.1)\n",
      "Requirement already satisfied: dlx<=1.0.4 in /Users/wiameouzarf/opt/anaconda3/lib/python3.7/site-packages (from qiskit-aqua==0.9.5->qiskit[visualization]) (1.0.4)\n",
      "Requirement already satisfied: h5py<3.3.0 in /Users/wiameouzarf/opt/anaconda3/lib/python3.7/site-packages (from qiskit-aqua==0.9.5->qiskit[visualization]) (3.1.0)\n",
      "Requirement already satisfied: ipython>=4.0.0; python_version >= \"3.3\" in /Users/wiameouzarf/opt/anaconda3/lib/python3.7/site-packages (from ipywidgets>=7.3.0; extra == \"visualization\"->qiskit[visualization]) (7.8.0)\n",
      "Requirement already satisfied: widgetsnbextension~=3.5.0 in /Users/wiameouzarf/opt/anaconda3/lib/python3.7/site-packages (from ipywidgets>=7.3.0; extra == \"visualization\"->qiskit[visualization]) (3.5.1)\n",
      "Requirement already satisfied: nbformat>=4.2.0 in /Users/wiameouzarf/opt/anaconda3/lib/python3.7/site-packages (from ipywidgets>=7.3.0; extra == \"visualization\"->qiskit[visualization]) (4.4.0)\n",
      "Requirement already satisfied: ipykernel>=4.5.1 in /Users/wiameouzarf/opt/anaconda3/lib/python3.7/site-packages (from ipywidgets>=7.3.0; extra == \"visualization\"->qiskit[visualization]) (5.1.2)\n",
      "Requirement already satisfied: traitlets>=4.3.1 in /Users/wiameouzarf/opt/anaconda3/lib/python3.7/site-packages (from ipywidgets>=7.3.0; extra == \"visualization\"->qiskit[visualization]) (4.3.3)\n",
      "Requirement already satisfied: pyparsing>=2.1.4 in /Users/wiameouzarf/opt/anaconda3/lib/python3.7/site-packages (from pydot; extra == \"visualization\"->qiskit[visualization]) (2.4.2)\n",
      "Requirement already satisfied: cycler>=0.10 in /Users/wiameouzarf/opt/anaconda3/lib/python3.7/site-packages (from matplotlib>=2.1; extra == \"visualization\"->qiskit[visualization]) (0.10.0)\n",
      "Requirement already satisfied: kiwisolver>=1.0.1 in /Users/wiameouzarf/opt/anaconda3/lib/python3.7/site-packages (from matplotlib>=2.1; extra == \"visualization\"->qiskit[visualization]) (1.1.0)\n",
      "Requirement already satisfied: six>=1.5 in /Users/wiameouzarf/opt/anaconda3/lib/python3.7/site-packages (from python-dateutil>=2.8.0->qiskit-terra==0.18.3->qiskit[visualization]) (1.15.0)\n",
      "Requirement already satisfied: mpmath>=0.19 in /Users/wiameouzarf/opt/anaconda3/lib/python3.7/site-packages (from sympy>=1.3->qiskit-terra==0.18.3->qiskit[visualization]) (1.1.0)\n",
      "Requirement already satisfied: pyrsistent>=0.14.0 in /Users/wiameouzarf/opt/anaconda3/lib/python3.7/site-packages (from jsonschema>=2.6->qiskit-terra==0.18.3->qiskit[visualization]) (0.15.4)\n",
      "Requirement already satisfied: attrs>=17.4.0 in /Users/wiameouzarf/opt/anaconda3/lib/python3.7/site-packages (from jsonschema>=2.6->qiskit-terra==0.18.3->qiskit[visualization]) (19.2.0)\n",
      "Requirement already satisfied: ntlm-auth>=1.0.2 in /Users/wiameouzarf/opt/anaconda3/lib/python3.7/site-packages (from requests-ntlm>=1.1.0->qiskit-ibmq-provider==0.17.0->qiskit[visualization]) (1.5.0)\n",
      "Requirement already satisfied: cryptography>=1.3 in /Users/wiameouzarf/opt/anaconda3/lib/python3.7/site-packages (from requests-ntlm>=1.1.0->qiskit-ibmq-provider==0.17.0->qiskit[visualization]) (2.7)\n",
      "Requirement already satisfied: idna<2.9,>=2.5 in /Users/wiameouzarf/opt/anaconda3/lib/python3.7/site-packages (from requests>=2.19->qiskit-ibmq-provider==0.17.0->qiskit[visualization]) (2.8)\n",
      "Requirement already satisfied: chardet<3.1.0,>=3.0.2 in /Users/wiameouzarf/opt/anaconda3/lib/python3.7/site-packages (from requests>=2.19->qiskit-ibmq-provider==0.17.0->qiskit[visualization]) (3.0.4)\n"
     ]
    },
    {
     "name": "stdout",
     "output_type": "stream",
     "text": [
      "Requirement already satisfied: certifi>=2017.4.17 in /Users/wiameouzarf/opt/anaconda3/lib/python3.7/site-packages (from requests>=2.19->qiskit-ibmq-provider==0.17.0->qiskit[visualization]) (2019.9.11)\n",
      "Requirement already satisfied: more-itertools in /Users/wiameouzarf/opt/anaconda3/lib/python3.7/site-packages (from quandl->qiskit-aqua==0.9.5->qiskit[visualization]) (7.2.0)\n",
      "Requirement already satisfied: inflection>=0.3.1 in /Users/wiameouzarf/opt/anaconda3/lib/python3.7/site-packages (from quandl->qiskit-aqua==0.9.5->qiskit[visualization]) (0.5.1)\n",
      "Requirement already satisfied: multitasking>=0.0.7 in /Users/wiameouzarf/opt/anaconda3/lib/python3.7/site-packages (from yfinance>=0.1.62->qiskit-aqua==0.9.5->qiskit[visualization]) (0.0.9)\n",
      "Requirement already satisfied: lxml>=4.5.1 in /Users/wiameouzarf/opt/anaconda3/lib/python3.7/site-packages (from yfinance>=0.1.62->qiskit-aqua==0.9.5->qiskit[visualization]) (4.6.4)\n",
      "Requirement already satisfied: joblib>=0.11 in /Users/wiameouzarf/opt/anaconda3/lib/python3.7/site-packages (from scikit-learn>=0.20.0->qiskit-aqua==0.9.5->qiskit[visualization]) (0.13.2)\n",
      "Requirement already satisfied: pytz>=2017.2 in /Users/wiameouzarf/opt/anaconda3/lib/python3.7/site-packages (from pandas->qiskit-aqua==0.9.5->qiskit[visualization]) (2019.3)\n",
      "Requirement already satisfied: cached-property; python_version < \"3.8\" in /Users/wiameouzarf/opt/anaconda3/lib/python3.7/site-packages (from h5py<3.3.0->qiskit-aqua==0.9.5->qiskit[visualization]) (1.5.2)\n",
      "Requirement already satisfied: backcall in /Users/wiameouzarf/opt/anaconda3/lib/python3.7/site-packages (from ipython>=4.0.0; python_version >= \"3.3\"->ipywidgets>=7.3.0; extra == \"visualization\"->qiskit[visualization]) (0.1.0)\n",
      "Requirement already satisfied: pexpect; sys_platform != \"win32\" in /Users/wiameouzarf/opt/anaconda3/lib/python3.7/site-packages (from ipython>=4.0.0; python_version >= \"3.3\"->ipywidgets>=7.3.0; extra == \"visualization\"->qiskit[visualization]) (4.7.0)\n",
      "Requirement already satisfied: appnope; sys_platform == \"darwin\" in /Users/wiameouzarf/opt/anaconda3/lib/python3.7/site-packages (from ipython>=4.0.0; python_version >= \"3.3\"->ipywidgets>=7.3.0; extra == \"visualization\"->qiskit[visualization]) (0.1.0)\n",
      "Requirement already satisfied: jedi>=0.10 in /Users/wiameouzarf/opt/anaconda3/lib/python3.7/site-packages (from ipython>=4.0.0; python_version >= \"3.3\"->ipywidgets>=7.3.0; extra == \"visualization\"->qiskit[visualization]) (0.15.1)\n",
      "Requirement already satisfied: prompt-toolkit<2.1.0,>=2.0.0 in /Users/wiameouzarf/opt/anaconda3/lib/python3.7/site-packages (from ipython>=4.0.0; python_version >= \"3.3\"->ipywidgets>=7.3.0; extra == \"visualization\"->qiskit[visualization]) (2.0.10)\n",
      "Requirement already satisfied: pickleshare in /Users/wiameouzarf/opt/anaconda3/lib/python3.7/site-packages (from ipython>=4.0.0; python_version >= \"3.3\"->ipywidgets>=7.3.0; extra == \"visualization\"->qiskit[visualization]) (0.7.5)\n",
      "Requirement already satisfied: decorator in /Users/wiameouzarf/opt/anaconda3/lib/python3.7/site-packages (from ipython>=4.0.0; python_version >= \"3.3\"->ipywidgets>=7.3.0; extra == \"visualization\"->qiskit[visualization]) (4.4.0)\n",
      "Requirement already satisfied: notebook>=4.4.1 in /Users/wiameouzarf/opt/anaconda3/lib/python3.7/site-packages (from widgetsnbextension~=3.5.0->ipywidgets>=7.3.0; extra == \"visualization\"->qiskit[visualization]) (6.0.1)\n",
      "Requirement already satisfied: ipython-genutils in /Users/wiameouzarf/opt/anaconda3/lib/python3.7/site-packages (from nbformat>=4.2.0->ipywidgets>=7.3.0; extra == \"visualization\"->qiskit[visualization]) (0.2.0)\n",
      "Requirement already satisfied: jupyter-core in /Users/wiameouzarf/opt/anaconda3/lib/python3.7/site-packages (from nbformat>=4.2.0->ipywidgets>=7.3.0; extra == \"visualization\"->qiskit[visualization]) (4.5.0)\n",
      "Requirement already satisfied: jupyter-client in /Users/wiameouzarf/opt/anaconda3/lib/python3.7/site-packages (from ipykernel>=4.5.1->ipywidgets>=7.3.0; extra == \"visualization\"->qiskit[visualization]) (5.3.3)\n",
      "Requirement already satisfied: tornado>=4.2 in /Users/wiameouzarf/opt/anaconda3/lib/python3.7/site-packages (from ipykernel>=4.5.1->ipywidgets>=7.3.0; extra == \"visualization\"->qiskit[visualization]) (5.1.1)\n",
      "Requirement already satisfied: asn1crypto>=0.21.0 in /Users/wiameouzarf/opt/anaconda3/lib/python3.7/site-packages (from cryptography>=1.3->requests-ntlm>=1.1.0->qiskit-ibmq-provider==0.17.0->qiskit[visualization]) (1.0.1)\n",
      "Requirement already satisfied: cffi!=1.11.3,>=1.8 in /Users/wiameouzarf/opt/anaconda3/lib/python3.7/site-packages (from cryptography>=1.3->requests-ntlm>=1.1.0->qiskit-ibmq-provider==0.17.0->qiskit[visualization]) (1.12.3)\n",
      "Requirement already satisfied: ptyprocess>=0.5 in /Users/wiameouzarf/opt/anaconda3/lib/python3.7/site-packages (from pexpect; sys_platform != \"win32\"->ipython>=4.0.0; python_version >= \"3.3\"->ipywidgets>=7.3.0; extra == \"visualization\"->qiskit[visualization]) (0.6.0)\n",
      "Requirement already satisfied: parso>=0.5.0 in /Users/wiameouzarf/opt/anaconda3/lib/python3.7/site-packages (from jedi>=0.10->ipython>=4.0.0; python_version >= \"3.3\"->ipywidgets>=7.3.0; extra == \"visualization\"->qiskit[visualization]) (0.5.1)\n",
      "Requirement already satisfied: wcwidth in /Users/wiameouzarf/opt/anaconda3/lib/python3.7/site-packages (from prompt-toolkit<2.1.0,>=2.0.0->ipython>=4.0.0; python_version >= \"3.3\"->ipywidgets>=7.3.0; extra == \"visualization\"->qiskit[visualization]) (0.1.7)\n",
      "Requirement already satisfied: terminado>=0.8.1 in /Users/wiameouzarf/opt/anaconda3/lib/python3.7/site-packages (from notebook>=4.4.1->widgetsnbextension~=3.5.0->ipywidgets>=7.3.0; extra == \"visualization\"->qiskit[visualization]) (0.8.2)\n",
      "Requirement already satisfied: prometheus-client in /Users/wiameouzarf/opt/anaconda3/lib/python3.7/site-packages (from notebook>=4.4.1->widgetsnbextension~=3.5.0->ipywidgets>=7.3.0; extra == \"visualization\"->qiskit[visualization]) (0.7.1)\n",
      "Requirement already satisfied: jinja2 in /Users/wiameouzarf/opt/anaconda3/lib/python3.7/site-packages (from notebook>=4.4.1->widgetsnbextension~=3.5.0->ipywidgets>=7.3.0; extra == \"visualization\"->qiskit[visualization]) (2.10.3)\n",
      "Requirement already satisfied: pyzmq>=17 in /Users/wiameouzarf/opt/anaconda3/lib/python3.7/site-packages (from notebook>=4.4.1->widgetsnbextension~=3.5.0->ipywidgets>=7.3.0; extra == \"visualization\"->qiskit[visualization]) (22.0.2)\n",
      "Requirement already satisfied: nbconvert in /Users/wiameouzarf/opt/anaconda3/lib/python3.7/site-packages (from notebook>=4.4.1->widgetsnbextension~=3.5.0->ipywidgets>=7.3.0; extra == \"visualization\"->qiskit[visualization]) (5.6.0)\n",
      "Requirement already satisfied: Send2Trash in /Users/wiameouzarf/opt/anaconda3/lib/python3.7/site-packages (from notebook>=4.4.1->widgetsnbextension~=3.5.0->ipywidgets>=7.3.0; extra == \"visualization\"->qiskit[visualization]) (1.5.0)\n",
      "Requirement already satisfied: pycparser in /Users/wiameouzarf/opt/anaconda3/lib/python3.7/site-packages (from cffi!=1.11.3,>=1.8->cryptography>=1.3->requests-ntlm>=1.1.0->qiskit-ibmq-provider==0.17.0->qiskit[visualization]) (2.19)\n",
      "Requirement already satisfied: MarkupSafe>=0.23 in /Users/wiameouzarf/opt/anaconda3/lib/python3.7/site-packages (from jinja2->notebook>=4.4.1->widgetsnbextension~=3.5.0->ipywidgets>=7.3.0; extra == \"visualization\"->qiskit[visualization]) (1.1.1)\n",
      "Requirement already satisfied: testpath in /Users/wiameouzarf/opt/anaconda3/lib/python3.7/site-packages (from nbconvert->notebook>=4.4.1->widgetsnbextension~=3.5.0->ipywidgets>=7.3.0; extra == \"visualization\"->qiskit[visualization]) (0.4.2)\n",
      "Requirement already satisfied: entrypoints>=0.2.2 in /Users/wiameouzarf/opt/anaconda3/lib/python3.7/site-packages (from nbconvert->notebook>=4.4.1->widgetsnbextension~=3.5.0->ipywidgets>=7.3.0; extra == \"visualization\"->qiskit[visualization]) (0.3)\n",
      "Requirement already satisfied: mistune<2,>=0.8.1 in /Users/wiameouzarf/opt/anaconda3/lib/python3.7/site-packages (from nbconvert->notebook>=4.4.1->widgetsnbextension~=3.5.0->ipywidgets>=7.3.0; extra == \"visualization\"->qiskit[visualization]) (0.8.4)\n",
      "Requirement already satisfied: defusedxml in /Users/wiameouzarf/opt/anaconda3/lib/python3.7/site-packages (from nbconvert->notebook>=4.4.1->widgetsnbextension~=3.5.0->ipywidgets>=7.3.0; extra == \"visualization\"->qiskit[visualization]) (0.6.0)\n",
      "Requirement already satisfied: pandocfilters>=1.4.1 in /Users/wiameouzarf/opt/anaconda3/lib/python3.7/site-packages (from nbconvert->notebook>=4.4.1->widgetsnbextension~=3.5.0->ipywidgets>=7.3.0; extra == \"visualization\"->qiskit[visualization]) (1.4.2)\n",
      "Requirement already satisfied: bleach in /Users/wiameouzarf/opt/anaconda3/lib/python3.7/site-packages (from nbconvert->notebook>=4.4.1->widgetsnbextension~=3.5.0->ipywidgets>=7.3.0; extra == \"visualization\"->qiskit[visualization]) (3.1.0)\n",
      "Requirement already satisfied: webencodings in /Users/wiameouzarf/opt/anaconda3/lib/python3.7/site-packages (from bleach->nbconvert->notebook>=4.4.1->widgetsnbextension~=3.5.0->ipywidgets>=7.3.0; extra == \"visualization\"->qiskit[visualization]) (0.5.1)\n"
     ]
    },
    {
     "name": "stdout",
     "output_type": "stream",
     "text": [
      "Building wheels for collected packages: pylatexenc\n",
      "  Building wheel for pylatexenc (setup.py) ... \u001b[?25ldone\n",
      "\u001b[?25h  Created wheel for pylatexenc: filename=pylatexenc-2.10-cp37-none-any.whl size=136823 sha256=00cbb3242a02b9195015495235097848a8b03afc4f8d0d4aa447582f19b7cf7d\n",
      "  Stored in directory: /Users/wiameouzarf/Library/Caches/pip/wheels/3d/0a/64/533613e8165f1fc42f8f727cd12bb240940e2bd3bae7829021\n",
      "Successfully built pylatexenc\n",
      "Installing collected packages: pylatexenc, pydot\n",
      "Successfully installed pydot-1.4.2 pylatexenc-2.10\n"
     ]
    }
   ],
   "source": [
    "!pip install qiskit\n",
    "!pip install qiskit[visualization]"
   ]
  },
  {
   "cell_type": "code",
   "execution_count": 3,
   "metadata": {},
   "outputs": [],
   "source": [
    "import qiskit"
   ]
  },
  {
   "cell_type": "code",
   "execution_count": 4,
   "metadata": {
    "executionInfo": {
     "elapsed": 2015,
     "status": "ok",
     "timestamp": 1636454550512,
     "user": {
      "displayName": "MOHAMED OUZARF",
      "photoUrl": "https://lh3.googleusercontent.com/a-/AOh14GjqOe87DDkKIuMqyJnj_be11wNskc-Z_LdlxCai-Q=s64",
      "userId": "07627566397046241781"
     },
     "user_tz": -60
    },
    "id": "By0kKXEgHHi0"
   },
   "outputs": [],
   "source": [
    "import numpy as np\n",
    "from qiskit import QuantumCircuit, transpile\n",
    "from qiskit.providers.aer import AerSimulator\n",
    "from qiskit.visualization import plot_histogram"
   ]
  },
  {
   "cell_type": "markdown",
   "metadata": {
    "id": "moujoT2KgkAj"
   },
   "source": [
    "## 1. Build 設計量子電路\n"
   ]
  },
  {
   "cell_type": "code",
   "execution_count": 6,
   "metadata": {
    "colab": {
     "base_uri": "https://localhost:8080/"
    },
    "executionInfo": {
     "elapsed": 488,
     "status": "ok",
     "timestamp": 1636454567289,
     "user": {
      "displayName": "MOHAMED OUZARF",
      "photoUrl": "https://lh3.googleusercontent.com/a-/AOh14GjqOe87DDkKIuMqyJnj_be11wNskc-Z_LdlxCai-Q=s64",
      "userId": "07627566397046241781"
     },
     "user_tz": -60
    },
    "id": "o3ibCMlzHQ_Z",
    "outputId": "e87e52d3-4dd0-4fd4-d719-ff5212ad0f2d"
   },
   "outputs": [
    {
     "data": {
      "text/plain": [
       "<qiskit.circuit.instructionset.InstructionSet at 0x1401f38d0>"
      ]
     },
     "execution_count": 6,
     "metadata": {},
     "output_type": "execute_result"
    }
   ],
   "source": [
    "# Use Aer's qasm_simulator\n",
    "simulator = AerSimulator()\n",
    "\n",
    "# Create a Quantum Circuit acting on the q register\n",
    "circuit = QuantumCircuit(2, 2)\n",
    "\n",
    "# Add a H gate on qubit 0\n",
    "circuit.h(0)\n",
    "\n",
    "# Add a CX (CNOT) gate on control qubit 0 and target qubit 1\n",
    "circuit.cx(0, 1)\n",
    "\n",
    "# Map the quantum measurement to the classical bits\n",
    "circuit.measure([0,1], [0,1])"
   ]
  },
  {
   "cell_type": "markdown",
   "metadata": {
    "id": "ERqOJy2zhggB"
   },
   "source": [
    "## 量子電路視覺化"
   ]
  },
  {
   "cell_type": "code",
   "execution_count": 8,
   "metadata": {
    "colab": {
     "base_uri": "https://localhost:8080/",
     "height": 185
    },
    "executionInfo": {
     "elapsed": 690,
     "status": "ok",
     "timestamp": 1636454575852,
     "user": {
      "displayName": "MOHAMED OUZARF",
      "photoUrl": "https://lh3.googleusercontent.com/a-/AOh14GjqOe87DDkKIuMqyJnj_be11wNskc-Z_LdlxCai-Q=s64",
      "userId": "07627566397046241781"
     },
     "user_tz": -60
    },
    "id": "kcwGOuiSHbzi",
    "outputId": "1a18ca1f-0749-49c1-b6ff-f1b1dbac27a4"
   },
   "outputs": [
    {
     "data": {
      "image/png": "[encoded data removed]",
      "text/plain": [
       "<Figure size 327.252x204.68 with 1 Axes>"
      ]
     },
     "execution_count": 8,
     "metadata": {},
     "output_type": "execute_result"
    }
   ],
   "source": [
    "# Draw the circuit\n",
    "circuit.draw('mpl')"
   ]
  },
  {
   "cell_type": "markdown",
   "metadata": {
    "id": "rCCBfABChsqX"
   },
   "source": [
    "## 2. Compile 編譯電路"
   ]
  },
  {
   "cell_type": "code",
   "execution_count": 9,
   "metadata": {
    "executionInfo": {
     "elapsed": 571,
     "status": "ok",
     "timestamp": 1636454593635,
     "user": {
      "displayName": "MOHAMED OUZARF",
      "photoUrl": "https://lh3.googleusercontent.com/a-/AOh14GjqOe87DDkKIuMqyJnj_be11wNskc-Z_LdlxCai-Q=s64",
      "userId": "07627566397046241781"
     },
     "user_tz": -60
    },
    "id": "AMddL5M4HUYg"
   },
   "outputs": [],
   "source": [
    "# compile the circuit down to low-level QASM instructions\n",
    "# supported by the backend (not needed for simple circuits)\n",
    "compiled_circuit = transpile(circuit, simulator)"
   ]
  },
  {
   "cell_type": "markdown",
   "metadata": {
    "id": "QvgrgpgBh34a"
   },
   "source": [
    "## 3. Run 執行"
   ]
  },
  {
   "cell_type": "code",
   "execution_count": 10,
   "metadata": {
    "executionInfo": {
     "elapsed": 507,
     "status": "ok",
     "timestamp": 1636454599605,
     "user": {
      "displayName": "MOHAMED OUZARF",
      "photoUrl": "https://lh3.googleusercontent.com/a-/AOh14GjqOe87DDkKIuMqyJnj_be11wNskc-Z_LdlxCai-Q=s64",
      "userId": "07627566397046241781"
     },
     "user_tz": -60
    },
    "id": "kQLGwxdBHYBB"
   },
   "outputs": [],
   "source": [
    "# Execute the circuit on the qasm simulator\n",
    "job = simulator.run(compiled_circuit, shots=1000)"
   ]
  },
  {
   "cell_type": "markdown",
   "metadata": {
    "id": "IDeHZJawiAkQ"
   },
   "source": [
    "## 4. Analyze 分析"
   ]
  },
  {
   "cell_type": "code",
   "execution_count": 11,
   "metadata": {
    "colab": {
     "base_uri": "https://localhost:8080/",
     "height": 383
    },
    "executionInfo": {
     "elapsed": 612,
     "status": "ok",
     "timestamp": 1636454604859,
     "user": {
      "displayName": "MOHAMED OUZARF",
      "photoUrl": "https://lh3.googleusercontent.com/a-/AOh14GjqOe87DDkKIuMqyJnj_be11wNskc-Z_LdlxCai-Q=s64",
      "userId": "07627566397046241781"
     },
     "user_tz": -60
    },
    "id": "GRudppfyHZdJ",
    "outputId": "9f1f6c16-cd6e-4255-eb1c-5483ee1d2d15"
   },
   "outputs": [
    {
     "name": "stdout",
     "output_type": "stream",
     "text": [
      "\n",
      "Total count for 00 and 11 are : {'00': 509, '11': 491}\n",
      "\n"
     ]
    },
    {
     "data": {
      "image/png": "[encoded data removed]",
      "text/plain": [
       "<Figure size 504x360 with 1 Axes>"
      ]
     },
     "execution_count": 11,
     "metadata": {},
     "output_type": "execute_result"
    }
   ],
   "source": [
    "# Grab results from the job\n",
    "result = job.result()\n",
    "\n",
    "# Returns counts\n",
    "counts = result.get_counts(circuit)\n",
    "print(f\"\\nTotal count for 00 and 11 are : {counts}\\n\")\n",
    "\n",
    "# Plot a histogram\n",
    "plot_histogram(counts)"
   ]
  },
  {
   "cell_type": "code",
   "execution_count": 12,
   "metadata": {
    "colab": {
     "base_uri": "https://localhost:8080/",
     "height": 560
    },
    "executionInfo": {
     "elapsed": 31180,
     "status": "ok",
     "timestamp": 1636454644793,
     "user": {
      "displayName": "MOHAMED OUZARF",
      "photoUrl": "https://lh3.googleusercontent.com/a-/AOh14GjqOe87DDkKIuMqyJnj_be11wNskc-Z_LdlxCai-Q=s64",
      "userId": "07627566397046241781"
     },
     "user_tz": -60
    },
    "id": "t4C5XOr-ijgV",
    "outputId": "886cbcea-3fa9-4260-b26f-42fbd2f86f61"
   },
   "outputs": [
    {
     "name": "stderr",
     "output_type": "stream",
     "text": [
      "/Users/wiameouzarf/opt/anaconda3/lib/python3.7/site-packages/qiskit/aqua/__init__.py:86: DeprecationWarning: The package qiskit.aqua is deprecated. It was moved/refactored to qiskit-terra For more information see <https://github.com/Qiskit/qiskit-aqua/blob/main/README.md#migration-guide>\n",
      "  warn_package('aqua', 'qiskit-terra')\n"
     ]
    },
    {
     "data": {
      "text/html": [
       "<h3>Version Information</h3><table><tr><th>Qiskit Software</th><th>Version</th></tr><tr><td><code>qiskit-terra</code></td><td>0.18.3</td></tr><tr><td><code>qiskit-aer</code></td><td>0.9.1</td></tr><tr><td><code>qiskit-ignis</code></td><td>0.6.0</td></tr><tr><td><code>qiskit-ibmq-provider</code></td><td>0.17.0</td></tr><tr><td><code>qiskit-aqua</code></td><td>0.9.5</td></tr><tr><td><code>qiskit</code></td><td>0.31.0</td></tr><tr><th>System information</th></tr><tr><td>Python</td><td>3.7.4 (default, Aug 13 2019, 15:17:50) \n",
       "[Clang 4.0.1 (tags/RELEASE_401/final)]</td></tr><tr><td>OS</td><td>Darwin</td></tr><tr><td>CPUs</td><td>4</td></tr><tr><td>Memory (Gb)</td><td>8.0</td></tr><tr><td colspan='2'>Tue Nov 09 19:32:27 2021 +01</td></tr></table>"
      ],
      "text/plain": [
       "<IPython.core.display.HTML object>"
      ]
     },
     "metadata": {},
     "output_type": "display_data"
    },
    {
     "data": {
      "text/html": [
       "<div style='width: 100%; background-color:#d5d9e0;padding-left: 10px; padding-bottom: 10px; padding-right: 10px; padding-top: 5px'><h3>This code is a part of Qiskit</h3><p>&copy; Copyright IBM 2017, 2021.</p><p>This code is licensed under the Apache License, Version 2.0. You may<br>obtain a copy of this license in the LICENSE.txt file in the root directory<br> of this source tree or at http://www.apache.org/licenses/LICENSE-2.0.<p>Any modifications or derivative works of this code must retain this<br>copyright notice, and modified files need to carry a notice indicating<br>that they have been altered from the originals.</p></div>"
      ],
      "text/plain": [
       "<IPython.core.display.HTML object>"
      ]
     },
     "metadata": {},
     "output_type": "display_data"
    }
   ],
   "source": [
    "import qiskit.tools.jupyter\n",
    "%qiskit_version_table\n",
    "%qiskit_copyright"
   ]
  },
  {
   "cell_type": "code",
   "execution_count": 13,
   "metadata": {
    "colab": {
     "base_uri": "https://localhost:8080/"
    },
    "executionInfo": {
     "elapsed": 20538,
     "status": "ok",
     "timestamp": 1636455425605,
     "user": {
      "displayName": "MOHAMED OUZARF",
      "photoUrl": "https://lh3.googleusercontent.com/a-/AOh14GjqOe87DDkKIuMqyJnj_be11wNskc-Z_LdlxCai-Q=s64",
      "userId": "07627566397046241781"
     },
     "user_tz": -60
    },
    "id": "1WercHXcU-4q",
    "outputId": "82534987-c7f7-43c5-d69a-2729556c4a02"
   },
   "outputs": [
    {
     "name": "stdout",
     "output_type": "stream",
     "text": [
      "Collecting git+https://github.com/qiskit-community/qiskit-textbook.git#subdirectory=qiskit-textbook-src\n",
      "  Cloning https://github.com/qiskit-community/qiskit-textbook.git to /private/var/folders/f6/flpxj1k51d3c1nxtgfzmkdx40000gn/T/pip-req-build-d211uyzs\n",
      "  Running command git clone -q https://github.com/qiskit-community/qiskit-textbook.git /private/var/folders/f6/flpxj1k51d3c1nxtgfzmkdx40000gn/T/pip-req-build-d211uyzs\n",
      "Requirement already satisfied: qiskit in /Users/wiameouzarf/opt/anaconda3/lib/python3.7/site-packages (from qiskit-textbook==0.1.0) (0.31.0)\n",
      "Requirement already satisfied: ipython in /Users/wiameouzarf/opt/anaconda3/lib/python3.7/site-packages (from qiskit-textbook==0.1.0) (7.8.0)\n",
      "Requirement already satisfied: ipywidgets in /Users/wiameouzarf/opt/anaconda3/lib/python3.7/site-packages (from qiskit-textbook==0.1.0) (7.5.1)\n",
      "Requirement already satisfied: numpy in /Users/wiameouzarf/opt/anaconda3/lib/python3.7/site-packages (from qiskit-textbook==0.1.0) (1.19.5)\n",
      "Requirement already satisfied: matplotlib in /Users/wiameouzarf/opt/anaconda3/lib/python3.7/site-packages (from qiskit-textbook==0.1.0) (3.1.1)\n",
      "Requirement already satisfied: qiskit-ibmq-provider==0.17.0 in /Users/wiameouzarf/opt/anaconda3/lib/python3.7/site-packages (from qiskit->qiskit-textbook==0.1.0) (0.17.0)\n",
      "Requirement already satisfied: qiskit-aqua==0.9.5 in /Users/wiameouzarf/opt/anaconda3/lib/python3.7/site-packages (from qiskit->qiskit-textbook==0.1.0) (0.9.5)\n",
      "Requirement already satisfied: qiskit-terra==0.18.3 in /Users/wiameouzarf/opt/anaconda3/lib/python3.7/site-packages (from qiskit->qiskit-textbook==0.1.0) (0.18.3)\n",
      "Requirement already satisfied: qiskit-ignis==0.6.0 in /Users/wiameouzarf/opt/anaconda3/lib/python3.7/site-packages (from qiskit->qiskit-textbook==0.1.0) (0.6.0)\n",
      "Requirement already satisfied: qiskit-aer==0.9.1 in /Users/wiameouzarf/opt/anaconda3/lib/python3.7/site-packages (from qiskit->qiskit-textbook==0.1.0) (0.9.1)\n",
      "Requirement already satisfied: prompt-toolkit<2.1.0,>=2.0.0 in /Users/wiameouzarf/opt/anaconda3/lib/python3.7/site-packages (from ipython->qiskit-textbook==0.1.0) (2.0.10)\n",
      "Requirement already satisfied: appnope; sys_platform == \"darwin\" in /Users/wiameouzarf/opt/anaconda3/lib/python3.7/site-packages (from ipython->qiskit-textbook==0.1.0) (0.1.0)\n",
      "Requirement already satisfied: jedi>=0.10 in /Users/wiameouzarf/opt/anaconda3/lib/python3.7/site-packages (from ipython->qiskit-textbook==0.1.0) (0.15.1)\n",
      "Requirement already satisfied: setuptools>=18.5 in /Users/wiameouzarf/opt/anaconda3/lib/python3.7/site-packages (from ipython->qiskit-textbook==0.1.0) (41.4.0)\n",
      "Requirement already satisfied: pygments in /Users/wiameouzarf/opt/anaconda3/lib/python3.7/site-packages (from ipython->qiskit-textbook==0.1.0) (2.4.2)\n",
      "Requirement already satisfied: pickleshare in /Users/wiameouzarf/opt/anaconda3/lib/python3.7/site-packages (from ipython->qiskit-textbook==0.1.0) (0.7.5)\n",
      "Requirement already satisfied: pexpect; sys_platform != \"win32\" in /Users/wiameouzarf/opt/anaconda3/lib/python3.7/site-packages (from ipython->qiskit-textbook==0.1.0) (4.7.0)\n",
      "Requirement already satisfied: decorator in /Users/wiameouzarf/opt/anaconda3/lib/python3.7/site-packages (from ipython->qiskit-textbook==0.1.0) (4.4.0)\n",
      "Requirement already satisfied: backcall in /Users/wiameouzarf/opt/anaconda3/lib/python3.7/site-packages (from ipython->qiskit-textbook==0.1.0) (0.1.0)\n",
      "Requirement already satisfied: traitlets>=4.2 in /Users/wiameouzarf/opt/anaconda3/lib/python3.7/site-packages (from ipython->qiskit-textbook==0.1.0) (4.3.3)\n",
      "Requirement already satisfied: widgetsnbextension~=3.5.0 in /Users/wiameouzarf/opt/anaconda3/lib/python3.7/site-packages (from ipywidgets->qiskit-textbook==0.1.0) (3.5.1)\n",
      "Requirement already satisfied: nbformat>=4.2.0 in /Users/wiameouzarf/opt/anaconda3/lib/python3.7/site-packages (from ipywidgets->qiskit-textbook==0.1.0) (4.4.0)\n",
      "Requirement already satisfied: ipykernel>=4.5.1 in /Users/wiameouzarf/opt/anaconda3/lib/python3.7/site-packages (from ipywidgets->qiskit-textbook==0.1.0) (5.1.2)\n",
      "Requirement already satisfied: cycler>=0.10 in /Users/wiameouzarf/opt/anaconda3/lib/python3.7/site-packages (from matplotlib->qiskit-textbook==0.1.0) (0.10.0)\n",
      "Requirement already satisfied: kiwisolver>=1.0.1 in /Users/wiameouzarf/opt/anaconda3/lib/python3.7/site-packages (from matplotlib->qiskit-textbook==0.1.0) (1.1.0)\n",
      "Requirement already satisfied: pyparsing!=2.0.4,!=2.1.2,!=2.1.6,>=2.0.1 in /Users/wiameouzarf/opt/anaconda3/lib/python3.7/site-packages (from matplotlib->qiskit-textbook==0.1.0) (2.4.2)\n",
      "Requirement already satisfied: python-dateutil>=2.1 in /Users/wiameouzarf/opt/anaconda3/lib/python3.7/site-packages (from matplotlib->qiskit-textbook==0.1.0) (2.8.0)\n",
      "Requirement already satisfied: requests>=2.19 in /Users/wiameouzarf/opt/anaconda3/lib/python3.7/site-packages (from qiskit-ibmq-provider==0.17.0->qiskit->qiskit-textbook==0.1.0) (2.22.0)\n",
      "Requirement already satisfied: urllib3>=1.21.1 in /Users/wiameouzarf/opt/anaconda3/lib/python3.7/site-packages (from qiskit-ibmq-provider==0.17.0->qiskit->qiskit-textbook==0.1.0) (1.24.2)\n",
      "Requirement already satisfied: requests-ntlm>=1.1.0 in /Users/wiameouzarf/opt/anaconda3/lib/python3.7/site-packages (from qiskit-ibmq-provider==0.17.0->qiskit->qiskit-textbook==0.1.0) (1.1.0)\n",
      "Requirement already satisfied: websocket-client>=1.0.1 in /Users/wiameouzarf/opt/anaconda3/lib/python3.7/site-packages (from qiskit-ibmq-provider==0.17.0->qiskit->qiskit-textbook==0.1.0) (1.2.1)\n",
      "Requirement already satisfied: yfinance>=0.1.62 in /Users/wiameouzarf/opt/anaconda3/lib/python3.7/site-packages (from qiskit-aqua==0.9.5->qiskit->qiskit-textbook==0.1.0) (0.1.64)\n",
      "Requirement already satisfied: h5py<3.3.0 in /Users/wiameouzarf/opt/anaconda3/lib/python3.7/site-packages (from qiskit-aqua==0.9.5->qiskit->qiskit-textbook==0.1.0) (3.1.0)\n",
      "Requirement already satisfied: psutil>=5 in /Users/wiameouzarf/opt/anaconda3/lib/python3.7/site-packages (from qiskit-aqua==0.9.5->qiskit->qiskit-textbook==0.1.0) (5.6.3)\n",
      "Requirement already satisfied: retworkx>=0.8.0 in /Users/wiameouzarf/opt/anaconda3/lib/python3.7/site-packages (from qiskit-aqua==0.9.5->qiskit->qiskit-textbook==0.1.0) (0.10.2)\n",
      "Requirement already satisfied: sympy>=1.3 in /Users/wiameouzarf/opt/anaconda3/lib/python3.7/site-packages (from qiskit-aqua==0.9.5->qiskit->qiskit-textbook==0.1.0) (1.4)\n",
      "Requirement already satisfied: scikit-learn>=0.20.0 in /Users/wiameouzarf/opt/anaconda3/lib/python3.7/site-packages (from qiskit-aqua==0.9.5->qiskit->qiskit-textbook==0.1.0) (0.21.3)\n",
      "Requirement already satisfied: pandas in /Users/wiameouzarf/opt/anaconda3/lib/python3.7/site-packages (from qiskit-aqua==0.9.5->qiskit->qiskit-textbook==0.1.0) (0.25.1)\n",
      "Requirement already satisfied: quandl in /Users/wiameouzarf/opt/anaconda3/lib/python3.7/site-packages (from qiskit-aqua==0.9.5->qiskit->qiskit-textbook==0.1.0) (3.6.2)\n",
      "Requirement already satisfied: docplex>=2.21.207 in /Users/wiameouzarf/opt/anaconda3/lib/python3.7/site-packages (from qiskit-aqua==0.9.5->qiskit->qiskit-textbook==0.1.0) (2.22.213)\n",
      "Requirement already satisfied: scipy>=1.4 in /Users/wiameouzarf/opt/anaconda3/lib/python3.7/site-packages (from qiskit-aqua==0.9.5->qiskit->qiskit-textbook==0.1.0) (1.7.2)\n",
      "Requirement already satisfied: dlx<=1.0.4 in /Users/wiameouzarf/opt/anaconda3/lib/python3.7/site-packages (from qiskit-aqua==0.9.5->qiskit->qiskit-textbook==0.1.0) (1.0.4)\n",
      "Requirement already satisfied: fastdtw<=0.3.4 in /Users/wiameouzarf/opt/anaconda3/lib/python3.7/site-packages (from qiskit-aqua==0.9.5->qiskit->qiskit-textbook==0.1.0) (0.3.4)\n",
      "Requirement already satisfied: jsonschema>=2.6 in /Users/wiameouzarf/opt/anaconda3/lib/python3.7/site-packages (from qiskit-terra==0.18.3->qiskit->qiskit-textbook==0.1.0) (3.0.2)\n",
      "Requirement already satisfied: ply>=3.10 in /Users/wiameouzarf/opt/anaconda3/lib/python3.7/site-packages (from qiskit-terra==0.18.3->qiskit->qiskit-textbook==0.1.0) (3.11)\n",
      "Requirement already satisfied: fastjsonschema>=2.10 in /Users/wiameouzarf/opt/anaconda3/lib/python3.7/site-packages (from qiskit-terra==0.18.3->qiskit->qiskit-textbook==0.1.0) (2.15.1)\n",
      "Requirement already satisfied: dill>=0.3 in /Users/wiameouzarf/opt/anaconda3/lib/python3.7/site-packages (from qiskit-terra==0.18.3->qiskit->qiskit-textbook==0.1.0) (0.3.4)\n"
     ]
    },
    {
     "name": "stdout",
     "output_type": "stream",
     "text": [
      "Requirement already satisfied: python-constraint>=1.4 in /Users/wiameouzarf/opt/anaconda3/lib/python3.7/site-packages (from qiskit-terra==0.18.3->qiskit->qiskit-textbook==0.1.0) (1.4.0)\n",
      "Requirement already satisfied: tweedledum<2.0,>=1.1 in /Users/wiameouzarf/opt/anaconda3/lib/python3.7/site-packages (from qiskit-terra==0.18.3->qiskit->qiskit-textbook==0.1.0) (1.1.1)\n",
      "Requirement already satisfied: symengine>0.7; platform_machine == \"x86_64\" or platform_machine == \"aarch64\" or platform_machine == \"ppc64le\" or platform_machine == \"amd64\" or platform_machine == \"arm64\" in /Users/wiameouzarf/opt/anaconda3/lib/python3.7/site-packages (from qiskit-terra==0.18.3->qiskit->qiskit-textbook==0.1.0) (0.8.1)\n",
      "Requirement already satisfied: six>=1.9.0 in /Users/wiameouzarf/opt/anaconda3/lib/python3.7/site-packages (from prompt-toolkit<2.1.0,>=2.0.0->ipython->qiskit-textbook==0.1.0) (1.15.0)\n",
      "Requirement already satisfied: wcwidth in /Users/wiameouzarf/opt/anaconda3/lib/python3.7/site-packages (from prompt-toolkit<2.1.0,>=2.0.0->ipython->qiskit-textbook==0.1.0) (0.1.7)\n",
      "Requirement already satisfied: parso>=0.5.0 in /Users/wiameouzarf/opt/anaconda3/lib/python3.7/site-packages (from jedi>=0.10->ipython->qiskit-textbook==0.1.0) (0.5.1)\n",
      "Requirement already satisfied: ptyprocess>=0.5 in /Users/wiameouzarf/opt/anaconda3/lib/python3.7/site-packages (from pexpect; sys_platform != \"win32\"->ipython->qiskit-textbook==0.1.0) (0.6.0)\n",
      "Requirement already satisfied: ipython-genutils in /Users/wiameouzarf/opt/anaconda3/lib/python3.7/site-packages (from traitlets>=4.2->ipython->qiskit-textbook==0.1.0) (0.2.0)\n",
      "Requirement already satisfied: notebook>=4.4.1 in /Users/wiameouzarf/opt/anaconda3/lib/python3.7/site-packages (from widgetsnbextension~=3.5.0->ipywidgets->qiskit-textbook==0.1.0) (6.0.1)\n",
      "Requirement already satisfied: jupyter-core in /Users/wiameouzarf/opt/anaconda3/lib/python3.7/site-packages (from nbformat>=4.2.0->ipywidgets->qiskit-textbook==0.1.0) (4.5.0)\n",
      "Requirement already satisfied: tornado>=4.2 in /Users/wiameouzarf/opt/anaconda3/lib/python3.7/site-packages (from ipykernel>=4.5.1->ipywidgets->qiskit-textbook==0.1.0) (5.1.1)\n",
      "Requirement already satisfied: jupyter-client in /Users/wiameouzarf/opt/anaconda3/lib/python3.7/site-packages (from ipykernel>=4.5.1->ipywidgets->qiskit-textbook==0.1.0) (5.3.3)\n",
      "Requirement already satisfied: certifi>=2017.4.17 in /Users/wiameouzarf/opt/anaconda3/lib/python3.7/site-packages (from requests>=2.19->qiskit-ibmq-provider==0.17.0->qiskit->qiskit-textbook==0.1.0) (2019.9.11)\n",
      "Requirement already satisfied: idna<2.9,>=2.5 in /Users/wiameouzarf/opt/anaconda3/lib/python3.7/site-packages (from requests>=2.19->qiskit-ibmq-provider==0.17.0->qiskit->qiskit-textbook==0.1.0) (2.8)\n",
      "Requirement already satisfied: chardet<3.1.0,>=3.0.2 in /Users/wiameouzarf/opt/anaconda3/lib/python3.7/site-packages (from requests>=2.19->qiskit-ibmq-provider==0.17.0->qiskit->qiskit-textbook==0.1.0) (3.0.4)\n",
      "Requirement already satisfied: ntlm-auth>=1.0.2 in /Users/wiameouzarf/opt/anaconda3/lib/python3.7/site-packages (from requests-ntlm>=1.1.0->qiskit-ibmq-provider==0.17.0->qiskit->qiskit-textbook==0.1.0) (1.5.0)\n",
      "Requirement already satisfied: cryptography>=1.3 in /Users/wiameouzarf/opt/anaconda3/lib/python3.7/site-packages (from requests-ntlm>=1.1.0->qiskit-ibmq-provider==0.17.0->qiskit->qiskit-textbook==0.1.0) (2.7)\n",
      "Requirement already satisfied: multitasking>=0.0.7 in /Users/wiameouzarf/opt/anaconda3/lib/python3.7/site-packages (from yfinance>=0.1.62->qiskit-aqua==0.9.5->qiskit->qiskit-textbook==0.1.0) (0.0.9)\n",
      "Requirement already satisfied: lxml>=4.5.1 in /Users/wiameouzarf/opt/anaconda3/lib/python3.7/site-packages (from yfinance>=0.1.62->qiskit-aqua==0.9.5->qiskit->qiskit-textbook==0.1.0) (4.6.4)\n",
      "Requirement already satisfied: cached-property; python_version < \"3.8\" in /Users/wiameouzarf/opt/anaconda3/lib/python3.7/site-packages (from h5py<3.3.0->qiskit-aqua==0.9.5->qiskit->qiskit-textbook==0.1.0) (1.5.2)\n",
      "Requirement already satisfied: mpmath>=0.19 in /Users/wiameouzarf/opt/anaconda3/lib/python3.7/site-packages (from sympy>=1.3->qiskit-aqua==0.9.5->qiskit->qiskit-textbook==0.1.0) (1.1.0)\n",
      "Requirement already satisfied: joblib>=0.11 in /Users/wiameouzarf/opt/anaconda3/lib/python3.7/site-packages (from scikit-learn>=0.20.0->qiskit-aqua==0.9.5->qiskit->qiskit-textbook==0.1.0) (0.13.2)\n",
      "Requirement already satisfied: pytz>=2017.2 in /Users/wiameouzarf/opt/anaconda3/lib/python3.7/site-packages (from pandas->qiskit-aqua==0.9.5->qiskit->qiskit-textbook==0.1.0) (2019.3)\n",
      "Requirement already satisfied: inflection>=0.3.1 in /Users/wiameouzarf/opt/anaconda3/lib/python3.7/site-packages (from quandl->qiskit-aqua==0.9.5->qiskit->qiskit-textbook==0.1.0) (0.5.1)\n",
      "Requirement already satisfied: more-itertools in /Users/wiameouzarf/opt/anaconda3/lib/python3.7/site-packages (from quandl->qiskit-aqua==0.9.5->qiskit->qiskit-textbook==0.1.0) (7.2.0)\n",
      "Requirement already satisfied: attrs>=17.4.0 in /Users/wiameouzarf/opt/anaconda3/lib/python3.7/site-packages (from jsonschema>=2.6->qiskit-terra==0.18.3->qiskit->qiskit-textbook==0.1.0) (19.2.0)\n",
      "Requirement already satisfied: pyrsistent>=0.14.0 in /Users/wiameouzarf/opt/anaconda3/lib/python3.7/site-packages (from jsonschema>=2.6->qiskit-terra==0.18.3->qiskit->qiskit-textbook==0.1.0) (0.15.4)\n",
      "Requirement already satisfied: prometheus-client in /Users/wiameouzarf/opt/anaconda3/lib/python3.7/site-packages (from notebook>=4.4.1->widgetsnbextension~=3.5.0->ipywidgets->qiskit-textbook==0.1.0) (0.7.1)\n",
      "Requirement already satisfied: pyzmq>=17 in /Users/wiameouzarf/opt/anaconda3/lib/python3.7/site-packages (from notebook>=4.4.1->widgetsnbextension~=3.5.0->ipywidgets->qiskit-textbook==0.1.0) (22.0.2)\n",
      "Requirement already satisfied: nbconvert in /Users/wiameouzarf/opt/anaconda3/lib/python3.7/site-packages (from notebook>=4.4.1->widgetsnbextension~=3.5.0->ipywidgets->qiskit-textbook==0.1.0) (5.6.0)\n",
      "Requirement already satisfied: terminado>=0.8.1 in /Users/wiameouzarf/opt/anaconda3/lib/python3.7/site-packages (from notebook>=4.4.1->widgetsnbextension~=3.5.0->ipywidgets->qiskit-textbook==0.1.0) (0.8.2)\n",
      "Requirement already satisfied: jinja2 in /Users/wiameouzarf/opt/anaconda3/lib/python3.7/site-packages (from notebook>=4.4.1->widgetsnbextension~=3.5.0->ipywidgets->qiskit-textbook==0.1.0) (2.10.3)\n",
      "Requirement already satisfied: Send2Trash in /Users/wiameouzarf/opt/anaconda3/lib/python3.7/site-packages (from notebook>=4.4.1->widgetsnbextension~=3.5.0->ipywidgets->qiskit-textbook==0.1.0) (1.5.0)\n",
      "Requirement already satisfied: cffi!=1.11.3,>=1.8 in /Users/wiameouzarf/opt/anaconda3/lib/python3.7/site-packages (from cryptography>=1.3->requests-ntlm>=1.1.0->qiskit-ibmq-provider==0.17.0->qiskit->qiskit-textbook==0.1.0) (1.12.3)\n",
      "Requirement already satisfied: asn1crypto>=0.21.0 in /Users/wiameouzarf/opt/anaconda3/lib/python3.7/site-packages (from cryptography>=1.3->requests-ntlm>=1.1.0->qiskit-ibmq-provider==0.17.0->qiskit->qiskit-textbook==0.1.0) (1.0.1)\n",
      "Requirement already satisfied: testpath in /Users/wiameouzarf/opt/anaconda3/lib/python3.7/site-packages (from nbconvert->notebook>=4.4.1->widgetsnbextension~=3.5.0->ipywidgets->qiskit-textbook==0.1.0) (0.4.2)\n",
      "Requirement already satisfied: defusedxml in /Users/wiameouzarf/opt/anaconda3/lib/python3.7/site-packages (from nbconvert->notebook>=4.4.1->widgetsnbextension~=3.5.0->ipywidgets->qiskit-textbook==0.1.0) (0.6.0)\n",
      "Requirement already satisfied: bleach in /Users/wiameouzarf/opt/anaconda3/lib/python3.7/site-packages (from nbconvert->notebook>=4.4.1->widgetsnbextension~=3.5.0->ipywidgets->qiskit-textbook==0.1.0) (3.1.0)\n",
      "Requirement already satisfied: mistune<2,>=0.8.1 in /Users/wiameouzarf/opt/anaconda3/lib/python3.7/site-packages (from nbconvert->notebook>=4.4.1->widgetsnbextension~=3.5.0->ipywidgets->qiskit-textbook==0.1.0) (0.8.4)\n",
      "Requirement already satisfied: entrypoints>=0.2.2 in /Users/wiameouzarf/opt/anaconda3/lib/python3.7/site-packages (from nbconvert->notebook>=4.4.1->widgetsnbextension~=3.5.0->ipywidgets->qiskit-textbook==0.1.0) (0.3)\n",
      "Requirement already satisfied: pandocfilters>=1.4.1 in /Users/wiameouzarf/opt/anaconda3/lib/python3.7/site-packages (from nbconvert->notebook>=4.4.1->widgetsnbextension~=3.5.0->ipywidgets->qiskit-textbook==0.1.0) (1.4.2)\n",
      "Requirement already satisfied: MarkupSafe>=0.23 in /Users/wiameouzarf/opt/anaconda3/lib/python3.7/site-packages (from jinja2->notebook>=4.4.1->widgetsnbextension~=3.5.0->ipywidgets->qiskit-textbook==0.1.0) (1.1.1)\n",
      "Requirement already satisfied: pycparser in /Users/wiameouzarf/opt/anaconda3/lib/python3.7/site-packages (from cffi!=1.11.3,>=1.8->cryptography>=1.3->requests-ntlm>=1.1.0->qiskit-ibmq-provider==0.17.0->qiskit->qiskit-textbook==0.1.0) (2.19)\n",
      "Requirement already satisfied: webencodings in /Users/wiameouzarf/opt/anaconda3/lib/python3.7/site-packages (from bleach->nbconvert->notebook>=4.4.1->widgetsnbextension~=3.5.0->ipywidgets->qiskit-textbook==0.1.0) (0.5.1)\n"
     ]
    },
    {
     "name": "stdout",
     "output_type": "stream",
     "text": [
      "Building wheels for collected packages: qiskit-textbook\n",
      "  Building wheel for qiskit-textbook (setup.py) ... \u001b[?25ldone\n",
      "\u001b[?25h  Created wheel for qiskit-textbook: filename=qiskit_textbook-0.1.0-cp37-none-any.whl size=16946 sha256=2a97356e47df0c8681eaffbed57e4f785cab9ee9df3592edfc5f1d7c1eaa003d\n",
      "  Stored in directory: /private/var/folders/f6/flpxj1k51d3c1nxtgfzmkdx40000gn/T/pip-ephem-wheel-cache-1e8_d4ks/wheels/0c/57/26/1c12886a219af04a38ca1e674fdeeff40b8a5963326ba3c71a\n",
      "Successfully built qiskit-textbook\n",
      "Installing collected packages: qiskit-textbook\n",
      "Successfully installed qiskit-textbook-0.1.0\n"
     ]
    }
   ],
   "source": [
    "!pip install git+https://github.com/qiskit-community/qiskit-textbook.git#subdirectory=qiskit-textbook-src"
   ]
  },
  {
   "cell_type": "markdown",
   "metadata": {
    "id": "SDHxypYYWZ-z"
   },
   "source": [
    "# **https://qiskit.org/textbook/ch-states/atoms-computation.html**"
   ]
  },
  {
   "cell_type": "code",
   "execution_count": 14,
   "metadata": {
    "colab": {
     "base_uri": "https://localhost:8080/",
     "height": 184,
     "referenced_widgets": [
      "22da16c724fc4a95b5f9e9ce82b3669b",
      "1d04b75e1af041ceb5e83baf32275c03",
      "ffc0833f832441bdb9d57faa5bde6349",
      "d3591f5bc4ae47bca7312148731fdbad",
      "5483256bb7ed4314bff01cf73387b066",
      "f6f7472dedbc4af993a5479fc6b5625d",
      "020759e00bbf4028a97968ba8be077ee",
      "a104a7298caf460a91307172ea3fcc7c",
      "f0cc13153dcb46f3a55742bbd8a8f766",
      "8708b078a61f4dbfb90481983bfab4ff",
      "7d78d9f840bf4f3aaaa4408d6210bbd9",
      "fafef16f3785416ebfebda71418b6072",
      "e110fffcb2fd48f1808b270040613c1c",
      "ce9923e11cb5490dac93650ce9a756de",
      "91987492252948709246645c42030e15",
      "2ed45f4f663f4214b8ed3d7bd885ab04",
      "13d4a227b4a44d72b81c6807cd48fda4",
      "4a09f7e41ff44475aaedccd17e4f2b9e",
      "fad18097d7c140fa8240d8e0ade34543",
      "0429ac1cdd3844cb88d97dd03efbe0d7",
      "c515d719a9e34099a68b49e28e3c8e42",
      "6df2988e50f24ada87df3de6eb505629",
      "9285652d91fc4c7da65b0f2619d5e457",
      "f3aa2381818a4da5bd1535c193251d40",
      "f6534d684bf4473495148417c1e0969c",
      "7ac3ce28a6f449568b14191d18d0ca92",
      "4581c9753c574b2580eac0b90c17b790",
      "f5209a17d60e4d75b4f7463c2ec81fe7"
     ]
    },
    "executionInfo": {
     "elapsed": 618,
     "status": "ok",
     "timestamp": 1636455430803,
     "user": {
      "displayName": "MOHAMED OUZARF",
      "photoUrl": "https://lh3.googleusercontent.com/a-/AOh14GjqOe87DDkKIuMqyJnj_be11wNskc-Z_LdlxCai-Q=s64",
      "userId": "07627566397046241781"
     },
     "user_tz": -60
    },
    "id": "2qEUl7gWikrH",
    "outputId": "b0aadd51-6004-4ce1-99e8-f3d88d711f7d"
   },
   "outputs": [
    {
     "data": {
      "application/vnd.jupyter.widget-view+json": {
       "model_id": "f65a6bdf42274f368f7b287fa42c5026",
       "version_major": 2,
       "version_minor": 0
      },
      "text/plain": [
       "VBox(children=(Label(value='Toggle the bits below to change the binary number.'), Label(value='Think of a numb…"
      ]
     },
     "metadata": {},
     "output_type": "display_data"
    },
    {
     "data": {
      "application/vnd.jupyter.widget-view+json": {
       "model_id": "c52acefaca7d466785d684de43ab17b8",
       "version_major": 2,
       "version_minor": 0
      },
      "text/plain": [
       "HTML(value='<pre>Binary   Decimal\\n 00000 = 0</pre>')"
      ]
     },
     "metadata": {},
     "output_type": "display_data"
    }
   ],
   "source": [
    "from qiskit import QuantumCircuit, assemble, Aer\n",
    "from qiskit.visualization import plot_histogram\n",
    "\n",
    "from qiskit_textbook.widgets import binary_widget\n",
    "binary_widget(nbits=5)"
   ]
  },
  {
   "cell_type": "code",
   "execution_count": 15,
   "metadata": {
    "executionInfo": {
     "elapsed": 512,
     "status": "ok",
     "timestamp": 1636455661989,
     "user": {
      "displayName": "MOHAMED OUZARF",
      "photoUrl": "https://lh3.googleusercontent.com/a-/AOh14GjqOe87DDkKIuMqyJnj_be11wNskc-Z_LdlxCai-Q=s64",
      "userId": "07627566397046241781"
     },
     "user_tz": -60
    },
    "id": "AELOOxoHW1RR"
   },
   "outputs": [],
   "source": [
    "qc_output = QuantumCircuit(8)"
   ]
  },
  {
   "cell_type": "code",
   "execution_count": 16,
   "metadata": {
    "executionInfo": {
     "elapsed": 606,
     "status": "ok",
     "timestamp": 1636455727337,
     "user": {
      "displayName": "MOHAMED OUZARF",
      "photoUrl": "https://lh3.googleusercontent.com/a-/AOh14GjqOe87DDkKIuMqyJnj_be11wNskc-Z_LdlxCai-Q=s64",
      "userId": "07627566397046241781"
     },
     "user_tz": -60
    },
    "id": "QyKggPZCWp_x"
   },
   "outputs": [],
   "source": [
    "qc_output.measure_all()"
   ]
  },
  {
   "cell_type": "code",
   "execution_count": 17,
   "metadata": {
    "colab": {
     "base_uri": "https://localhost:8080/",
     "height": 302
    },
    "executionInfo": {
     "elapsed": 517,
     "status": "ok",
     "timestamp": 1636455748882,
     "user": {
      "displayName": "MOHAMED OUZARF",
      "photoUrl": "https://lh3.googleusercontent.com/a-/AOh14GjqOe87DDkKIuMqyJnj_be11wNskc-Z_LdlxCai-Q=s64",
      "userId": "07627566397046241781"
     },
     "user_tz": -60
    },
    "id": "KUw3yI7gXNX2",
    "outputId": "04e29a32-1701-4e61-f19b-98aadeeac609"
   },
   "outputs": [
    {
     "data": {
      "text/html": [
       "<pre style=\"word-wrap: normal;white-space: pre;background: #fff0;line-height: 1.1;font-family: &quot;Courier New&quot;,Courier,monospace\">           ░ ┌─┐                     \n",
       "  q_0: |0>─░─┤M├─────────────────────\n",
       "           ░ └╥┘┌─┐                  \n",
       "  q_1: |0>─░──╫─┤M├──────────────────\n",
       "           ░  ║ └╥┘┌─┐               \n",
       "  q_2: |0>─░──╫──╫─┤M├───────────────\n",
       "           ░  ║  ║ └╥┘┌─┐            \n",
       "  q_3: |0>─░──╫──╫──╫─┤M├────────────\n",
       "           ░  ║  ║  ║ └╥┘┌─┐         \n",
       "  q_4: |0>─░──╫──╫──╫──╫─┤M├─────────\n",
       "           ░  ║  ║  ║  ║ └╥┘┌─┐      \n",
       "  q_5: |0>─░──╫──╫──╫──╫──╫─┤M├──────\n",
       "           ░  ║  ║  ║  ║  ║ └╥┘┌─┐   \n",
       "  q_6: |0>─░──╫──╫──╫──╫──╫──╫─┤M├───\n",
       "           ░  ║  ║  ║  ║  ║  ║ └╥┘┌─┐\n",
       "  q_7: |0>─░──╫──╫──╫──╫──╫──╫──╫─┤M├\n",
       "           ░  ║  ║  ║  ║  ║  ║  ║ └╥┘\n",
       "meas: 0 8/════╩══╩══╩══╩══╩══╩══╩══╩═\n",
       "              0  1  2  3  4  5  6  7 </pre>"
      ],
      "text/plain": [
       "           ░ ┌─┐                     \n",
       "  q_0: |0>─░─┤M├─────────────────────\n",
       "           ░ └╥┘┌─┐                  \n",
       "  q_1: |0>─░──╫─┤M├──────────────────\n",
       "           ░  ║ └╥┘┌─┐               \n",
       "  q_2: |0>─░──╫──╫─┤M├───────────────\n",
       "           ░  ║  ║ └╥┘┌─┐            \n",
       "  q_3: |0>─░──╫──╫──╫─┤M├────────────\n",
       "           ░  ║  ║  ║ └╥┘┌─┐         \n",
       "  q_4: |0>─░──╫──╫──╫──╫─┤M├─────────\n",
       "           ░  ║  ║  ║  ║ └╥┘┌─┐      \n",
       "  q_5: |0>─░──╫──╫──╫──╫──╫─┤M├──────\n",
       "           ░  ║  ║  ║  ║  ║ └╥┘┌─┐   \n",
       "  q_6: |0>─░──╫──╫──╫──╫──╫──╫─┤M├───\n",
       "           ░  ║  ║  ║  ║  ║  ║ └╥┘┌─┐\n",
       "  q_7: |0>─░──╫──╫──╫──╫──╫──╫──╫─┤M├\n",
       "           ░  ║  ║  ║  ║  ║  ║  ║ └╥┘\n",
       "meas: 0 8/════╩══╩══╩══╩══╩══╩══╩══╩═\n",
       "              0  1  2  3  4  5  6  7 "
      ]
     },
     "execution_count": 17,
     "metadata": {},
     "output_type": "execute_result"
    }
   ],
   "source": [
    "qc_output.draw(initial_state=True)"
   ]
  },
  {
   "cell_type": "code",
   "execution_count": 18,
   "metadata": {
    "colab": {
     "base_uri": "https://localhost:8080/",
     "height": 380
    },
    "executionInfo": {
     "elapsed": 763,
     "status": "ok",
     "timestamp": 1636455789213,
     "user": {
      "displayName": "MOHAMED OUZARF",
      "photoUrl": "https://lh3.googleusercontent.com/a-/AOh14GjqOe87DDkKIuMqyJnj_be11wNskc-Z_LdlxCai-Q=s64",
      "userId": "07627566397046241781"
     },
     "user_tz": -60
    },
    "id": "H_hl8VDrXStN",
    "outputId": "b2f31c90-17cd-4d1e-929b-d15431196242"
   },
   "outputs": [
    {
     "data": {
      "image/png": "[encoded data removed]",
      "text/plain": [
       "<Figure size 504x360 with 1 Axes>"
      ]
     },
     "execution_count": 18,
     "metadata": {},
     "output_type": "execute_result"
    }
   ],
   "source": [
    "sim = Aer.get_backend('aer_simulator') \n",
    "result = sim.run(qc_output).result()\n",
    "counts = result.get_counts()\n",
    "plot_histogram(counts)"
   ]
  },
  {
   "cell_type": "code",
   "execution_count": 19,
   "metadata": {
    "colab": {
     "base_uri": "https://localhost:8080/",
     "height": 272
    },
    "executionInfo": {
     "elapsed": 808,
     "status": "ok",
     "timestamp": 1636455885262,
     "user": {
      "displayName": "MOHAMED OUZARF",
      "photoUrl": "https://lh3.googleusercontent.com/a-/AOh14GjqOe87DDkKIuMqyJnj_be11wNskc-Z_LdlxCai-Q=s64",
      "userId": "07627566397046241781"
     },
     "user_tz": -60
    },
    "id": "WWTjylvEXwOT",
    "outputId": "67ef967d-504e-4cd3-cf5c-d6b049eda8ac"
   },
   "outputs": [
    {
     "data": {
      "text/html": [
       "<pre style=\"word-wrap: normal;white-space: pre;background: #fff0;line-height: 1.1;font-family: &quot;Courier New&quot;,Courier,monospace\">          \n",
       "q_0: ─────\n",
       "          \n",
       "q_1: ─────\n",
       "          \n",
       "q_2: ─────\n",
       "          \n",
       "q_3: ─────\n",
       "          \n",
       "q_4: ─────\n",
       "          \n",
       "q_5: ─────\n",
       "          \n",
       "q_6: ─────\n",
       "     ┌───┐\n",
       "q_7: ┤ X ├\n",
       "     └───┘</pre>"
      ],
      "text/plain": [
       "          \n",
       "q_0: ─────\n",
       "          \n",
       "q_1: ─────\n",
       "          \n",
       "q_2: ─────\n",
       "          \n",
       "q_3: ─────\n",
       "          \n",
       "q_4: ─────\n",
       "          \n",
       "q_5: ─────\n",
       "          \n",
       "q_6: ─────\n",
       "     ┌───┐\n",
       "q_7: ┤ X ├\n",
       "     └───┘"
      ]
     },
     "execution_count": 19,
     "metadata": {},
     "output_type": "execute_result"
    }
   ],
   "source": [
    "qc_encode = QuantumCircuit(8)\n",
    "qc_encode.x(7)\n",
    "qc_encode.draw()"
   ]
  },
  {
   "cell_type": "code",
   "execution_count": 20,
   "metadata": {
    "colab": {
     "base_uri": "https://localhost:8080/",
     "height": 302
    },
    "executionInfo": {
     "elapsed": 676,
     "status": "ok",
     "timestamp": 1636455914390,
     "user": {
      "displayName": "MOHAMED OUZARF",
      "photoUrl": "https://lh3.googleusercontent.com/a-/AOh14GjqOe87DDkKIuMqyJnj_be11wNskc-Z_LdlxCai-Q=s64",
      "userId": "07627566397046241781"
     },
     "user_tz": -60
    },
    "id": "XGnTXnEqXy8z",
    "outputId": "ddb28ac7-d919-491d-a9fc-fcebcf26cf0a"
   },
   "outputs": [
    {
     "data": {
      "text/html": [
       "<pre style=\"word-wrap: normal;white-space: pre;background: #fff0;line-height: 1.1;font-family: &quot;Courier New&quot;,Courier,monospace\">              ░ ┌─┐                     \n",
       "   q_0: ──────░─┤M├─────────────────────\n",
       "              ░ └╥┘┌─┐                  \n",
       "   q_1: ──────░──╫─┤M├──────────────────\n",
       "              ░  ║ └╥┘┌─┐               \n",
       "   q_2: ──────░──╫──╫─┤M├───────────────\n",
       "              ░  ║  ║ └╥┘┌─┐            \n",
       "   q_3: ──────░──╫──╫──╫─┤M├────────────\n",
       "              ░  ║  ║  ║ └╥┘┌─┐         \n",
       "   q_4: ──────░──╫──╫──╫──╫─┤M├─────────\n",
       "              ░  ║  ║  ║  ║ └╥┘┌─┐      \n",
       "   q_5: ──────░──╫──╫──╫──╫──╫─┤M├──────\n",
       "              ░  ║  ║  ║  ║  ║ └╥┘┌─┐   \n",
       "   q_6: ──────░──╫──╫──╫──╫──╫──╫─┤M├───\n",
       "        ┌───┐ ░  ║  ║  ║  ║  ║  ║ └╥┘┌─┐\n",
       "   q_7: ┤ X ├─░──╫──╫──╫──╫──╫──╫──╫─┤M├\n",
       "        └───┘ ░  ║  ║  ║  ║  ║  ║  ║ └╥┘\n",
       "meas: 8/═════════╩══╩══╩══╩══╩══╩══╩══╩═\n",
       "                 0  1  2  3  4  5  6  7 </pre>"
      ],
      "text/plain": [
       "              ░ ┌─┐                     \n",
       "   q_0: ──────░─┤M├─────────────────────\n",
       "              ░ └╥┘┌─┐                  \n",
       "   q_1: ──────░──╫─┤M├──────────────────\n",
       "              ░  ║ └╥┘┌─┐               \n",
       "   q_2: ──────░──╫──╫─┤M├───────────────\n",
       "              ░  ║  ║ └╥┘┌─┐            \n",
       "   q_3: ──────░──╫──╫──╫─┤M├────────────\n",
       "              ░  ║  ║  ║ └╥┘┌─┐         \n",
       "   q_4: ──────░──╫──╫──╫──╫─┤M├─────────\n",
       "              ░  ║  ║  ║  ║ └╥┘┌─┐      \n",
       "   q_5: ──────░──╫──╫──╫──╫──╫─┤M├──────\n",
       "              ░  ║  ║  ║  ║  ║ └╥┘┌─┐   \n",
       "   q_6: ──────░──╫──╫──╫──╫──╫──╫─┤M├───\n",
       "        ┌───┐ ░  ║  ║  ║  ║  ║  ║ └╥┘┌─┐\n",
       "   q_7: ┤ X ├─░──╫──╫──╫──╫──╫──╫──╫─┤M├\n",
       "        └───┘ ░  ║  ║  ║  ║  ║  ║  ║ └╥┘\n",
       "meas: 8/═════════╩══╩══╩══╩══╩══╩══╩══╩═\n",
       "                 0  1  2  3  4  5  6  7 "
      ]
     },
     "execution_count": 20,
     "metadata": {},
     "output_type": "execute_result"
    }
   ],
   "source": [
    "qc_encode.measure_all()\n",
    "qc_encode.draw()"
   ]
  },
  {
   "cell_type": "code",
   "execution_count": 21,
   "metadata": {
    "colab": {
     "base_uri": "https://localhost:8080/",
     "height": 380
    },
    "executionInfo": {
     "elapsed": 1795,
     "status": "ok",
     "timestamp": 1636455957757,
     "user": {
      "displayName": "MOHAMED OUZARF",
      "photoUrl": "https://lh3.googleusercontent.com/a-/AOh14GjqOe87DDkKIuMqyJnj_be11wNskc-Z_LdlxCai-Q=s64",
      "userId": "07627566397046241781"
     },
     "user_tz": -60
    },
    "id": "-RGnz46LX5xl",
    "outputId": "3c9897c2-7d7a-49d6-e895-1002497208c5"
   },
   "outputs": [
    {
     "data": {
      "image/png": "[encoded data removed]",
      "text/plain": [
       "<Figure size 504x360 with 1 Axes>"
      ]
     },
     "execution_count": 21,
     "metadata": {},
     "output_type": "execute_result"
    }
   ],
   "source": [
    "sim = Aer.get_backend('aer_simulator') \n",
    "result = sim.run(qc_encode).result()\n",
    "counts = result.get_counts()\n",
    "plot_histogram(counts)"
   ]
  },
  {
   "cell_type": "code",
   "execution_count": 22,
   "metadata": {
    "colab": {
     "base_uri": "https://localhost:8080/",
     "height": 272
    },
    "executionInfo": {
     "elapsed": 620,
     "status": "ok",
     "timestamp": 1636455995469,
     "user": {
      "displayName": "MOHAMED OUZARF",
      "photoUrl": "https://lh3.googleusercontent.com/a-/AOh14GjqOe87DDkKIuMqyJnj_be11wNskc-Z_LdlxCai-Q=s64",
      "userId": "07627566397046241781"
     },
     "user_tz": -60
    },
    "id": "4GSBXPh4YMJ5",
    "outputId": "f41cc2c9-85ef-4acf-8012-5c4938c6587b"
   },
   "outputs": [
    {
     "data": {
      "text/html": [
       "<pre style=\"word-wrap: normal;white-space: pre;background: #fff0;line-height: 1.1;font-family: &quot;Courier New&quot;,Courier,monospace\">          \n",
       "q_0: ─────\n",
       "     ┌───┐\n",
       "q_1: ┤ X ├\n",
       "     └───┘\n",
       "q_2: ─────\n",
       "          \n",
       "q_3: ─────\n",
       "          \n",
       "q_4: ─────\n",
       "     ┌───┐\n",
       "q_5: ┤ X ├\n",
       "     └───┘\n",
       "q_6: ─────\n",
       "          \n",
       "q_7: ─────\n",
       "          </pre>"
      ],
      "text/plain": [
       "          \n",
       "q_0: ─────\n",
       "     ┌───┐\n",
       "q_1: ┤ X ├\n",
       "     └───┘\n",
       "q_2: ─────\n",
       "          \n",
       "q_3: ─────\n",
       "          \n",
       "q_4: ─────\n",
       "     ┌───┐\n",
       "q_5: ┤ X ├\n",
       "     └───┘\n",
       "q_6: ─────\n",
       "          \n",
       "q_7: ─────\n",
       "          "
      ]
     },
     "execution_count": 22,
     "metadata": {},
     "output_type": "execute_result"
    }
   ],
   "source": [
    "qc_encode = QuantumCircuit(8)\n",
    "qc_encode.x(1)\n",
    "qc_encode.x(5)\n",
    "\n",
    "qc_encode.draw()"
   ]
  },
  {
   "cell_type": "code",
   "execution_count": null,
   "metadata": {
    "id": "ijWzmht2YOYI"
   },
   "outputs": [],
   "source": []
  },
  {
   "cell_type": "markdown",
   "metadata": {
    "id": "07qVmDm7Yn9O"
   },
   "source": [
    "# **qc_cnot = QuantumCircuit(2)**\n",
    "qc_cnot.cx(0,1)\n",
    "qc_cnot.draw()"
   ]
  },
  {
   "cell_type": "code",
   "execution_count": 23,
   "metadata": {
    "colab": {
     "base_uri": "https://localhost:8080/",
     "height": 92
    },
    "executionInfo": {
     "elapsed": 789,
     "status": "ok",
     "timestamp": 1636456067238,
     "user": {
      "displayName": "MOHAMED OUZARF",
      "photoUrl": "https://lh3.googleusercontent.com/a-/AOh14GjqOe87DDkKIuMqyJnj_be11wNskc-Z_LdlxCai-Q=s64",
      "userId": "07627566397046241781"
     },
     "user_tz": -60
    },
    "id": "rKxOugSBYdPf",
    "outputId": "784294f0-bea3-4778-c049-0343fcc0ea07"
   },
   "outputs": [
    {
     "data": {
      "text/html": [
       "<pre style=\"word-wrap: normal;white-space: pre;background: #fff0;line-height: 1.1;font-family: &quot;Courier New&quot;,Courier,monospace\">          \n",
       "q_0: ──■──\n",
       "     ┌─┴─┐\n",
       "q_1: ┤ X ├\n",
       "     └───┘</pre>"
      ],
      "text/plain": [
       "          \n",
       "q_0: ──■──\n",
       "     ┌─┴─┐\n",
       "q_1: ┤ X ├\n",
       "     └───┘"
      ]
     },
     "execution_count": 23,
     "metadata": {},
     "output_type": "execute_result"
    }
   ],
   "source": [
    "qc_cnot = QuantumCircuit(2)\n",
    "qc_cnot.cx(0,1)\n",
    "qc_cnot.draw()"
   ]
  },
  {
   "cell_type": "code",
   "execution_count": 24,
   "metadata": {
    "colab": {
     "base_uri": "https://localhost:8080/",
     "height": 122
    },
    "executionInfo": {
     "elapsed": 814,
     "status": "ok",
     "timestamp": 1636457628265,
     "user": {
      "displayName": "MOHAMED OUZARF",
      "photoUrl": "https://lh3.googleusercontent.com/a-/AOh14GjqOe87DDkKIuMqyJnj_be11wNskc-Z_LdlxCai-Q=s64",
      "userId": "07627566397046241781"
     },
     "user_tz": -60
    },
    "id": "h70V_qARYv82",
    "outputId": "c3384e54-0af6-4264-aa2f-f728052d33d5"
   },
   "outputs": [
    {
     "data": {
      "text/html": [
       "<pre style=\"word-wrap: normal;white-space: pre;background: #fff0;line-height: 1.1;font-family: &quot;Courier New&quot;,Courier,monospace\">     ┌───┐     ┌─┐   \n",
       "q_0: ┤ X ├──■──┤M├───\n",
       "     └───┘┌─┴─┐└╥┘┌─┐\n",
       "q_1: ─────┤ X ├─╫─┤M├\n",
       "          └───┘ ║ └╥┘\n",
       "c: 2/═══════════╩══╩═\n",
       "                0  1 </pre>"
      ],
      "text/plain": [
       "     ┌───┐     ┌─┐   \n",
       "q_0: ┤ X ├──■──┤M├───\n",
       "     └───┘┌─┴─┐└╥┘┌─┐\n",
       "q_1: ─────┤ X ├─╫─┤M├\n",
       "          └───┘ ║ └╥┘\n",
       "c: 2/═══════════╩══╩═\n",
       "                0  1 "
      ]
     },
     "execution_count": 24,
     "metadata": {},
     "output_type": "execute_result"
    }
   ],
   "source": [
    "qc = QuantumCircuit(2,2)\n",
    "qc.x(0)\n",
    "qc.cx(0,1)\n",
    "qc.measure(0,0)\n",
    "qc.measure(1,1)\n",
    "qc.draw()"
   ]
  },
  {
   "cell_type": "code",
   "execution_count": 25,
   "metadata": {
    "colab": {
     "base_uri": "https://localhost:8080/",
     "height": 182
    },
    "executionInfo": {
     "elapsed": 1208,
     "status": "ok",
     "timestamp": 1636457688037,
     "user": {
      "displayName": "MOHAMED OUZARF",
      "photoUrl": "https://lh3.googleusercontent.com/a-/AOh14GjqOe87DDkKIuMqyJnj_be11wNskc-Z_LdlxCai-Q=s64",
      "userId": "07627566397046241781"
     },
     "user_tz": -60
    },
    "id": "Df9mTeCZembV",
    "outputId": "7d0fa056-1b10-4297-f38c-11fbc0cd46bd"
   },
   "outputs": [
    {
     "data": {
      "text/html": [
       "<pre style=\"word-wrap: normal;white-space: pre;background: #fff0;line-height: 1.1;font-family: &quot;Courier New&quot;,Courier,monospace\">     ┌───┐ ░            ░       \n",
       "q_0: ┤ X ├─░───■────────░───────\n",
       "     ├───┤ ░   │        ░       \n",
       "q_1: ┤ X ├─░───┼────■───░───────\n",
       "     └───┘ ░ ┌─┴─┐┌─┴─┐ ░ ┌─┐   \n",
       "q_2: ──────░─┤ X ├┤ X ├─░─┤M├───\n",
       "           ░ └───┘└───┘ ░ └╥┘┌─┐\n",
       "q_3: ──────░────────────░──╫─┤M├\n",
       "           ░            ░  ║ └╥┘\n",
       "c: 2/══════════════════════╩══╩═\n",
       "                           0  1 </pre>"
      ],
      "text/plain": [
       "     ┌───┐ ░            ░       \n",
       "q_0: ┤ X ├─░───■────────░───────\n",
       "     ├───┤ ░   │        ░       \n",
       "q_1: ┤ X ├─░───┼────■───░───────\n",
       "     └───┘ ░ ┌─┴─┐┌─┴─┐ ░ ┌─┐   \n",
       "q_2: ──────░─┤ X ├┤ X ├─░─┤M├───\n",
       "           ░ └───┘└───┘ ░ └╥┘┌─┐\n",
       "q_3: ──────░────────────░──╫─┤M├\n",
       "           ░            ░  ║ └╥┘\n",
       "c: 2/══════════════════════╩══╩═\n",
       "                           0  1 "
      ]
     },
     "execution_count": 25,
     "metadata": {},
     "output_type": "execute_result"
    }
   ],
   "source": [
    "qc_ha = QuantumCircuit(4,2)\n",
    "# encode inputs in qubits 0 and 1\n",
    "qc_ha.x(0) # For a=0, remove this line. For a=1, leave it.\n",
    "qc_ha.x(1) # For b=0, remove this line. For b=1, leave it.\n",
    "qc_ha.barrier()\n",
    "# use cnots to write the XOR of the inputs on qubit 2\n",
    "qc_ha.cx(0,2)\n",
    "qc_ha.cx(1,2)\n",
    "qc_ha.barrier()\n",
    "# extract outputs\n",
    "qc_ha.measure(2,0) # extract XOR value\n",
    "qc_ha.measure(3,1)\n",
    "\n",
    "qc_ha.draw()"
   ]
  },
  {
   "cell_type": "code",
   "execution_count": 26,
   "metadata": {
    "colab": {
     "base_uri": "https://localhost:8080/",
     "height": 182
    },
    "executionInfo": {
     "elapsed": 629,
     "status": "ok",
     "timestamp": 1636457738636,
     "user": {
      "displayName": "MOHAMED OUZARF",
      "photoUrl": "https://lh3.googleusercontent.com/a-/AOh14GjqOe87DDkKIuMqyJnj_be11wNskc-Z_LdlxCai-Q=s64",
      "userId": "07627566397046241781"
     },
     "user_tz": -60
    },
    "id": "b7_MGfgweq63",
    "outputId": "c8aea71f-fa8b-4a6b-c6d4-c5b3741f6ccc"
   },
   "outputs": [
    {
     "data": {
      "text/html": [
       "<pre style=\"word-wrap: normal;white-space: pre;background: #fff0;line-height: 1.1;font-family: &quot;Courier New&quot;,Courier,monospace\">     ┌───┐ ░                 ░       \n",
       "q_0: ┤ X ├─░───■─────────■───░───────\n",
       "     ├───┤ ░   │         │   ░       \n",
       "q_1: ┤ X ├─░───┼────■────■───░───────\n",
       "     └───┘ ░ ┌─┴─┐┌─┴─┐  │   ░ ┌─┐   \n",
       "q_2: ──────░─┤ X ├┤ X ├──┼───░─┤M├───\n",
       "           ░ └───┘└───┘┌─┴─┐ ░ └╥┘┌─┐\n",
       "q_3: ──────░───────────┤ X ├─░──╫─┤M├\n",
       "           ░           └───┘ ░  ║ └╥┘\n",
       "c: 2/═══════════════════════════╩══╩═\n",
       "                                0  1 </pre>"
      ],
      "text/plain": [
       "     ┌───┐ ░                 ░       \n",
       "q_0: ┤ X ├─░───■─────────■───░───────\n",
       "     ├───┤ ░   │         │   ░       \n",
       "q_1: ┤ X ├─░───┼────■────■───░───────\n",
       "     └───┘ ░ ┌─┴─┐┌─┴─┐  │   ░ ┌─┐   \n",
       "q_2: ──────░─┤ X ├┤ X ├──┼───░─┤M├───\n",
       "           ░ └───┘└───┘┌─┴─┐ ░ └╥┘┌─┐\n",
       "q_3: ──────░───────────┤ X ├─░──╫─┤M├\n",
       "           ░           └───┘ ░  ║ └╥┘\n",
       "c: 2/═══════════════════════════╩══╩═\n",
       "                                0  1 "
      ]
     },
     "execution_count": 26,
     "metadata": {},
     "output_type": "execute_result"
    }
   ],
   "source": [
    "qc_ha = QuantumCircuit(4,2)\n",
    "# encode inputs in qubits 0 and 1\n",
    "qc_ha.x(0) # For a=0, remove the this line. For a=1, leave it.\n",
    "qc_ha.x(1) # For b=0, remove the this line. For b=1, leave it.\n",
    "qc_ha.barrier()\n",
    "# use cnots to write the XOR of the inputs on qubit 2\n",
    "qc_ha.cx(0,2)\n",
    "qc_ha.cx(1,2)\n",
    "# use ccx to write the AND of the inputs on qubit 3\n",
    "qc_ha.ccx(0,1,3)\n",
    "qc_ha.barrier()\n",
    "# extract outputs\n",
    "qc_ha.measure(2,0) # extract XOR value\n",
    "qc_ha.measure(3,1) # extract AND value\n",
    "\n",
    "qc_ha.draw()"
   ]
  },
  {
   "cell_type": "code",
   "execution_count": 27,
   "metadata": {
    "colab": {
     "base_uri": "https://localhost:8080/",
     "height": 385
    },
    "executionInfo": {
     "elapsed": 665,
     "status": "ok",
     "timestamp": 1636457776047,
     "user": {
      "displayName": "MOHAMED OUZARF",
      "photoUrl": "https://lh3.googleusercontent.com/a-/AOh14GjqOe87DDkKIuMqyJnj_be11wNskc-Z_LdlxCai-Q=s64",
      "userId": "07627566397046241781"
     },
     "user_tz": -60
    },
    "id": "WX7jRQ-we8TL",
    "outputId": "3d3c76c3-b85d-4258-b9bd-e2718d0f7f35"
   },
   "outputs": [
    {
     "name": "stderr",
     "output_type": "stream",
     "text": [
      "/Users/wiameouzarf/opt/anaconda3/lib/python3.7/site-packages/qiskit/utils/deprecation.py:62: DeprecationWarning: Using a qobj for run() is deprecated as of qiskit-aer 0.9.0 and will be removed no sooner than 3 months from that release date. Transpiled circuits should now be passed directly using `backend.run(circuits, **run_options).\n",
      "  return func(*args, **kwargs)\n"
     ]
    },
    {
     "data": {
      "image/png": "[encoded data removed]",
      "text/plain": [
       "<Figure size 504x360 with 1 Axes>"
      ]
     },
     "execution_count": 27,
     "metadata": {},
     "output_type": "execute_result"
    }
   ],
   "source": [
    "qobj = assemble(qc_ha)\n",
    "counts = sim.run(qobj).result().get_counts()\n",
    "plot_histogram(counts)"
   ]
  },
  {
   "cell_type": "code",
   "execution_count": 28,
   "metadata": {
    "colab": {
     "base_uri": "https://localhost:8080/",
     "height": 311
    },
    "executionInfo": {
     "elapsed": 528,
     "status": "ok",
     "timestamp": 1636457845337,
     "user": {
      "displayName": "MOHAMED OUZARF",
      "photoUrl": "https://lh3.googleusercontent.com/a-/AOh14GjqOe87DDkKIuMqyJnj_be11wNskc-Z_LdlxCai-Q=s64",
      "userId": "07627566397046241781"
     },
     "user_tz": -60
    },
    "id": "xZeDh49ye99x",
    "outputId": "79f5702b-df95-41cd-ffc7-da2f402560cf"
   },
   "outputs": [
    {
     "data": {
      "text/html": [
       "<h3>Version Information</h3><table><tr><th>Qiskit Software</th><th>Version</th></tr><tr><td><code>qiskit-terra</code></td><td>0.18.3</td></tr><tr><td><code>qiskit-aer</code></td><td>0.9.1</td></tr><tr><td><code>qiskit-ignis</code></td><td>0.6.0</td></tr><tr><td><code>qiskit-ibmq-provider</code></td><td>0.17.0</td></tr><tr><td><code>qiskit-aqua</code></td><td>0.9.5</td></tr><tr><td><code>qiskit</code></td><td>0.31.0</td></tr><tr><th>System information</th></tr><tr><td>Python</td><td>3.7.4 (default, Aug 13 2019, 15:17:50) \n",
       "[Clang 4.0.1 (tags/RELEASE_401/final)]</td></tr><tr><td>OS</td><td>Darwin</td></tr><tr><td>CPUs</td><td>4</td></tr><tr><td>Memory (Gb)</td><td>8.0</td></tr><tr><td colspan='2'>Tue Nov 09 19:36:58 2021 +01</td></tr></table>"
      ],
      "text/plain": [
       "<IPython.core.display.HTML object>"
      ]
     },
     "metadata": {},
     "output_type": "display_data"
    }
   ],
   "source": [
    "import qiskit.tools.jupyter\n",
    "%qiskit_version_table"
   ]
  },
  {
   "cell_type": "markdown",
   "metadata": {
    "id": "nENqt4Qzfl5P"
   },
   "source": [
    "# **Exploring Qubits with Qiski**"
   ]
  },
  {
   "cell_type": "code",
   "execution_count": 29,
   "metadata": {
    "executionInfo": {
     "elapsed": 1521,
     "status": "ok",
     "timestamp": 1636457962084,
     "user": {
      "displayName": "MOHAMED OUZARF",
      "photoUrl": "https://lh3.googleusercontent.com/a-/AOh14GjqOe87DDkKIuMqyJnj_be11wNskc-Z_LdlxCai-Q=s64",
      "userId": "07627566397046241781"
     },
     "user_tz": -60
    },
    "id": "ZTf3eHC-fSvp"
   },
   "outputs": [],
   "source": [
    "from qiskit import QuantumCircuit, assemble, Aer\n",
    "from qiskit.visualization import plot_histogram, plot_bloch_vector\n",
    "from math import sqrt, pi"
   ]
  },
  {
   "cell_type": "code",
   "execution_count": 30,
   "metadata": {
    "executionInfo": {
     "elapsed": 466,
     "status": "ok",
     "timestamp": 1636457991005,
     "user": {
      "displayName": "MOHAMED OUZARF",
      "photoUrl": "https://lh3.googleusercontent.com/a-/AOh14GjqOe87DDkKIuMqyJnj_be11wNskc-Z_LdlxCai-Q=s64",
      "userId": "07627566397046241781"
     },
     "user_tz": -60
    },
    "id": "mNNY6LQgfuB4"
   },
   "outputs": [],
   "source": [
    "qc = QuantumCircuit(1) # Create a quantum circuit with one qubit"
   ]
  },
  {
   "cell_type": "code",
   "execution_count": 31,
   "metadata": {
    "colab": {
     "base_uri": "https://localhost:8080/",
     "height": 62
    },
    "executionInfo": {
     "elapsed": 631,
     "status": "ok",
     "timestamp": 1636458056821,
     "user": {
      "displayName": "MOHAMED OUZARF",
      "photoUrl": "https://lh3.googleusercontent.com/a-/AOh14GjqOe87DDkKIuMqyJnj_be11wNskc-Z_LdlxCai-Q=s64",
      "userId": "07627566397046241781"
     },
     "user_tz": -60
    },
    "id": "2TJnHwEyf00v",
    "outputId": "cafb4c75-763e-4168-9a3a-4037b0a52ebd"
   },
   "outputs": [
    {
     "data": {
      "text/html": [
       "<pre style=\"word-wrap: normal;white-space: pre;background: #fff0;line-height: 1.1;font-family: &quot;Courier New&quot;,Courier,monospace\">     ┌─────────────────┐\n",
       "q_0: ┤ Initialize(0,1) ├\n",
       "     └─────────────────┘</pre>"
      ],
      "text/plain": [
       "     ┌─────────────────┐\n",
       "q_0: ┤ Initialize(0,1) ├\n",
       "     └─────────────────┘"
      ]
     },
     "execution_count": 31,
     "metadata": {},
     "output_type": "execute_result"
    }
   ],
   "source": [
    "qc = QuantumCircuit(1)  # Create a quantum circuit with one qubit\n",
    "initial_state = [0,1]   # Define initial_state as |1>\n",
    "qc.initialize(initial_state, 0) # Apply initialisation operation to the 0th qubit\n",
    "qc.draw()  # Let's view our circuit"
   ]
  },
  {
   "cell_type": "code",
   "execution_count": 32,
   "metadata": {
    "executionInfo": {
     "elapsed": 683,
     "status": "ok",
     "timestamp": 1636458107539,
     "user": {
      "displayName": "MOHAMED OUZARF",
      "photoUrl": "https://lh3.googleusercontent.com/a-/AOh14GjqOe87DDkKIuMqyJnj_be11wNskc-Z_LdlxCai-Q=s64",
      "userId": "07627566397046241781"
     },
     "user_tz": -60
    },
    "id": "-jEGJjedf5KA"
   },
   "outputs": [],
   "source": [
    "sim = Aer.get_backend('aer_simulator')  # Tell Qiskit how to simulate our circuit"
   ]
  },
  {
   "cell_type": "code",
   "execution_count": 33,
   "metadata": {
    "colab": {
     "base_uri": "https://localhost:8080/"
    },
    "executionInfo": {
     "elapsed": 580,
     "status": "ok",
     "timestamp": 1636458150171,
     "user": {
      "displayName": "MOHAMED OUZARF",
      "photoUrl": "https://lh3.googleusercontent.com/a-/AOh14GjqOe87DDkKIuMqyJnj_be11wNskc-Z_LdlxCai-Q=s64",
      "userId": "07627566397046241781"
     },
     "user_tz": -60
    },
    "id": "UEN0sORygRPj",
    "outputId": "7164e7ea-c24b-44ca-c0f9-95f81f3efeae"
   },
   "outputs": [],
   "source": [
    "qc = QuantumCircuit(1)  # Create a quantum circuit with one qubit\n",
    "initial_state = [0,1]   # Define initial_state as |1>\n",
    "qc.initialize(initial_state, 0) # Apply initialisation operation to the 0th qubit\n",
    "qc.save_statevector()   # Tell simulator to save statevector\n",
    "qobj = assemble(qc)     # Create a Qobj from the circuit for the simulator to run\n",
    "result = sim.run(qobj).result() # Do the simulation and return the result"
   ]
  },
  {
   "cell_type": "code",
   "execution_count": 34,
   "metadata": {
    "colab": {
     "base_uri": "https://localhost:8080/"
    },
    "executionInfo": {
     "elapsed": 476,
     "status": "ok",
     "timestamp": 1636458189814,
     "user": {
      "displayName": "MOHAMED OUZARF",
      "photoUrl": "https://lh3.googleusercontent.com/a-/AOh14GjqOe87DDkKIuMqyJnj_be11wNskc-Z_LdlxCai-Q=s64",
      "userId": "07627566397046241781"
     },
     "user_tz": -60
    },
    "id": "oCLO2haGgb-r",
    "outputId": "b64b70c2-0770-4f41-caec-0f5417e23bcb"
   },
   "outputs": [
    {
     "name": "stdout",
     "output_type": "stream",
     "text": [
      "[0.+0.j 1.+0.j]\n"
     ]
    }
   ],
   "source": [
    "out_state = result.get_statevector()\n",
    "print(out_state) # Display the output state vector"
   ]
  },
  {
   "cell_type": "code",
   "execution_count": 35,
   "metadata": {
    "colab": {
     "base_uri": "https://localhost:8080/",
     "height": 92
    },
    "executionInfo": {
     "elapsed": 572,
     "status": "ok",
     "timestamp": 1636458220366,
     "user": {
      "displayName": "MOHAMED OUZARF",
      "photoUrl": "https://lh3.googleusercontent.com/a-/AOh14GjqOe87DDkKIuMqyJnj_be11wNskc-Z_LdlxCai-Q=s64",
      "userId": "07627566397046241781"
     },
     "user_tz": -60
    },
    "id": "UlYVdk1CglhZ",
    "outputId": "7507aed4-aebf-4ccb-ebe8-fce4acfaa6bc"
   },
   "outputs": [
    {
     "data": {
      "text/html": [
       "<pre style=\"word-wrap: normal;white-space: pre;background: #fff0;line-height: 1.1;font-family: &quot;Courier New&quot;,Courier,monospace\">        ┌─────────────────┐ ░  ░ ┌─┐\n",
       "   q_0: ┤ Initialize(0,1) ├─░──░─┤M├\n",
       "        └─────────────────┘ ░  ░ └╥┘\n",
       "meas: 1/══════════════════════════╩═\n",
       "                                  0 </pre>"
      ],
      "text/plain": [
       "        ┌─────────────────┐ ░  ░ ┌─┐\n",
       "   q_0: ┤ Initialize(0,1) ├─░──░─┤M├\n",
       "        └─────────────────┘ ░  ░ └╥┘\n",
       "meas: 1/══════════════════════════╩═\n",
       "                                  0 "
      ]
     },
     "execution_count": 35,
     "metadata": {},
     "output_type": "execute_result"
    }
   ],
   "source": [
    "qc.measure_all()\n",
    "qc.draw()"
   ]
  },
  {
   "cell_type": "code",
   "execution_count": 36,
   "metadata": {
    "colab": {
     "base_uri": "https://localhost:8080/",
     "height": 377
    },
    "executionInfo": {
     "elapsed": 614,
     "status": "ok",
     "timestamp": 1636458390495,
     "user": {
      "displayName": "MOHAMED OUZARF",
      "photoUrl": "https://lh3.googleusercontent.com/a-/AOh14GjqOe87DDkKIuMqyJnj_be11wNskc-Z_LdlxCai-Q=s64",
      "userId": "07627566397046241781"
     },
     "user_tz": -60
    },
    "id": "_yz9pBKqgsyW",
    "outputId": "0117eab2-2a35-4456-87e0-3a0a35d56ac5"
   },
   "outputs": [
    {
     "data": {
      "image/png": "[encoded data removed]",
      "text/plain": [
       "<Figure size 504x360 with 1 Axes>"
      ]
     },
     "execution_count": 36,
     "metadata": {},
     "output_type": "execute_result"
    }
   ],
   "source": [
    "qobj = assemble(qc)\n",
    "result = sim.run(qobj).result()\n",
    "counts = result.get_counts()\n",
    "plot_histogram(counts)"
   ]
  },
  {
   "cell_type": "code",
   "execution_count": 37,
   "metadata": {
    "executionInfo": {
     "elapsed": 615,
     "status": "ok",
     "timestamp": 1636458421889,
     "user": {
      "displayName": "MOHAMED OUZARF",
      "photoUrl": "https://lh3.googleusercontent.com/a-/AOh14GjqOe87DDkKIuMqyJnj_be11wNskc-Z_LdlxCai-Q=s64",
      "userId": "07627566397046241781"
     },
     "user_tz": -60
    },
    "id": "Y9EOPQRthcjc"
   },
   "outputs": [],
   "source": [
    "initial_state = [1/sqrt(2), 1j/sqrt(2)]  # Define state |q_0>"
   ]
  },
  {
   "cell_type": "code",
   "execution_count": 38,
   "metadata": {
    "colab": {
     "base_uri": "https://localhost:8080/"
    },
    "executionInfo": {
     "elapsed": 529,
     "status": "ok",
     "timestamp": 1636458446122,
     "user": {
      "displayName": "MOHAMED OUZARF",
      "photoUrl": "https://lh3.googleusercontent.com/a-/AOh14GjqOe87DDkKIuMqyJnj_be11wNskc-Z_LdlxCai-Q=s64",
      "userId": "07627566397046241781"
     },
     "user_tz": -60
    },
    "id": "oORXPRSDhehc",
    "outputId": "8beab036-0c5d-49e8-dae9-dec4ead21d95"
   },
   "outputs": [
    {
     "name": "stdout",
     "output_type": "stream",
     "text": [
      "[0.70710678+0.j         0.        +0.70710678j]\n"
     ]
    }
   ],
   "source": [
    "qc = QuantumCircuit(1) # Must redefine qc\n",
    "qc.initialize(initial_state, 0) # Initialize the 0th qubit in the state `initial_state`\n",
    "qc.save_statevector() # Save statevector\n",
    "qobj = assemble(qc)\n",
    "state = sim.run(qobj).result().get_statevector() # Execute the circuit\n",
    "print(state)           # Print the result"
   ]
  },
  {
   "cell_type": "code",
   "execution_count": 39,
   "metadata": {
    "colab": {
     "base_uri": "https://localhost:8080/",
     "height": 382
    },
    "executionInfo": {
     "elapsed": 665,
     "status": "ok",
     "timestamp": 1636458472621,
     "user": {
      "displayName": "MOHAMED OUZARF",
      "photoUrl": "https://lh3.googleusercontent.com/a-/AOh14GjqOe87DDkKIuMqyJnj_be11wNskc-Z_LdlxCai-Q=s64",
      "userId": "07627566397046241781"
     },
     "user_tz": -60
    },
    "id": "gJouQFLshlzT",
    "outputId": "5154cde5-f574-47cd-a2ce-dcfa390b83ab"
   },
   "outputs": [
    {
     "data": {
      "image/png": "[encoded data removed]",
      "text/plain": [
       "<Figure size 504x360 with 1 Axes>"
      ]
     },
     "execution_count": 39,
     "metadata": {},
     "output_type": "execute_result"
    }
   ],
   "source": [
    "qobj = assemble(qc)\n",
    "results = sim.run(qobj).result().get_counts()\n",
    "plot_histogram(results)"
   ]
  },
  {
   "cell_type": "markdown",
   "metadata": {
    "id": "J_UQ9yp_hvkK"
   },
   "source": [
    "# **2. The Rules of Measurement**"
   ]
  },
  {
   "cell_type": "code",
   "execution_count": 40,
   "metadata": {
    "colab": {
     "base_uri": "https://localhost:8080/",
     "height": 324
    },
    "executionInfo": {
     "elapsed": 627,
     "status": "error",
     "timestamp": 1636459332034,
     "user": {
      "displayName": "MOHAMED OUZARF",
      "photoUrl": "https://lh3.googleusercontent.com/a-/AOh14GjqOe87DDkKIuMqyJnj_be11wNskc-Z_LdlxCai-Q=s64",
      "userId": "07627566397046241781"
     },
     "user_tz": -60
    },
    "id": "YMVbzA8uh1eu",
    "outputId": "09d1053b-43d9-4ec0-8d20-773d69c2c70d"
   },
   "outputs": [
    {
     "ename": "QiskitError",
     "evalue": "'Sum of amplitudes-squared does not equal one.'",
     "output_type": "error",
     "traceback": [
      "\u001b[0;31m---------------------------------------------------------------------------\u001b[0m",
      "\u001b[0;31mQiskitError\u001b[0m                               Traceback (most recent call last)",
      "\u001b[0;32m<ipython-input-40-ddc73828b990>\u001b[0m in \u001b[0;36m<module>\u001b[0;34m\u001b[0m\n\u001b[1;32m      1\u001b[0m \u001b[0mvector\u001b[0m \u001b[0;34m=\u001b[0m \u001b[0;34m[\u001b[0m\u001b[0;36m1\u001b[0m\u001b[0;34m,\u001b[0m\u001b[0;36m1\u001b[0m\u001b[0;34m]\u001b[0m\u001b[0;34m\u001b[0m\u001b[0;34m\u001b[0m\u001b[0m\n\u001b[0;32m----> 2\u001b[0;31m \u001b[0mqc\u001b[0m\u001b[0;34m.\u001b[0m\u001b[0minitialize\u001b[0m\u001b[0;34m(\u001b[0m\u001b[0mvector\u001b[0m\u001b[0;34m,\u001b[0m \u001b[0;36m0\u001b[0m\u001b[0;34m)\u001b[0m\u001b[0;34m\u001b[0m\u001b[0;34m\u001b[0m\u001b[0m\n\u001b[0m",
      "\u001b[0;32m~/opt/anaconda3/lib/python3.7/site-packages/qiskit/extensions/quantum_initializer/initializer.py\u001b[0m in \u001b[0;36minitialize\u001b[0;34m(self, params, qubits)\u001b[0m\n\u001b[1;32m    457\u001b[0m \u001b[0;34m\u001b[0m\u001b[0m\n\u001b[1;32m    458\u001b[0m     \u001b[0mnum_qubits\u001b[0m \u001b[0;34m=\u001b[0m \u001b[0;32mNone\u001b[0m \u001b[0;32mif\u001b[0m \u001b[0;32mnot\u001b[0m \u001b[0misinstance\u001b[0m\u001b[0;34m(\u001b[0m\u001b[0mparams\u001b[0m\u001b[0;34m,\u001b[0m \u001b[0mint\u001b[0m\u001b[0;34m)\u001b[0m \u001b[0;32melse\u001b[0m \u001b[0mlen\u001b[0m\u001b[0;34m(\u001b[0m\u001b[0mqubits\u001b[0m\u001b[0;34m)\u001b[0m\u001b[0;34m\u001b[0m\u001b[0;34m\u001b[0m\u001b[0m\n\u001b[0;32m--> 459\u001b[0;31m     \u001b[0;32mreturn\u001b[0m \u001b[0mself\u001b[0m\u001b[0;34m.\u001b[0m\u001b[0mappend\u001b[0m\u001b[0;34m(\u001b[0m\u001b[0mInitialize\u001b[0m\u001b[0;34m(\u001b[0m\u001b[0mparams\u001b[0m\u001b[0;34m,\u001b[0m \u001b[0mnum_qubits\u001b[0m\u001b[0;34m)\u001b[0m\u001b[0;34m,\u001b[0m \u001b[0mqubits\u001b[0m\u001b[0;34m)\u001b[0m\u001b[0;34m\u001b[0m\u001b[0;34m\u001b[0m\u001b[0m\n\u001b[0m\u001b[1;32m    460\u001b[0m \u001b[0;34m\u001b[0m\u001b[0m\n\u001b[1;32m    461\u001b[0m \u001b[0;34m\u001b[0m\u001b[0m\n",
      "\u001b[0;32m~/opt/anaconda3/lib/python3.7/site-packages/qiskit/extensions/quantum_initializer/initializer.py\u001b[0m in \u001b[0;36m__init__\u001b[0;34m(self, params, num_qubits)\u001b[0m\n\u001b[1;32m     90\u001b[0m             \u001b[0;31m# Check if probabilities (amplitudes squared) sum to 1\u001b[0m\u001b[0;34m\u001b[0m\u001b[0;34m\u001b[0m\u001b[0;34m\u001b[0m\u001b[0m\n\u001b[1;32m     91\u001b[0m             \u001b[0;32mif\u001b[0m \u001b[0;32mnot\u001b[0m \u001b[0mmath\u001b[0m\u001b[0;34m.\u001b[0m\u001b[0misclose\u001b[0m\u001b[0;34m(\u001b[0m\u001b[0msum\u001b[0m\u001b[0;34m(\u001b[0m\u001b[0mnp\u001b[0m\u001b[0;34m.\u001b[0m\u001b[0mabsolute\u001b[0m\u001b[0;34m(\u001b[0m\u001b[0mparams\u001b[0m\u001b[0;34m)\u001b[0m \u001b[0;34m**\u001b[0m \u001b[0;36m2\u001b[0m\u001b[0;34m)\u001b[0m\u001b[0;34m,\u001b[0m \u001b[0;36m1.0\u001b[0m\u001b[0;34m,\u001b[0m \u001b[0mabs_tol\u001b[0m\u001b[0;34m=\u001b[0m\u001b[0m_EPS\u001b[0m\u001b[0;34m)\u001b[0m\u001b[0;34m:\u001b[0m\u001b[0;34m\u001b[0m\u001b[0;34m\u001b[0m\u001b[0m\n\u001b[0;32m---> 92\u001b[0;31m                 \u001b[0;32mraise\u001b[0m \u001b[0mQiskitError\u001b[0m\u001b[0;34m(\u001b[0m\u001b[0;34m\"Sum of amplitudes-squared does not equal one.\"\u001b[0m\u001b[0;34m)\u001b[0m\u001b[0;34m\u001b[0m\u001b[0;34m\u001b[0m\u001b[0m\n\u001b[0m\u001b[1;32m     93\u001b[0m \u001b[0;34m\u001b[0m\u001b[0m\n\u001b[1;32m     94\u001b[0m             \u001b[0mnum_qubits\u001b[0m \u001b[0;34m=\u001b[0m \u001b[0mint\u001b[0m\u001b[0;34m(\u001b[0m\u001b[0mnum_qubits\u001b[0m\u001b[0;34m)\u001b[0m\u001b[0;34m\u001b[0m\u001b[0;34m\u001b[0m\u001b[0m\n",
      "\u001b[0;31mQiskitError\u001b[0m: 'Sum of amplitudes-squared does not equal one.'"
     ]
    }
   ],
   "source": [
    "vector = [1,1]\n",
    "qc.initialize(vector, 0)"
   ]
  },
  {
   "cell_type": "code",
   "execution_count": 41,
   "metadata": {
    "colab": {
     "base_uri": "https://localhost:8080/",
     "height": 113,
     "referenced_widgets": [
      "35e7b1e7248e405385e08ac65bd51ac7",
      "8ea664b16082485e9a9fb72849f6400b",
      "27e47b1333674d878eacb31d31706905",
      "ac35fcebe7734c3f82ff1fe39662c426",
      "d360c10a9cc84788a1b13d4baf2f9fb9",
      "9b22a0efc005407abc73625ccb7fa02d",
      "ffe8d070db88400eb3f4c8e944c7d6c7",
      "6252bb1134b043b2afd05368d337c71e",
      "ad21233fdf0e438b80a2414e7c2a1cfc",
      "16248d73efe849dcb2445124078828f4",
      "ee99e4c3dfeb4a3cb35667061b51389d",
      "a2aba04dba4d4ab78f7ef4824da2b0a1",
      "976f75b7eae745b39e054e6fa93a774a",
      "f2147add7ca24251af8708091796a54c",
      "80a26e41457a4dc99c794a78733fb3dc",
      "f5dc57781dba42a8bf81e14070f02cd9"
     ]
    },
    "executionInfo": {
     "elapsed": 648,
     "status": "ok",
     "timestamp": 1636459367282,
     "user": {
      "displayName": "MOHAMED OUZARF",
      "photoUrl": "https://lh3.googleusercontent.com/a-/AOh14GjqOe87DDkKIuMqyJnj_be11wNskc-Z_LdlxCai-Q=s64",
      "userId": "07627566397046241781"
     },
     "user_tz": -60
    },
    "id": "uHds6-Z_hqZD",
    "outputId": "76e49539-bf40-41b9-efe9-7a1fa26ef420"
   },
   "outputs": [
    {
     "data": {
      "application/vnd.jupyter.widget-view+json": {
       "model_id": "b65039e12aa44f93ab9903f978b569c0",
       "version_major": 2,
       "version_minor": 0
      },
      "text/plain": [
       "VBox(children=(Label(value='State Vector:'), HBox(children=(Text(value='[1, 0]', placeholder='Type something')…"
      ]
     },
     "metadata": {},
     "output_type": "display_data"
    },
    {
     "data": {
      "application/vnd.jupyter.widget-view+json": {
       "model_id": "ac7d68a5962845bea5a1ad4832caabc8",
       "version_major": 2,
       "version_minor": 0
      },
      "text/plain": [
       "HTML(value='<pre></pre>')"
      ]
     },
     "metadata": {},
     "output_type": "display_data"
    }
   ],
   "source": [
    "# Run the code in this cell to interact with the widget\n",
    "from qiskit_textbook.widgets import state_vector_exercise\n",
    "state_vector_exercise(target=1/3)"
   ]
  },
  {
   "cell_type": "code",
   "execution_count": 42,
   "metadata": {
    "colab": {
     "base_uri": "https://localhost:8080/",
     "height": 62
    },
    "executionInfo": {
     "elapsed": 660,
     "status": "ok",
     "timestamp": 1636459666080,
     "user": {
      "displayName": "MOHAMED OUZARF",
      "photoUrl": "https://lh3.googleusercontent.com/a-/AOh14GjqOe87DDkKIuMqyJnj_be11wNskc-Z_LdlxCai-Q=s64",
      "userId": "07627566397046241781"
     },
     "user_tz": -60
    },
    "id": "IKmuOhLPlNlm",
    "outputId": "e3e36a27-a77e-41e0-97ed-352441c142bc"
   },
   "outputs": [
    {
     "data": {
      "text/html": [
       "<pre style=\"word-wrap: normal;white-space: pre;background: #fff0;line-height: 1.1;font-family: &quot;Courier New&quot;,Courier,monospace\">     ┌──────────────────────────────┐\n",
       "q_0: ┤ Initialize(0.70711j,0.70711) ├\n",
       "     └──────────────────────────────┘</pre>"
      ],
      "text/plain": [
       "     ┌──────────────────────────────┐\n",
       "q_0: ┤ Initialize(0.70711j,0.70711) ├\n",
       "     └──────────────────────────────┘"
      ]
     },
     "execution_count": 42,
     "metadata": {},
     "output_type": "execute_result"
    }
   ],
   "source": [
    "qc = QuantumCircuit(1) # We are redefining qc\n",
    "initial_state = [0.+1.j/sqrt(2),1/sqrt(2)+0.j]\n",
    "qc.initialize(initial_state, 0)\n",
    "qc.draw()"
   ]
  },
  {
   "cell_type": "code",
   "execution_count": 43,
   "metadata": {
    "colab": {
     "base_uri": "https://localhost:8080/"
    },
    "executionInfo": {
     "elapsed": 849,
     "status": "ok",
     "timestamp": 1636459709698,
     "user": {
      "displayName": "MOHAMED OUZARF",
      "photoUrl": "https://lh3.googleusercontent.com/a-/AOh14GjqOe87DDkKIuMqyJnj_be11wNskc-Z_LdlxCai-Q=s64",
      "userId": "07627566397046241781"
     },
     "user_tz": -60
    },
    "id": "DFO5MRnkmWlv",
    "outputId": "32e7a163-5d95-4bf8-d766-4ba8715abc0d"
   },
   "outputs": [
    {
     "name": "stdout",
     "output_type": "stream",
     "text": [
      "Qubit State = [0.        +0.70710678j 0.70710678+0.j        ]\n"
     ]
    }
   ],
   "source": [
    "qc.save_statevector()\n",
    "result = sim.run(assemble(qc)).result()\n",
    "state = result.get_statevector()\n",
    "print(\"Qubit State = \" + str(state))"
   ]
  },
  {
   "cell_type": "code",
   "execution_count": 44,
   "metadata": {
    "colab": {
     "base_uri": "https://localhost:8080/",
     "height": 92
    },
    "executionInfo": {
     "elapsed": 594,
     "status": "ok",
     "timestamp": 1636459735156,
     "user": {
      "displayName": "MOHAMED OUZARF",
      "photoUrl": "https://lh3.googleusercontent.com/a-/AOh14GjqOe87DDkKIuMqyJnj_be11wNskc-Z_LdlxCai-Q=s64",
      "userId": "07627566397046241781"
     },
     "user_tz": -60
    },
    "id": "Jx_pZsOJmZbW",
    "outputId": "119f32fd-47ff-48e8-ddab-d0dbcbd121f4"
   },
   "outputs": [
    {
     "data": {
      "text/html": [
       "<pre style=\"word-wrap: normal;white-space: pre;background: #fff0;line-height: 1.1;font-family: &quot;Courier New&quot;,Courier,monospace\">        ┌──────────────────────────────┐ ░ ┌─┐ ░ \n",
       "   q_0: ┤ Initialize(0.70711j,0.70711) ├─░─┤M├─░─\n",
       "        └──────────────────────────────┘ ░ └╥┘ ░ \n",
       "meas: 1/════════════════════════════════════╩════\n",
       "                                            0    </pre>"
      ],
      "text/plain": [
       "        ┌──────────────────────────────┐ ░ ┌─┐ ░ \n",
       "   q_0: ┤ Initialize(0.70711j,0.70711) ├─░─┤M├─░─\n",
       "        └──────────────────────────────┘ ░ └╥┘ ░ \n",
       "meas: 1/════════════════════════════════════╩════\n",
       "                                            0    "
      ]
     },
     "execution_count": 44,
     "metadata": {},
     "output_type": "execute_result"
    }
   ],
   "source": [
    "qc = QuantumCircuit(1) # We are redefining qc\n",
    "initial_state = [0.+1.j/sqrt(2),1/sqrt(2)+0.j]\n",
    "qc.initialize(initial_state, 0)\n",
    "qc.measure_all()\n",
    "qc.save_statevector()\n",
    "qc.draw()"
   ]
  },
  {
   "cell_type": "code",
   "execution_count": 45,
   "metadata": {
    "colab": {
     "base_uri": "https://localhost:8080/"
    },
    "executionInfo": {
     "elapsed": 635,
     "status": "ok",
     "timestamp": 1636459758734,
     "user": {
      "displayName": "MOHAMED OUZARF",
      "photoUrl": "https://lh3.googleusercontent.com/a-/AOh14GjqOe87DDkKIuMqyJnj_be11wNskc-Z_LdlxCai-Q=s64",
      "userId": "07627566397046241781"
     },
     "user_tz": -60
    },
    "id": "amej1Hpjmeud",
    "outputId": "43f2afde-5b6e-4ac9-cc40-e3a52d8f6b43"
   },
   "outputs": [
    {
     "name": "stdout",
     "output_type": "stream",
     "text": [
      "State of Measured Qubit = [0.+1.j 0.+0.j]\n"
     ]
    }
   ],
   "source": [
    "qobj = assemble(qc)\n",
    "state = sim.run(qobj).result().get_statevector()\n",
    "print(\"State of Measured Qubit = \" + str(state))"
   ]
  },
  {
   "cell_type": "markdown",
   "metadata": {
    "id": "ttP16JSYmuFE"
   },
   "source": [
    "# **3. The Bloch Sphere**"
   ]
  },
  {
   "cell_type": "markdown",
   "metadata": {
    "id": "OyRAQM6w4fG7"
   },
   "source": [
    "# **Single Qubit Gates**"
   ]
  },
  {
   "cell_type": "code",
   "execution_count": 46,
   "metadata": {
    "executionInfo": {
     "elapsed": 1596,
     "status": "ok",
     "timestamp": 1636464492629,
     "user": {
      "displayName": "MOHAMED OUZARF",
      "photoUrl": "https://lh3.googleusercontent.com/a-/AOh14GjqOe87DDkKIuMqyJnj_be11wNskc-Z_LdlxCai-Q=s64",
      "userId": "07627566397046241781"
     },
     "user_tz": -60
    },
    "id": "qUQINPrzmkrt"
   },
   "outputs": [],
   "source": [
    "from qiskit import QuantumCircuit, assemble, Aer\n",
    "from math import pi, sqrt\n",
    "from qiskit.visualization import plot_bloch_multivector, plot_histogram\n",
    "sim = Aer.get_backend('aer_simulator')"
   ]
  },
  {
   "cell_type": "code",
   "execution_count": 51,
   "metadata": {
    "colab": {
     "base_uri": "https://localhost:8080/",
     "height": 62
    },
    "executionInfo": {
     "elapsed": 735,
     "status": "ok",
     "timestamp": 1636464632152,
     "user": {
      "displayName": "MOHAMED OUZARF",
      "photoUrl": "https://lh3.googleusercontent.com/a-/AOh14GjqOe87DDkKIuMqyJnj_be11wNskc-Z_LdlxCai-Q=s64",
      "userId": "07627566397046241781"
     },
     "user_tz": -60
    },
    "id": "hI6e90wH4ur5",
    "outputId": "5ad1e959-002a-438d-ebf4-762be632f07f"
   },
   "outputs": [
    {
     "data": {
      "text/html": [
       "<pre style=\"word-wrap: normal;white-space: pre;background: #fff0;line-height: 1.1;font-family: &quot;Courier New&quot;,Courier,monospace\">     ┌───┐\n",
       "q_0: ┤ X ├\n",
       "     └───┘</pre>"
      ],
      "text/plain": [
       "     ┌───┐\n",
       "q_0: ┤ X ├\n",
       "     └───┘"
      ]
     },
     "execution_count": 51,
     "metadata": {},
     "output_type": "execute_result"
    }
   ],
   "source": [
    "# Let's do an X-gate on a |0> qubit\n",
    "qc = QuantumCircuit(1)\n",
    "qc.x(0)\n",
    "qc.draw()"
   ]
  },
  {
   "cell_type": "code",
   "execution_count": null,
   "metadata": {
    "id": "8cLhvNkZ5IKf"
   },
   "outputs": [],
   "source": []
  },
  {
   "cell_type": "code",
   "execution_count": 52,
   "metadata": {
    "colab": {
     "base_uri": "https://localhost:8080/",
     "height": 322
    },
    "executionInfo": {
     "elapsed": 1657,
     "status": "ok",
     "timestamp": 1636464640802,
     "user": {
      "displayName": "MOHAMED OUZARF",
      "photoUrl": "https://lh3.googleusercontent.com/a-/AOh14GjqOe87DDkKIuMqyJnj_be11wNskc-Z_LdlxCai-Q=s64",
      "userId": "07627566397046241781"
     },
     "user_tz": -60
    },
    "id": "Rg6Oeevs4zPo",
    "outputId": "1bd6a3bf-6836-4112-adc5-c2b6d2f8548b"
   },
   "outputs": [
    {
     "ename": "ValueError",
     "evalue": "Unknown projection '3d'",
     "output_type": "error",
     "traceback": [
      "\u001b[0;31m---------------------------------------------------------------------------\u001b[0m",
      "\u001b[0;31mKeyError\u001b[0m                                  Traceback (most recent call last)",
      "\u001b[0;32m~/opt/anaconda3/lib/python3.7/site-packages/matplotlib/projections/__init__.py\u001b[0m in \u001b[0;36mget_projection_class\u001b[0;34m(projection)\u001b[0m\n\u001b[1;32m     57\u001b[0m     \u001b[0;32mtry\u001b[0m\u001b[0;34m:\u001b[0m\u001b[0;34m\u001b[0m\u001b[0;34m\u001b[0m\u001b[0m\n\u001b[0;32m---> 58\u001b[0;31m         \u001b[0;32mreturn\u001b[0m \u001b[0mprojection_registry\u001b[0m\u001b[0;34m.\u001b[0m\u001b[0mget_projection_class\u001b[0m\u001b[0;34m(\u001b[0m\u001b[0mprojection\u001b[0m\u001b[0;34m)\u001b[0m\u001b[0;34m\u001b[0m\u001b[0;34m\u001b[0m\u001b[0m\n\u001b[0m\u001b[1;32m     59\u001b[0m     \u001b[0;32mexcept\u001b[0m \u001b[0mKeyError\u001b[0m\u001b[0;34m:\u001b[0m\u001b[0;34m\u001b[0m\u001b[0;34m\u001b[0m\u001b[0m\n",
      "\u001b[0;32m~/opt/anaconda3/lib/python3.7/site-packages/matplotlib/projections/__init__.py\u001b[0m in \u001b[0;36mget_projection_class\u001b[0;34m(self, name)\u001b[0m\n\u001b[1;32m     24\u001b[0m         \"\"\"\n\u001b[0;32m---> 25\u001b[0;31m         \u001b[0;32mreturn\u001b[0m \u001b[0mself\u001b[0m\u001b[0;34m.\u001b[0m\u001b[0m_all_projection_types\u001b[0m\u001b[0;34m[\u001b[0m\u001b[0mname\u001b[0m\u001b[0;34m]\u001b[0m\u001b[0;34m\u001b[0m\u001b[0;34m\u001b[0m\u001b[0m\n\u001b[0m\u001b[1;32m     26\u001b[0m \u001b[0;34m\u001b[0m\u001b[0m\n",
      "\u001b[0;31mKeyError\u001b[0m: '3d'",
      "\nDuring handling of the above exception, another exception occurred:\n",
      "\u001b[0;31mValueError\u001b[0m                                Traceback (most recent call last)",
      "\u001b[0;32m<ipython-input-52-a1a96e5a2882>\u001b[0m in \u001b[0;36m<module>\u001b[0;34m\u001b[0m\n\u001b[1;32m      3\u001b[0m \u001b[0mqobj\u001b[0m \u001b[0;34m=\u001b[0m \u001b[0massemble\u001b[0m\u001b[0;34m(\u001b[0m\u001b[0mqc\u001b[0m\u001b[0;34m)\u001b[0m\u001b[0;34m\u001b[0m\u001b[0;34m\u001b[0m\u001b[0m\n\u001b[1;32m      4\u001b[0m \u001b[0mstate\u001b[0m \u001b[0;34m=\u001b[0m \u001b[0msim\u001b[0m\u001b[0;34m.\u001b[0m\u001b[0mrun\u001b[0m\u001b[0;34m(\u001b[0m\u001b[0mqobj\u001b[0m\u001b[0;34m)\u001b[0m\u001b[0;34m.\u001b[0m\u001b[0mresult\u001b[0m\u001b[0;34m(\u001b[0m\u001b[0;34m)\u001b[0m\u001b[0;34m.\u001b[0m\u001b[0mget_statevector\u001b[0m\u001b[0;34m(\u001b[0m\u001b[0;34m)\u001b[0m\u001b[0;34m\u001b[0m\u001b[0;34m\u001b[0m\u001b[0m\n\u001b[0;32m----> 5\u001b[0;31m \u001b[0mplot_bloch_multivector\u001b[0m\u001b[0;34m(\u001b[0m\u001b[0mstate\u001b[0m\u001b[0;34m)\u001b[0m\u001b[0;34m\u001b[0m\u001b[0;34m\u001b[0m\u001b[0m\n\u001b[0m",
      "\u001b[0;32m~/opt/anaconda3/lib/python3.7/site-packages/qiskit/utils/deprecation.py\u001b[0m in \u001b[0;36mwrapper\u001b[0;34m(*args, **kwargs)\u001b[0m\n\u001b[1;32m     60\u001b[0m             \u001b[0;32mif\u001b[0m \u001b[0mkwargs\u001b[0m\u001b[0;34m:\u001b[0m\u001b[0;34m\u001b[0m\u001b[0;34m\u001b[0m\u001b[0m\n\u001b[1;32m     61\u001b[0m                 \u001b[0m_rename_kwargs\u001b[0m\u001b[0;34m(\u001b[0m\u001b[0mfunc\u001b[0m\u001b[0;34m.\u001b[0m\u001b[0m__name__\u001b[0m\u001b[0;34m,\u001b[0m \u001b[0mkwargs\u001b[0m\u001b[0;34m,\u001b[0m \u001b[0mkwarg_map\u001b[0m\u001b[0;34m)\u001b[0m\u001b[0;34m\u001b[0m\u001b[0;34m\u001b[0m\u001b[0m\n\u001b[0;32m---> 62\u001b[0;31m             \u001b[0;32mreturn\u001b[0m \u001b[0mfunc\u001b[0m\u001b[0;34m(\u001b[0m\u001b[0;34m*\u001b[0m\u001b[0margs\u001b[0m\u001b[0;34m,\u001b[0m \u001b[0;34m**\u001b[0m\u001b[0mkwargs\u001b[0m\u001b[0;34m)\u001b[0m\u001b[0;34m\u001b[0m\u001b[0;34m\u001b[0m\u001b[0m\n\u001b[0m\u001b[1;32m     63\u001b[0m \u001b[0;34m\u001b[0m\u001b[0m\n\u001b[1;32m     64\u001b[0m         \u001b[0;32mreturn\u001b[0m \u001b[0mwrapper\u001b[0m\u001b[0;34m\u001b[0m\u001b[0;34m\u001b[0m\u001b[0m\n",
      "\u001b[0;32m~/opt/anaconda3/lib/python3.7/site-packages/qiskit/visualization/state_visualization.py\u001b[0m in \u001b[0;36mplot_bloch_multivector\u001b[0;34m(state, title, figsize, rho, reverse_bits)\u001b[0m\n\u001b[1;32m    284\u001b[0m     \u001b[0;32mfor\u001b[0m \u001b[0mi\u001b[0m \u001b[0;32min\u001b[0m \u001b[0mrange\u001b[0m\u001b[0;34m(\u001b[0m\u001b[0mnum\u001b[0m\u001b[0;34m)\u001b[0m\u001b[0;34m:\u001b[0m\u001b[0;34m\u001b[0m\u001b[0;34m\u001b[0m\u001b[0m\n\u001b[1;32m    285\u001b[0m         \u001b[0mpos\u001b[0m \u001b[0;34m=\u001b[0m \u001b[0mnum\u001b[0m \u001b[0;34m-\u001b[0m \u001b[0;36m1\u001b[0m \u001b[0;34m-\u001b[0m \u001b[0mi\u001b[0m \u001b[0;32mif\u001b[0m \u001b[0mreverse_bits\u001b[0m \u001b[0;32melse\u001b[0m \u001b[0mi\u001b[0m\u001b[0;34m\u001b[0m\u001b[0;34m\u001b[0m\u001b[0m\n\u001b[0;32m--> 286\u001b[0;31m         \u001b[0max\u001b[0m \u001b[0;34m=\u001b[0m \u001b[0mfig\u001b[0m\u001b[0;34m.\u001b[0m\u001b[0madd_subplot\u001b[0m\u001b[0;34m(\u001b[0m\u001b[0;36m1\u001b[0m\u001b[0;34m,\u001b[0m \u001b[0mnum\u001b[0m\u001b[0;34m,\u001b[0m \u001b[0mi\u001b[0m \u001b[0;34m+\u001b[0m \u001b[0;36m1\u001b[0m\u001b[0;34m,\u001b[0m \u001b[0mprojection\u001b[0m\u001b[0;34m=\u001b[0m\u001b[0;34m\"3d\"\u001b[0m\u001b[0;34m)\u001b[0m\u001b[0;34m\u001b[0m\u001b[0;34m\u001b[0m\u001b[0m\n\u001b[0m\u001b[1;32m    287\u001b[0m         \u001b[0mplot_bloch_vector\u001b[0m\u001b[0;34m(\u001b[0m\u001b[0mbloch_data\u001b[0m\u001b[0;34m[\u001b[0m\u001b[0mi\u001b[0m\u001b[0;34m]\u001b[0m\u001b[0;34m,\u001b[0m \u001b[0;34m\"qubit \"\u001b[0m \u001b[0;34m+\u001b[0m \u001b[0mstr\u001b[0m\u001b[0;34m(\u001b[0m\u001b[0mpos\u001b[0m\u001b[0;34m)\u001b[0m\u001b[0;34m,\u001b[0m \u001b[0max\u001b[0m\u001b[0;34m=\u001b[0m\u001b[0max\u001b[0m\u001b[0;34m,\u001b[0m \u001b[0mfigsize\u001b[0m\u001b[0;34m=\u001b[0m\u001b[0mfigsize\u001b[0m\u001b[0;34m)\u001b[0m\u001b[0;34m\u001b[0m\u001b[0;34m\u001b[0m\u001b[0m\n\u001b[1;32m    288\u001b[0m     \u001b[0mfig\u001b[0m\u001b[0;34m.\u001b[0m\u001b[0msuptitle\u001b[0m\u001b[0;34m(\u001b[0m\u001b[0mtitle\u001b[0m\u001b[0;34m,\u001b[0m \u001b[0mfontsize\u001b[0m\u001b[0;34m=\u001b[0m\u001b[0;36m16\u001b[0m\u001b[0;34m)\u001b[0m\u001b[0;34m\u001b[0m\u001b[0;34m\u001b[0m\u001b[0m\n",
      "\u001b[0;32m~/opt/anaconda3/lib/python3.7/site-packages/matplotlib/figure.py\u001b[0m in \u001b[0;36madd_subplot\u001b[0;34m(self, *args, **kwargs)\u001b[0m\n\u001b[1;32m   1394\u001b[0m         \u001b[0;32melse\u001b[0m\u001b[0;34m:\u001b[0m\u001b[0;34m\u001b[0m\u001b[0;34m\u001b[0m\u001b[0m\n\u001b[1;32m   1395\u001b[0m             \u001b[0mprojection_class\u001b[0m\u001b[0;34m,\u001b[0m \u001b[0mkwargs\u001b[0m\u001b[0;34m,\u001b[0m \u001b[0mkey\u001b[0m \u001b[0;34m=\u001b[0m\u001b[0;31m \u001b[0m\u001b[0;31m\\\u001b[0m\u001b[0;34m\u001b[0m\u001b[0;34m\u001b[0m\u001b[0m\n\u001b[0;32m-> 1396\u001b[0;31m                 \u001b[0mself\u001b[0m\u001b[0;34m.\u001b[0m\u001b[0m_process_projection_requirements\u001b[0m\u001b[0;34m(\u001b[0m\u001b[0;34m*\u001b[0m\u001b[0margs\u001b[0m\u001b[0;34m,\u001b[0m \u001b[0;34m**\u001b[0m\u001b[0mkwargs\u001b[0m\u001b[0;34m)\u001b[0m\u001b[0;34m\u001b[0m\u001b[0;34m\u001b[0m\u001b[0m\n\u001b[0m\u001b[1;32m   1397\u001b[0m \u001b[0;34m\u001b[0m\u001b[0m\n\u001b[1;32m   1398\u001b[0m             \u001b[0;31m# try to find the axes with this key in the stack\u001b[0m\u001b[0;34m\u001b[0m\u001b[0;34m\u001b[0m\u001b[0;34m\u001b[0m\u001b[0m\n",
      "\u001b[0;32m~/opt/anaconda3/lib/python3.7/site-packages/matplotlib/figure.py\u001b[0m in \u001b[0;36m_process_projection_requirements\u001b[0;34m(self, polar, projection, *args, **kwargs)\u001b[0m\n\u001b[1;32m   1118\u001b[0m \u001b[0;34m\u001b[0m\u001b[0m\n\u001b[1;32m   1119\u001b[0m         \u001b[0;32mif\u001b[0m \u001b[0misinstance\u001b[0m\u001b[0;34m(\u001b[0m\u001b[0mprojection\u001b[0m\u001b[0;34m,\u001b[0m \u001b[0mstr\u001b[0m\u001b[0;34m)\u001b[0m \u001b[0;32mor\u001b[0m \u001b[0mprojection\u001b[0m \u001b[0;32mis\u001b[0m \u001b[0;32mNone\u001b[0m\u001b[0;34m:\u001b[0m\u001b[0;34m\u001b[0m\u001b[0;34m\u001b[0m\u001b[0m\n\u001b[0;32m-> 1120\u001b[0;31m             \u001b[0mprojection_class\u001b[0m \u001b[0;34m=\u001b[0m \u001b[0mprojections\u001b[0m\u001b[0;34m.\u001b[0m\u001b[0mget_projection_class\u001b[0m\u001b[0;34m(\u001b[0m\u001b[0mprojection\u001b[0m\u001b[0;34m)\u001b[0m\u001b[0;34m\u001b[0m\u001b[0;34m\u001b[0m\u001b[0m\n\u001b[0m\u001b[1;32m   1121\u001b[0m         \u001b[0;32melif\u001b[0m \u001b[0mhasattr\u001b[0m\u001b[0;34m(\u001b[0m\u001b[0mprojection\u001b[0m\u001b[0;34m,\u001b[0m \u001b[0;34m'_as_mpl_axes'\u001b[0m\u001b[0;34m)\u001b[0m\u001b[0;34m:\u001b[0m\u001b[0;34m\u001b[0m\u001b[0;34m\u001b[0m\u001b[0m\n\u001b[1;32m   1122\u001b[0m             \u001b[0mprojection_class\u001b[0m\u001b[0;34m,\u001b[0m \u001b[0mextra_kwargs\u001b[0m \u001b[0;34m=\u001b[0m \u001b[0mprojection\u001b[0m\u001b[0;34m.\u001b[0m\u001b[0m_as_mpl_axes\u001b[0m\u001b[0;34m(\u001b[0m\u001b[0;34m)\u001b[0m\u001b[0;34m\u001b[0m\u001b[0;34m\u001b[0m\u001b[0m\n",
      "\u001b[0;32m~/opt/anaconda3/lib/python3.7/site-packages/matplotlib/projections/__init__.py\u001b[0m in \u001b[0;36mget_projection_class\u001b[0;34m(projection)\u001b[0m\n\u001b[1;32m     58\u001b[0m         \u001b[0;32mreturn\u001b[0m \u001b[0mprojection_registry\u001b[0m\u001b[0;34m.\u001b[0m\u001b[0mget_projection_class\u001b[0m\u001b[0;34m(\u001b[0m\u001b[0mprojection\u001b[0m\u001b[0;34m)\u001b[0m\u001b[0;34m\u001b[0m\u001b[0;34m\u001b[0m\u001b[0m\n\u001b[1;32m     59\u001b[0m     \u001b[0;32mexcept\u001b[0m \u001b[0mKeyError\u001b[0m\u001b[0;34m:\u001b[0m\u001b[0;34m\u001b[0m\u001b[0;34m\u001b[0m\u001b[0m\n\u001b[0;32m---> 60\u001b[0;31m         \u001b[0;32mraise\u001b[0m \u001b[0mValueError\u001b[0m\u001b[0;34m(\u001b[0m\u001b[0;34m\"Unknown projection %r\"\u001b[0m \u001b[0;34m%\u001b[0m \u001b[0mprojection\u001b[0m\u001b[0;34m)\u001b[0m\u001b[0;34m\u001b[0m\u001b[0;34m\u001b[0m\u001b[0m\n\u001b[0m\u001b[1;32m     61\u001b[0m \u001b[0;34m\u001b[0m\u001b[0m\n\u001b[1;32m     62\u001b[0m \u001b[0;34m\u001b[0m\u001b[0m\n",
      "\u001b[0;31mValueError\u001b[0m: Unknown projection '3d'"
     ]
    },
    {
     "data": {
      "text/plain": [
       "<Figure size 288x288 with 0 Axes>"
      ]
     },
     "metadata": {},
     "output_type": "display_data"
    }
   ],
   "source": [
    "# Let's see the result\n",
    "qc.save_statevector()\n",
    "qobj = assemble(qc)\n",
    "state = sim.run(qobj).result().get_statevector()\n",
    "plot_bloch_multivector(state)"
   ]
  },
  {
   "cell_type": "code",
   "execution_count": 49,
   "metadata": {
    "colab": {
     "base_uri": "https://localhost:8080/",
     "height": 356,
     "referenced_widgets": [
      "f179c228f57f45df859fa9ffa644e0d6",
      "129ef3e5445946468c105c6c9d7733a9",
      "d88ce3f4562b4bc3a75c0c70a07d3508",
      "53f7b83e98f24059ae750f5c63cde407",
      "36e81a908ac248af9f3f08d67b9dc45e",
      "1ec5909637074d14a91dc7ad13da5608",
      "acf3829838be44e29afddaf2639b0e8c",
      "251a04f546da463ea86a2319e1e783f9",
      "2bccb4aa95b046e185bfe5651b9d2114",
      "cee2344cd8dd4c9a86e76f30e382bd29",
      "90a4f17c08cf4f49a17d65b0664d21ca",
      "4de5b73246294ff59d6cf17d93caa876",
      "ee16076647c34cb79e7a18207f2a0830",
      "eeb869dafc7a4b6a83cd9906d9bf6145",
      "1c53baf1602d4430adff60838427ab98",
      "1077868db87340a4a64f11a89915b06b"
     ]
    },
    "executionInfo": {
     "elapsed": 2524,
     "status": "ok",
     "timestamp": 1636464649559,
     "user": {
      "displayName": "MOHAMED OUZARF",
      "photoUrl": "https://lh3.googleusercontent.com/a-/AOh14GjqOe87DDkKIuMqyJnj_be11wNskc-Z_LdlxCai-Q=s64",
      "userId": "07627566397046241781"
     },
     "user_tz": -60
    },
    "id": "ayockyqX5CIA",
    "outputId": "427adca2-3763-439f-ccce-94ab93769583"
   },
   "outputs": [
    {
     "ename": "ValueError",
     "evalue": "Unknown projection '3d'",
     "output_type": "error",
     "traceback": [
      "\u001b[0;31m---------------------------------------------------------------------------\u001b[0m",
      "\u001b[0;31mKeyError\u001b[0m                                  Traceback (most recent call last)",
      "\u001b[0;32m~/opt/anaconda3/lib/python3.7/site-packages/matplotlib/projections/__init__.py\u001b[0m in \u001b[0;36mget_projection_class\u001b[0;34m(projection)\u001b[0m\n\u001b[1;32m     57\u001b[0m     \u001b[0;32mtry\u001b[0m\u001b[0;34m:\u001b[0m\u001b[0;34m\u001b[0m\u001b[0;34m\u001b[0m\u001b[0m\n\u001b[0;32m---> 58\u001b[0;31m         \u001b[0;32mreturn\u001b[0m \u001b[0mprojection_registry\u001b[0m\u001b[0;34m.\u001b[0m\u001b[0mget_projection_class\u001b[0m\u001b[0;34m(\u001b[0m\u001b[0mprojection\u001b[0m\u001b[0;34m)\u001b[0m\u001b[0;34m\u001b[0m\u001b[0;34m\u001b[0m\u001b[0m\n\u001b[0m\u001b[1;32m     59\u001b[0m     \u001b[0;32mexcept\u001b[0m \u001b[0mKeyError\u001b[0m\u001b[0;34m:\u001b[0m\u001b[0;34m\u001b[0m\u001b[0;34m\u001b[0m\u001b[0m\n",
      "\u001b[0;32m~/opt/anaconda3/lib/python3.7/site-packages/matplotlib/projections/__init__.py\u001b[0m in \u001b[0;36mget_projection_class\u001b[0;34m(self, name)\u001b[0m\n\u001b[1;32m     24\u001b[0m         \"\"\"\n\u001b[0;32m---> 25\u001b[0;31m         \u001b[0;32mreturn\u001b[0m \u001b[0mself\u001b[0m\u001b[0;34m.\u001b[0m\u001b[0m_all_projection_types\u001b[0m\u001b[0;34m[\u001b[0m\u001b[0mname\u001b[0m\u001b[0;34m]\u001b[0m\u001b[0;34m\u001b[0m\u001b[0;34m\u001b[0m\u001b[0m\n\u001b[0m\u001b[1;32m     26\u001b[0m \u001b[0;34m\u001b[0m\u001b[0m\n",
      "\u001b[0;31mKeyError\u001b[0m: '3d'",
      "\nDuring handling of the above exception, another exception occurred:\n",
      "\u001b[0;31mValueError\u001b[0m                                Traceback (most recent call last)",
      "\u001b[0;32m<ipython-input-49-03c637cfb15a>\u001b[0m in \u001b[0;36m<module>\u001b[0;34m\u001b[0m\n\u001b[1;32m      1\u001b[0m \u001b[0;31m# Run the code in this cell to see the widget\u001b[0m\u001b[0;34m\u001b[0m\u001b[0;34m\u001b[0m\u001b[0;34m\u001b[0m\u001b[0m\n\u001b[1;32m      2\u001b[0m \u001b[0;32mfrom\u001b[0m \u001b[0mqiskit_textbook\u001b[0m\u001b[0;34m.\u001b[0m\u001b[0mwidgets\u001b[0m \u001b[0;32mimport\u001b[0m \u001b[0mgate_demo\u001b[0m\u001b[0;34m\u001b[0m\u001b[0;34m\u001b[0m\u001b[0m\n\u001b[0;32m----> 3\u001b[0;31m \u001b[0mgate_demo\u001b[0m\u001b[0;34m(\u001b[0m\u001b[0mgates\u001b[0m\u001b[0;34m=\u001b[0m\u001b[0;34m'pauli'\u001b[0m\u001b[0;34m)\u001b[0m\u001b[0;34m\u001b[0m\u001b[0;34m\u001b[0m\u001b[0m\n\u001b[0m",
      "\u001b[0;32m~/opt/anaconda3/lib/python3.7/site-packages/qiskit_textbook/widgets/__init__.py\u001b[0m in \u001b[0;36mgate_demo\u001b[0;34m(gates, qsphere)\u001b[0m\n\u001b[1;32m    217\u001b[0m                                          readout_format='.2f')\n\u001b[1;32m    218\u001b[0m     \u001b[0mqc\u001b[0m \u001b[0;34m=\u001b[0m \u001b[0mQuantumCircuit\u001b[0m\u001b[0;34m(\u001b[0m\u001b[0;36m1\u001b[0m\u001b[0;34m)\u001b[0m\u001b[0;34m\u001b[0m\u001b[0;34m\u001b[0m\u001b[0m\n\u001b[0;32m--> 219\u001b[0;31m     \u001b[0mupdate_output\u001b[0m\u001b[0;34m(\u001b[0m\u001b[0;34m)\u001b[0m\u001b[0;34m\u001b[0m\u001b[0;34m\u001b[0m\u001b[0m\n\u001b[0m\u001b[1;32m    220\u001b[0m \u001b[0;34m\u001b[0m\u001b[0m\n\u001b[1;32m    221\u001b[0m     \u001b[0;32mif\u001b[0m \u001b[0mshowing_p\u001b[0m\u001b[0;34m:\u001b[0m\u001b[0;34m\u001b[0m\u001b[0;34m\u001b[0m\u001b[0m\n",
      "\u001b[0;32m~/opt/anaconda3/lib/python3.7/site-packages/qiskit_textbook/widgets/__init__.py\u001b[0m in \u001b[0;36mupdate_output\u001b[0;34m()\u001b[0m\n\u001b[1;32m    180\u001b[0m             \u001b[0mimage\u001b[0m\u001b[0;34m.\u001b[0m\u001b[0mvalue\u001b[0m \u001b[0;34m=\u001b[0m \u001b[0mplot_state_qsphere\u001b[0m\u001b[0;34m(\u001b[0m\u001b[0mout_state\u001b[0m\u001b[0;34m)\u001b[0m\u001b[0;34m\u001b[0m\u001b[0;34m\u001b[0m\u001b[0m\n\u001b[1;32m    181\u001b[0m         \u001b[0;32melse\u001b[0m\u001b[0;34m:\u001b[0m\u001b[0;34m\u001b[0m\u001b[0;34m\u001b[0m\u001b[0m\n\u001b[0;32m--> 182\u001b[0;31m             \u001b[0mimage\u001b[0m\u001b[0;34m.\u001b[0m\u001b[0mvalue\u001b[0m \u001b[0;34m=\u001b[0m \u001b[0mplot_bloch_multivector\u001b[0m\u001b[0;34m(\u001b[0m\u001b[0mout_state\u001b[0m\u001b[0;34m)\u001b[0m\u001b[0;34m\u001b[0m\u001b[0;34m\u001b[0m\u001b[0m\n\u001b[0m\u001b[1;32m    183\u001b[0m \u001b[0;34m\u001b[0m\u001b[0m\n\u001b[1;32m    184\u001b[0m     \u001b[0;32mdef\u001b[0m \u001b[0mapply_gates\u001b[0m\u001b[0;34m(\u001b[0m\u001b[0mb\u001b[0m\u001b[0;34m,\u001b[0m\u001b[0mqc\u001b[0m\u001b[0;34m)\u001b[0m\u001b[0;34m:\u001b[0m\u001b[0;34m\u001b[0m\u001b[0;34m\u001b[0m\u001b[0m\n",
      "\u001b[0;32m~/opt/anaconda3/lib/python3.7/site-packages/qiskit/utils/deprecation.py\u001b[0m in \u001b[0;36mwrapper\u001b[0;34m(*args, **kwargs)\u001b[0m\n\u001b[1;32m     60\u001b[0m             \u001b[0;32mif\u001b[0m \u001b[0mkwargs\u001b[0m\u001b[0;34m:\u001b[0m\u001b[0;34m\u001b[0m\u001b[0;34m\u001b[0m\u001b[0m\n\u001b[1;32m     61\u001b[0m                 \u001b[0m_rename_kwargs\u001b[0m\u001b[0;34m(\u001b[0m\u001b[0mfunc\u001b[0m\u001b[0;34m.\u001b[0m\u001b[0m__name__\u001b[0m\u001b[0;34m,\u001b[0m \u001b[0mkwargs\u001b[0m\u001b[0;34m,\u001b[0m \u001b[0mkwarg_map\u001b[0m\u001b[0;34m)\u001b[0m\u001b[0;34m\u001b[0m\u001b[0;34m\u001b[0m\u001b[0m\n\u001b[0;32m---> 62\u001b[0;31m             \u001b[0;32mreturn\u001b[0m \u001b[0mfunc\u001b[0m\u001b[0;34m(\u001b[0m\u001b[0;34m*\u001b[0m\u001b[0margs\u001b[0m\u001b[0;34m,\u001b[0m \u001b[0;34m**\u001b[0m\u001b[0mkwargs\u001b[0m\u001b[0;34m)\u001b[0m\u001b[0;34m\u001b[0m\u001b[0;34m\u001b[0m\u001b[0m\n\u001b[0m\u001b[1;32m     63\u001b[0m \u001b[0;34m\u001b[0m\u001b[0m\n\u001b[1;32m     64\u001b[0m         \u001b[0;32mreturn\u001b[0m \u001b[0mwrapper\u001b[0m\u001b[0;34m\u001b[0m\u001b[0;34m\u001b[0m\u001b[0m\n",
      "\u001b[0;32m~/opt/anaconda3/lib/python3.7/site-packages/qiskit/visualization/state_visualization.py\u001b[0m in \u001b[0;36mplot_bloch_multivector\u001b[0;34m(state, title, figsize, rho, reverse_bits)\u001b[0m\n\u001b[1;32m    284\u001b[0m     \u001b[0;32mfor\u001b[0m \u001b[0mi\u001b[0m \u001b[0;32min\u001b[0m \u001b[0mrange\u001b[0m\u001b[0;34m(\u001b[0m\u001b[0mnum\u001b[0m\u001b[0;34m)\u001b[0m\u001b[0;34m:\u001b[0m\u001b[0;34m\u001b[0m\u001b[0;34m\u001b[0m\u001b[0m\n\u001b[1;32m    285\u001b[0m         \u001b[0mpos\u001b[0m \u001b[0;34m=\u001b[0m \u001b[0mnum\u001b[0m \u001b[0;34m-\u001b[0m \u001b[0;36m1\u001b[0m \u001b[0;34m-\u001b[0m \u001b[0mi\u001b[0m \u001b[0;32mif\u001b[0m \u001b[0mreverse_bits\u001b[0m \u001b[0;32melse\u001b[0m \u001b[0mi\u001b[0m\u001b[0;34m\u001b[0m\u001b[0;34m\u001b[0m\u001b[0m\n\u001b[0;32m--> 286\u001b[0;31m         \u001b[0max\u001b[0m \u001b[0;34m=\u001b[0m \u001b[0mfig\u001b[0m\u001b[0;34m.\u001b[0m\u001b[0madd_subplot\u001b[0m\u001b[0;34m(\u001b[0m\u001b[0;36m1\u001b[0m\u001b[0;34m,\u001b[0m \u001b[0mnum\u001b[0m\u001b[0;34m,\u001b[0m \u001b[0mi\u001b[0m \u001b[0;34m+\u001b[0m \u001b[0;36m1\u001b[0m\u001b[0;34m,\u001b[0m \u001b[0mprojection\u001b[0m\u001b[0;34m=\u001b[0m\u001b[0;34m\"3d\"\u001b[0m\u001b[0;34m)\u001b[0m\u001b[0;34m\u001b[0m\u001b[0;34m\u001b[0m\u001b[0m\n\u001b[0m\u001b[1;32m    287\u001b[0m         \u001b[0mplot_bloch_vector\u001b[0m\u001b[0;34m(\u001b[0m\u001b[0mbloch_data\u001b[0m\u001b[0;34m[\u001b[0m\u001b[0mi\u001b[0m\u001b[0;34m]\u001b[0m\u001b[0;34m,\u001b[0m \u001b[0;34m\"qubit \"\u001b[0m \u001b[0;34m+\u001b[0m \u001b[0mstr\u001b[0m\u001b[0;34m(\u001b[0m\u001b[0mpos\u001b[0m\u001b[0;34m)\u001b[0m\u001b[0;34m,\u001b[0m \u001b[0max\u001b[0m\u001b[0;34m=\u001b[0m\u001b[0max\u001b[0m\u001b[0;34m,\u001b[0m \u001b[0mfigsize\u001b[0m\u001b[0;34m=\u001b[0m\u001b[0mfigsize\u001b[0m\u001b[0;34m)\u001b[0m\u001b[0;34m\u001b[0m\u001b[0;34m\u001b[0m\u001b[0m\n\u001b[1;32m    288\u001b[0m     \u001b[0mfig\u001b[0m\u001b[0;34m.\u001b[0m\u001b[0msuptitle\u001b[0m\u001b[0;34m(\u001b[0m\u001b[0mtitle\u001b[0m\u001b[0;34m,\u001b[0m \u001b[0mfontsize\u001b[0m\u001b[0;34m=\u001b[0m\u001b[0;36m16\u001b[0m\u001b[0;34m)\u001b[0m\u001b[0;34m\u001b[0m\u001b[0;34m\u001b[0m\u001b[0m\n",
      "\u001b[0;32m~/opt/anaconda3/lib/python3.7/site-packages/matplotlib/figure.py\u001b[0m in \u001b[0;36madd_subplot\u001b[0;34m(self, *args, **kwargs)\u001b[0m\n\u001b[1;32m   1394\u001b[0m         \u001b[0;32melse\u001b[0m\u001b[0;34m:\u001b[0m\u001b[0;34m\u001b[0m\u001b[0;34m\u001b[0m\u001b[0m\n\u001b[1;32m   1395\u001b[0m             \u001b[0mprojection_class\u001b[0m\u001b[0;34m,\u001b[0m \u001b[0mkwargs\u001b[0m\u001b[0;34m,\u001b[0m \u001b[0mkey\u001b[0m \u001b[0;34m=\u001b[0m\u001b[0;31m \u001b[0m\u001b[0;31m\\\u001b[0m\u001b[0;34m\u001b[0m\u001b[0;34m\u001b[0m\u001b[0m\n\u001b[0;32m-> 1396\u001b[0;31m                 \u001b[0mself\u001b[0m\u001b[0;34m.\u001b[0m\u001b[0m_process_projection_requirements\u001b[0m\u001b[0;34m(\u001b[0m\u001b[0;34m*\u001b[0m\u001b[0margs\u001b[0m\u001b[0;34m,\u001b[0m \u001b[0;34m**\u001b[0m\u001b[0mkwargs\u001b[0m\u001b[0;34m)\u001b[0m\u001b[0;34m\u001b[0m\u001b[0;34m\u001b[0m\u001b[0m\n\u001b[0m\u001b[1;32m   1397\u001b[0m \u001b[0;34m\u001b[0m\u001b[0m\n\u001b[1;32m   1398\u001b[0m             \u001b[0;31m# try to find the axes with this key in the stack\u001b[0m\u001b[0;34m\u001b[0m\u001b[0;34m\u001b[0m\u001b[0;34m\u001b[0m\u001b[0m\n",
      "\u001b[0;32m~/opt/anaconda3/lib/python3.7/site-packages/matplotlib/figure.py\u001b[0m in \u001b[0;36m_process_projection_requirements\u001b[0;34m(self, polar, projection, *args, **kwargs)\u001b[0m\n\u001b[1;32m   1118\u001b[0m \u001b[0;34m\u001b[0m\u001b[0m\n\u001b[1;32m   1119\u001b[0m         \u001b[0;32mif\u001b[0m \u001b[0misinstance\u001b[0m\u001b[0;34m(\u001b[0m\u001b[0mprojection\u001b[0m\u001b[0;34m,\u001b[0m \u001b[0mstr\u001b[0m\u001b[0;34m)\u001b[0m \u001b[0;32mor\u001b[0m \u001b[0mprojection\u001b[0m \u001b[0;32mis\u001b[0m \u001b[0;32mNone\u001b[0m\u001b[0;34m:\u001b[0m\u001b[0;34m\u001b[0m\u001b[0;34m\u001b[0m\u001b[0m\n\u001b[0;32m-> 1120\u001b[0;31m             \u001b[0mprojection_class\u001b[0m \u001b[0;34m=\u001b[0m \u001b[0mprojections\u001b[0m\u001b[0;34m.\u001b[0m\u001b[0mget_projection_class\u001b[0m\u001b[0;34m(\u001b[0m\u001b[0mprojection\u001b[0m\u001b[0;34m)\u001b[0m\u001b[0;34m\u001b[0m\u001b[0;34m\u001b[0m\u001b[0m\n\u001b[0m\u001b[1;32m   1121\u001b[0m         \u001b[0;32melif\u001b[0m \u001b[0mhasattr\u001b[0m\u001b[0;34m(\u001b[0m\u001b[0mprojection\u001b[0m\u001b[0;34m,\u001b[0m \u001b[0;34m'_as_mpl_axes'\u001b[0m\u001b[0;34m)\u001b[0m\u001b[0;34m:\u001b[0m\u001b[0;34m\u001b[0m\u001b[0;34m\u001b[0m\u001b[0m\n\u001b[1;32m   1122\u001b[0m             \u001b[0mprojection_class\u001b[0m\u001b[0;34m,\u001b[0m \u001b[0mextra_kwargs\u001b[0m \u001b[0;34m=\u001b[0m \u001b[0mprojection\u001b[0m\u001b[0;34m.\u001b[0m\u001b[0m_as_mpl_axes\u001b[0m\u001b[0;34m(\u001b[0m\u001b[0;34m)\u001b[0m\u001b[0;34m\u001b[0m\u001b[0;34m\u001b[0m\u001b[0m\n",
      "\u001b[0;32m~/opt/anaconda3/lib/python3.7/site-packages/matplotlib/projections/__init__.py\u001b[0m in \u001b[0;36mget_projection_class\u001b[0;34m(projection)\u001b[0m\n\u001b[1;32m     58\u001b[0m         \u001b[0;32mreturn\u001b[0m \u001b[0mprojection_registry\u001b[0m\u001b[0;34m.\u001b[0m\u001b[0mget_projection_class\u001b[0m\u001b[0;34m(\u001b[0m\u001b[0mprojection\u001b[0m\u001b[0;34m)\u001b[0m\u001b[0;34m\u001b[0m\u001b[0;34m\u001b[0m\u001b[0m\n\u001b[1;32m     59\u001b[0m     \u001b[0;32mexcept\u001b[0m \u001b[0mKeyError\u001b[0m\u001b[0;34m:\u001b[0m\u001b[0;34m\u001b[0m\u001b[0;34m\u001b[0m\u001b[0m\n\u001b[0;32m---> 60\u001b[0;31m         \u001b[0;32mraise\u001b[0m \u001b[0mValueError\u001b[0m\u001b[0;34m(\u001b[0m\u001b[0;34m\"Unknown projection %r\"\u001b[0m \u001b[0;34m%\u001b[0m \u001b[0mprojection\u001b[0m\u001b[0;34m)\u001b[0m\u001b[0;34m\u001b[0m\u001b[0;34m\u001b[0m\u001b[0m\n\u001b[0m\u001b[1;32m     61\u001b[0m \u001b[0;34m\u001b[0m\u001b[0m\n\u001b[1;32m     62\u001b[0m \u001b[0;34m\u001b[0m\u001b[0m\n",
      "\u001b[0;31mValueError\u001b[0m: Unknown projection '3d'"
     ]
    },
    {
     "data": {
      "text/plain": [
       "<Figure size 288x288 with 0 Axes>"
      ]
     },
     "metadata": {},
     "output_type": "display_data"
    }
   ],
   "source": [
    "# Run the code in this cell to see the widget\n",
    "from qiskit_textbook.widgets import gate_demo\n",
    "gate_demo(gates='pauli')"
   ]
  },
  {
   "cell_type": "code",
   "execution_count": 53,
   "metadata": {
    "colab": {
     "base_uri": "https://localhost:8080/",
     "height": 62
    },
    "executionInfo": {
     "elapsed": 713,
     "status": "ok",
     "timestamp": 1636464674309,
     "user": {
      "displayName": "MOHAMED OUZARF",
      "photoUrl": "https://lh3.googleusercontent.com/a-/AOh14GjqOe87DDkKIuMqyJnj_be11wNskc-Z_LdlxCai-Q=s64",
      "userId": "07627566397046241781"
     },
     "user_tz": -60
    },
    "id": "x_6wiiZZ5Em_",
    "outputId": "8de9a204-afdd-4106-ee2a-b691bb6acd05"
   },
   "outputs": [
    {
     "data": {
      "text/html": [
       "<pre style=\"word-wrap: normal;white-space: pre;background: #fff0;line-height: 1.1;font-family: &quot;Courier New&quot;,Courier,monospace\">     ┌───┐ ░ ┌───┐┌───┐\n",
       "q_0: ┤ X ├─░─┤ Y ├┤ Z ├\n",
       "     └───┘ ░ └───┘└───┘</pre>"
      ],
      "text/plain": [
       "     ┌───┐ ░ ┌───┐┌───┐\n",
       "q_0: ┤ X ├─░─┤ Y ├┤ Z ├\n",
       "     └───┘ ░ └───┘└───┘"
      ]
     },
     "execution_count": 53,
     "metadata": {},
     "output_type": "execute_result"
    }
   ],
   "source": [
    "qc.y(0) # Do Y-gate on qubit 0\n",
    "qc.z(0) # Do Z-gate on qubit 0\n",
    "qc.draw()"
   ]
  },
  {
   "cell_type": "code",
   "execution_count": 54,
   "metadata": {
    "colab": {
     "base_uri": "https://localhost:8080/"
    },
    "executionInfo": {
     "elapsed": 691,
     "status": "ok",
     "timestamp": 1636465016872,
     "user": {
      "displayName": "MOHAMED OUZARF",
      "photoUrl": "https://lh3.googleusercontent.com/a-/AOh14GjqOe87DDkKIuMqyJnj_be11wNskc-Z_LdlxCai-Q=s64",
      "userId": "07627566397046241781"
     },
     "user_tz": -60
    },
    "id": "y3EJS9yH5VsG",
    "outputId": "9704b1b6-56c6-4fa5-e725-7979d4acb202"
   },
   "outputs": [
    {
     "data": {
      "text/plain": [
       "2140324650240744961264423072839333563008614715144755017797754920881418023447140136643345519095804679610992851872470914587687396261921557363047454770520805119056493106687691590019759405693457452230589325976697471681738069364894699871578494975937497937"
      ]
     },
     "execution_count": 54,
     "metadata": {},
     "output_type": "execute_result"
    }
   ],
   "source": [
    "p = 64135289477071580278790190170577389084825014742943447208116859632024532344630238623598752668347708737661925585694639798853367\n",
    "q = 33372027594978156556226010605355114227940760344767554666784520987023841729210037080257448673296881877565718986258036932062711\n",
    "p*q"
   ]
  },
  {
   "cell_type": "markdown",
   "metadata": {
    "id": "Mk2vaaL83mJ8"
   },
   "source": [
    "# **Multiple Qubits and Entangled States**"
   ]
  },
  {
   "cell_type": "code",
   "execution_count": 11,
   "metadata": {
    "id": "HLVfMKNU5LrK"
   },
   "outputs": [],
   "source": [
    "#re-start\n",
    "#!pip install qiskit\n",
    "#!pip install qiskit[visualization]"
   ]
  },
  {
   "cell_type": "code",
   "execution_count": 1,
   "metadata": {
    "executionInfo": {
     "elapsed": 1685,
     "status": "ok",
     "timestamp": 1636481340977,
     "user": {
      "displayName": "MOHAMED OUZARF",
      "photoUrl": "https://lh3.googleusercontent.com/a-/AOh14GjqOe87DDkKIuMqyJnj_be11wNskc-Z_LdlxCai-Q=s64",
      "userId": "07627566397046241781"
     },
     "user_tz": -60
    },
    "id": "_r5ouBLa4lBA"
   },
   "outputs": [],
   "source": [
    "import numpy as np\n",
    "from qiskit import QuantumCircuit, transpile\n",
    "from qiskit.providers.aer import AerSimulator\n",
    "from qiskit.visualization import plot_histogram"
   ]
  },
  {
   "cell_type": "code",
   "execution_count": 2,
   "metadata": {
    "colab": {
     "base_uri": "https://localhost:8080/",
     "height": 365
    },
    "executionInfo": {
     "elapsed": 29867,
     "status": "ok",
     "timestamp": 1636481374989,
     "user": {
      "displayName": "MOHAMED OUZARF",
      "photoUrl": "https://lh3.googleusercontent.com/a-/AOh14GjqOe87DDkKIuMqyJnj_be11wNskc-Z_LdlxCai-Q=s64",
      "userId": "07627566397046241781"
     },
     "user_tz": -60
    },
    "id": "d8tPLXfU3y_q",
    "outputId": "b3d957ee-e811-4b4a-e716-03a87c24d450"
   },
   "outputs": [
    {
     "name": "stderr",
     "output_type": "stream",
     "text": [
      "/Users/wiameouzarf/opt/anaconda3/lib/python3.7/site-packages/qiskit/aqua/__init__.py:86: DeprecationWarning: The package qiskit.aqua is deprecated. It was moved/refactored to qiskit-terra For more information see <https://github.com/Qiskit/qiskit-aqua/blob/main/README.md#migration-guide>\n",
      "  warn_package('aqua', 'qiskit-terra')\n"
     ]
    },
    {
     "data": {
      "text/html": [
       "<h3>Version Information</h3><table><tr><th>Qiskit Software</th><th>Version</th></tr><tr><td><code>qiskit-terra</code></td><td>0.18.3</td></tr><tr><td><code>qiskit-aer</code></td><td>0.9.1</td></tr><tr><td><code>qiskit-ignis</code></td><td>0.6.0</td></tr><tr><td><code>qiskit-ibmq-provider</code></td><td>0.17.0</td></tr><tr><td><code>qiskit-aqua</code></td><td>0.9.5</td></tr><tr><td><code>qiskit</code></td><td>0.31.0</td></tr><tr><th>System information</th></tr><tr><td>Python</td><td>3.7.4 (default, Aug 13 2019, 15:17:50) \n",
       "[Clang 4.0.1 (tags/RELEASE_401/final)]</td></tr><tr><td>OS</td><td>Darwin</td></tr><tr><td>CPUs</td><td>4</td></tr><tr><td>Memory (Gb)</td><td>8.0</td></tr><tr><td colspan='2'>Tue Nov 16 20:54:35 2021 +01</td></tr></table>"
      ],
      "text/plain": [
       "<IPython.core.display.HTML object>"
      ]
     },
     "metadata": {},
     "output_type": "display_data"
    }
   ],
   "source": [
    "import qiskit.tools.jupyter\n",
    "%qiskit_version_table"
   ]
  },
  {
   "cell_type": "code",
   "execution_count": 3,
   "metadata": {
    "executionInfo": {
     "elapsed": 3,
     "status": "ok",
     "timestamp": 1636481375354,
     "user": {
      "displayName": "MOHAMED OUZARF",
      "photoUrl": "https://lh3.googleusercontent.com/a-/AOh14GjqOe87DDkKIuMqyJnj_be11wNskc-Z_LdlxCai-Q=s64",
      "userId": "07627566397046241781"
     },
     "user_tz": -60
    },
    "id": "NEYbFEno3duh"
   },
   "outputs": [],
   "source": [
    "from qiskit import QuantumCircuit, Aer, assemble\n",
    "import numpy as np\n",
    "from qiskit.visualization import plot_histogram, plot_bloch_multivector"
   ]
  },
  {
   "cell_type": "code",
   "execution_count": 4,
   "metadata": {
    "colab": {
     "base_uri": "https://localhost:8080/",
     "height": 122
    },
    "executionInfo": {
     "elapsed": 388,
     "status": "ok",
     "timestamp": 1636481406863,
     "user": {
      "displayName": "MOHAMED OUZARF",
      "photoUrl": "https://lh3.googleusercontent.com/a-/AOh14GjqOe87DDkKIuMqyJnj_be11wNskc-Z_LdlxCai-Q=s64",
      "userId": "07627566397046241781"
     },
     "user_tz": -60
    },
    "id": "VXj4wUR-5HrL",
    "outputId": "7f7305f5-8784-4144-9219-73e908cabc66"
   },
   "outputs": [
    {
     "data": {
      "text/html": [
       "<pre style=\"word-wrap: normal;white-space: pre;background: #fff0;line-height: 1.1;font-family: &quot;Courier New&quot;,Courier,monospace\">     ┌───┐\n",
       "q_0: ┤ H ├\n",
       "     ├───┤\n",
       "q_1: ┤ H ├\n",
       "     ├───┤\n",
       "q_2: ┤ H ├\n",
       "     └───┘</pre>"
      ],
      "text/plain": [
       "     ┌───┐\n",
       "q_0: ┤ H ├\n",
       "     ├───┤\n",
       "q_1: ┤ H ├\n",
       "     ├───┤\n",
       "q_2: ┤ H ├\n",
       "     └───┘"
      ]
     },
     "execution_count": 4,
     "metadata": {},
     "output_type": "execute_result"
    }
   ],
   "source": [
    "qc = QuantumCircuit(3)\n",
    "# Apply H-gate to each qubit:\n",
    "for qubit in range(3):\n",
    "    qc.h(qubit)\n",
    "# See the circuit:\n",
    "qc.draw()"
   ]
  },
  {
   "cell_type": "code",
   "execution_count": 5,
   "metadata": {
    "colab": {
     "base_uri": "https://localhost:8080/",
     "height": 101
    },
    "executionInfo": {
     "elapsed": 388,
     "status": "ok",
     "timestamp": 1636481528804,
     "user": {
      "displayName": "MOHAMED OUZARF",
      "photoUrl": "https://lh3.googleusercontent.com/a-/AOh14GjqOe87DDkKIuMqyJnj_be11wNskc-Z_LdlxCai-Q=s64",
      "userId": "07627566397046241781"
     },
     "user_tz": -60
    },
    "id": "-g4_4u8z5lVJ",
    "outputId": "a3c3a9c2-c508-4cb2-afeb-b08b2a28db85"
   },
   "outputs": [
    {
     "name": "stderr",
     "output_type": "stream",
     "text": [
      "/Users/wiameouzarf/opt/anaconda3/lib/python3.7/site-packages/qiskit/utils/deprecation.py:62: DeprecationWarning: Using a qobj for run() is deprecated as of qiskit-aer 0.9.0 and will be removed no sooner than 3 months from that release date. Transpiled circuits should now be passed directly using `backend.run(circuits, **run_options).\n",
      "  return func(*args, **kwargs)\n"
     ]
    },
    {
     "data": {
      "text/latex": [
       "$$\n",
       "\\text{Statevector} = \n",
       "\\begin{bmatrix}\n",
       "\\tfrac{1}{\\sqrt{8}} & \\tfrac{1}{\\sqrt{8}} & \\tfrac{1}{\\sqrt{8}} & \\tfrac{1}{\\sqrt{8}} & \\tfrac{1}{\\sqrt{8}} & \\tfrac{1}{\\sqrt{8}} & \\tfrac{1}{\\sqrt{8}} & \\tfrac{1}{\\sqrt{8}}  \\\\\n",
       " \\end{bmatrix}\n",
       "$$"
      ],
      "text/plain": [
       "<IPython.core.display.Latex object>"
      ]
     },
     "execution_count": 5,
     "metadata": {},
     "output_type": "execute_result"
    }
   ],
   "source": [
    "# Let's see the result\n",
    "svsim = Aer.get_backend('aer_simulator')\n",
    "qc.save_statevector()\n",
    "qobj = assemble(qc)\n",
    "final_state = svsim.run(qobj).result().get_statevector()\n",
    "\n",
    "# In Jupyter Notebooks we can display this nicely using Latex.\n",
    "# If not using Jupyter Notebooks you may need to remove the \n",
    "# array_to_latex function and use print(final_state) instead.\n",
    "from qiskit.visualization import array_to_latex\n",
    "array_to_latex(final_state, prefix=\"\\\\text{Statevector} = \")"
   ]
  },
  {
   "cell_type": "code",
   "execution_count": 6,
   "metadata": {
    "colab": {
     "base_uri": "https://localhost:8080/",
     "height": 92
    },
    "executionInfo": {
     "elapsed": 381,
     "status": "ok",
     "timestamp": 1636481570325,
     "user": {
      "displayName": "MOHAMED OUZARF",
      "photoUrl": "https://lh3.googleusercontent.com/a-/AOh14GjqOe87DDkKIuMqyJnj_be11wNskc-Z_LdlxCai-Q=s64",
      "userId": "07627566397046241781"
     },
     "user_tz": -60
    },
    "id": "n-PfqE2K5v03",
    "outputId": "ffa089f2-46eb-453d-fa8f-16a8969568e3"
   },
   "outputs": [
    {
     "data": {
      "text/html": [
       "<pre style=\"word-wrap: normal;white-space: pre;background: #fff0;line-height: 1.1;font-family: &quot;Courier New&quot;,Courier,monospace\">     ┌───┐\n",
       "q_0: ┤ H ├\n",
       "     ├───┤\n",
       "q_1: ┤ X ├\n",
       "     └───┘</pre>"
      ],
      "text/plain": [
       "     ┌───┐\n",
       "q_0: ┤ H ├\n",
       "     ├───┤\n",
       "q_1: ┤ X ├\n",
       "     └───┘"
      ]
     },
     "execution_count": 6,
     "metadata": {},
     "output_type": "execute_result"
    }
   ],
   "source": [
    "qc = QuantumCircuit(2)\n",
    "qc.h(0)\n",
    "qc.x(1)\n",
    "qc.draw()"
   ]
  },
  {
   "cell_type": "code",
   "execution_count": 7,
   "metadata": {
    "colab": {
     "base_uri": "https://localhost:8080/"
    },
    "executionInfo": {
     "elapsed": 445,
     "status": "ok",
     "timestamp": 1636481621391,
     "user": {
      "displayName": "MOHAMED OUZARF",
      "photoUrl": "https://lh3.googleusercontent.com/a-/AOh14GjqOe87DDkKIuMqyJnj_be11wNskc-Z_LdlxCai-Q=s64",
      "userId": "07627566397046241781"
     },
     "user_tz": -60
    },
    "id": "vKKQ7AdG58Xm",
    "outputId": "a5d2ce51-8bfd-4264-a0f3-1a005e6d83b4"
   },
   "outputs": [],
   "source": [
    "usim = Aer.get_backend('aer_simulator')\n",
    "qc.save_unitary()\n",
    "qobj = assemble(qc)\n",
    "unitary = usim.run(qobj).result().get_unitary()"
   ]
  },
  {
   "cell_type": "code",
   "execution_count": 8,
   "metadata": {
    "colab": {
     "base_uri": "https://localhost:8080/",
     "height": 111
    },
    "executionInfo": {
     "elapsed": 424,
     "status": "ok",
     "timestamp": 1636481653287,
     "user": {
      "displayName": "MOHAMED OUZARF",
      "photoUrl": "https://lh3.googleusercontent.com/a-/AOh14GjqOe87DDkKIuMqyJnj_be11wNskc-Z_LdlxCai-Q=s64",
      "userId": "07627566397046241781"
     },
     "user_tz": -60
    },
    "id": "LVdN7N_n6DEV",
    "outputId": "d61d3e16-1464-4a82-ddea-6656c72cb6ed"
   },
   "outputs": [
    {
     "data": {
      "text/latex": [
       "$$\n",
       "\\text{Circuit = }\n",
       "\n",
       "\\begin{bmatrix}\n",
       "0 & 0 & \\tfrac{1}{\\sqrt{2}} & \\tfrac{1}{\\sqrt{2}}  \\\\\n",
       " 0 & 0 & \\tfrac{1}{\\sqrt{2}} & -\\tfrac{1}{\\sqrt{2}}  \\\\\n",
       " \\tfrac{1}{\\sqrt{2}} & \\tfrac{1}{\\sqrt{2}} & 0 & 0  \\\\\n",
       " \\tfrac{1}{\\sqrt{2}} & -\\tfrac{1}{\\sqrt{2}} & 0 & 0  \\\\\n",
       " \\end{bmatrix}\n",
       "$$"
      ],
      "text/plain": [
       "<IPython.core.display.Latex object>"
      ]
     },
     "execution_count": 8,
     "metadata": {},
     "output_type": "execute_result"
    }
   ],
   "source": [
    "# In Jupyter Notebooks we can display this nicely using Latex.\n",
    "# If not using Jupyter Notebooks you may need to remove the \n",
    "# array_to_latex function and use print(unitary) instead.\n",
    "from qiskit.visualization import array_to_latex\n",
    "array_to_latex(unitary, prefix=\"\\\\text{Circuit = }\\n\")"
   ]
  },
  {
   "cell_type": "code",
   "execution_count": 9,
   "metadata": {
    "colab": {
     "base_uri": "https://localhost:8080/",
     "height": 92
    },
    "executionInfo": {
     "elapsed": 455,
     "status": "ok",
     "timestamp": 1636481697350,
     "user": {
      "displayName": "MOHAMED OUZARF",
      "photoUrl": "https://lh3.googleusercontent.com/a-/AOh14GjqOe87DDkKIuMqyJnj_be11wNskc-Z_LdlxCai-Q=s64",
      "userId": "07627566397046241781"
     },
     "user_tz": -60
    },
    "id": "lsI8ACXM6Ofs",
    "outputId": "4fcd08c7-9a83-4807-8761-62816e57738c"
   },
   "outputs": [
    {
     "data": {
      "text/html": [
       "<pre style=\"word-wrap: normal;white-space: pre;background: #fff0;line-height: 1.1;font-family: &quot;Courier New&quot;,Courier,monospace\">          \n",
       "q_0: ─────\n",
       "     ┌───┐\n",
       "q_1: ┤ X ├\n",
       "     └───┘</pre>"
      ],
      "text/plain": [
       "          \n",
       "q_0: ─────\n",
       "     ┌───┐\n",
       "q_1: ┤ X ├\n",
       "     └───┘"
      ]
     },
     "execution_count": 9,
     "metadata": {},
     "output_type": "execute_result"
    }
   ],
   "source": [
    "qc = QuantumCircuit(2)\n",
    "qc.x(1)\n",
    "qc.draw()"
   ]
  },
  {
   "cell_type": "code",
   "execution_count": 10,
   "metadata": {
    "colab": {
     "base_uri": "https://localhost:8080/",
     "height": 152
    },
    "executionInfo": {
     "elapsed": 472,
     "status": "ok",
     "timestamp": 1636481732524,
     "user": {
      "displayName": "MOHAMED OUZARF",
      "photoUrl": "https://lh3.googleusercontent.com/a-/AOh14GjqOe87DDkKIuMqyJnj_be11wNskc-Z_LdlxCai-Q=s64",
      "userId": "07627566397046241781"
     },
     "user_tz": -60
    },
    "id": "F4WKeD1_6Xa7",
    "outputId": "d003e4ca-d29d-4597-df27-bac0b210c47f"
   },
   "outputs": [
    {
     "data": {
      "text/latex": [
       "$$\n",
       "\\text{Circuit = } \n",
       "\\begin{bmatrix}\n",
       "0 & 0 & 1 & 0  \\\\\n",
       " 0 & 0 & 0 & 1  \\\\\n",
       " 1 & 0 & 0 & 0  \\\\\n",
       " 0 & 1 & 0 & 0  \\\\\n",
       " \\end{bmatrix}\n",
       "$$"
      ],
      "text/plain": [
       "<IPython.core.display.Latex object>"
      ]
     },
     "execution_count": 10,
     "metadata": {},
     "output_type": "execute_result"
    }
   ],
   "source": [
    "# Simulate the unitary\n",
    "usim = Aer.get_backend('aer_simulator')\n",
    "qc.save_unitary()\n",
    "qobj = assemble(qc)\n",
    "unitary = usim.run(qobj).result().get_unitary()\n",
    "# Display the results:\n",
    "array_to_latex(unitary, prefix=\"\\\\text{Circuit = } \")"
   ]
  },
  {
   "cell_type": "markdown",
   "metadata": {
    "id": "LL6txTFR6f5D"
   },
   "source": [
    "# **3. Multi-Qubit Gates**"
   ]
  },
  {
   "cell_type": "markdown",
   "metadata": {
    "id": "r6NGpfJA6ixk"
   },
   "source": [
    "https://qiskit.org/textbook/ch-gates/multiple-qubits-entangled-states.html"
   ]
  },
  {
   "cell_type": "code",
   "execution_count": null,
   "metadata": {},
   "outputs": [],
   "source": []
  }
 ],
 "metadata": {
  "colab": {
   "collapsed_sections": [],
   "name": "Copy of quantum_circuit_helloworld.ipynb",
   "provenance": [
    {
     "file_id": "https://github.com/grandma-tutorial/ibm-qiskit-tutorial/blob/main/quantum_circuit_helloworld.ipynb",
     "timestamp": 1636454373317
    }
   ]
  },
  "kernelspec": {
   "display_name": "Python 3",
   "language": "python",
   "name": "python3"
  },
  "language_info": {
   "codemirror_mode": {
    "name": "ipython",
    "version": 3
   },
   "file_extension": ".py",
   "mimetype": "text/x-python",
   "name": "python",
   "nbconvert_exporter": "python",
   "pygments_lexer": "ipython3",
   "version": "3.7.4"
  },
  "widgets": {
   "application/vnd.jupyter.widget-state+json": {
    "020759e00bbf4028a97968ba8be077ee": {
     "model_module": "@jupyter-widgets/base",
     "model_module_version": "1.2.0",
     "model_name": "LayoutModel",
     "state": {
      "_model_module": "@jupyter-widgets/base",
      "_model_module_version": "1.2.0",
      "_model_name": "LayoutModel",
      "_view_count": null,
      "_view_module": "@jupyter-widgets/base",
      "_view_module_version": "1.2.0",
      "_view_name": "LayoutView",
      "align_content": null,
      "align_items": null,
      "align_self": null,
      "border": null,
      "bottom": null,
      "display": null,
      "flex": null,
      "flex_flow": null,
      "grid_area": null,
      "grid_auto_columns": null,
      "grid_auto_flow": null,
      "grid_auto_rows": null,
      "grid_column": null,
      "grid_gap": null,
      "grid_row": null,
      "grid_template_areas": null,
      "grid_template_columns": null,
      "grid_template_rows": null,
      "height": null,
      "justify_content": null,
      "justify_items": null,
      "left": null,
      "margin": null,
      "max_height": null,
      "max_width": null,
      "min_height": null,
      "min_width": null,
      "object_fit": null,
      "object_position": null,
      "order": null,
      "overflow": null,
      "overflow_x": null,
      "overflow_y": null,
      "padding": null,
      "right": null,
      "top": null,
      "visibility": null,
      "width": null
     }
    },
    "0429ac1cdd3844cb88d97dd03efbe0d7": {
     "model_module": "@jupyter-widgets/controls",
     "model_module_version": "1.5.0",
     "model_name": "DescriptionStyleModel",
     "state": {
      "_model_module": "@jupyter-widgets/controls",
      "_model_module_version": "1.5.0",
      "_model_name": "DescriptionStyleModel",
      "_view_count": null,
      "_view_module": "@jupyter-widgets/base",
      "_view_module_version": "1.2.0",
      "_view_name": "StyleView",
      "description_width": ""
     }
    },
    "1077868db87340a4a64f11a89915b06b": {
     "model_module": "@jupyter-widgets/base",
     "model_module_version": "1.2.0",
     "model_name": "LayoutModel",
     "state": {
      "_model_module": "@jupyter-widgets/base",
      "_model_module_version": "1.2.0",
      "_model_name": "LayoutModel",
      "_view_count": null,
      "_view_module": "@jupyter-widgets/base",
      "_view_module_version": "1.2.0",
      "_view_name": "LayoutView",
      "align_content": null,
      "align_items": null,
      "align_self": null,
      "border": null,
      "bottom": null,
      "display": null,
      "flex": null,
      "flex_flow": null,
      "grid_area": null,
      "grid_auto_columns": null,
      "grid_auto_flow": null,
      "grid_auto_rows": null,
      "grid_column": null,
      "grid_gap": null,
      "grid_row": null,
      "grid_template_areas": null,
      "grid_template_columns": null,
      "grid_template_rows": null,
      "height": null,
      "justify_content": null,
      "justify_items": null,
      "left": null,
      "margin": null,
      "max_height": null,
      "max_width": null,
      "min_height": null,
      "min_width": null,
      "object_fit": null,
      "object_position": null,
      "order": null,
      "overflow": null,
      "overflow_x": null,
      "overflow_y": null,
      "padding": null,
      "right": null,
      "top": null,
      "visibility": null,
      "width": null
     }
    },
    "129ef3e5445946468c105c6c9d7733a9": {
     "model_module": "@jupyter-widgets/base",
     "model_module_version": "1.2.0",
     "model_name": "LayoutModel",
     "state": {
      "_model_module": "@jupyter-widgets/base",
      "_model_module_version": "1.2.0",
      "_model_name": "LayoutModel",
      "_view_count": null,
      "_view_module": "@jupyter-widgets/base",
      "_view_module_version": "1.2.0",
      "_view_name": "LayoutView",
      "align_content": null,
      "align_items": null,
      "align_self": null,
      "border": null,
      "bottom": null,
      "display": null,
      "flex": null,
      "flex_flow": null,
      "grid_area": null,
      "grid_auto_columns": null,
      "grid_auto_flow": null,
      "grid_auto_rows": null,
      "grid_column": null,
      "grid_gap": null,
      "grid_row": null,
      "grid_template_areas": null,
      "grid_template_columns": null,
      "grid_template_rows": null,
      "height": null,
      "justify_content": null,
      "justify_items": null,
      "left": null,
      "margin": null,
      "max_height": null,
      "max_width": null,
      "min_height": null,
      "min_width": null,
      "object_fit": null,
      "object_position": null,
      "order": null,
      "overflow": null,
      "overflow_x": null,
      "overflow_y": null,
      "padding": null,
      "right": null,
      "top": null,
      "visibility": null,
      "width": null
     }
    },
    "13d4a227b4a44d72b81c6807cd48fda4": {
     "model_module": "@jupyter-widgets/base",
     "model_module_version": "1.2.0",
     "model_name": "LayoutModel",
     "state": {
      "_model_module": "@jupyter-widgets/base",
      "_model_module_version": "1.2.0",
      "_model_name": "LayoutModel",
      "_view_count": null,
      "_view_module": "@jupyter-widgets/base",
      "_view_module_version": "1.2.0",
      "_view_name": "LayoutView",
      "align_content": null,
      "align_items": null,
      "align_self": null,
      "border": null,
      "bottom": null,
      "display": null,
      "flex": null,
      "flex_flow": null,
      "grid_area": null,
      "grid_auto_columns": null,
      "grid_auto_flow": null,
      "grid_auto_rows": null,
      "grid_column": null,
      "grid_gap": null,
      "grid_row": null,
      "grid_template_areas": null,
      "grid_template_columns": null,
      "grid_template_rows": null,
      "height": "3em",
      "justify_content": null,
      "justify_items": null,
      "left": null,
      "margin": null,
      "max_height": null,
      "max_width": null,
      "min_height": null,
      "min_width": null,
      "object_fit": null,
      "object_position": null,
      "order": null,
      "overflow": null,
      "overflow_x": null,
      "overflow_y": null,
      "padding": null,
      "right": null,
      "top": null,
      "visibility": null,
      "width": "3em"
     }
    },
    "16248d73efe849dcb2445124078828f4": {
     "model_module": "@jupyter-widgets/controls",
     "model_module_version": "1.5.0",
     "model_name": "DescriptionStyleModel",
     "state": {
      "_model_module": "@jupyter-widgets/controls",
      "_model_module_version": "1.5.0",
      "_model_name": "DescriptionStyleModel",
      "_view_count": null,
      "_view_module": "@jupyter-widgets/base",
      "_view_module_version": "1.2.0",
      "_view_name": "StyleView",
      "description_width": ""
     }
    },
    "1c53baf1602d4430adff60838427ab98": {
     "model_module": "@jupyter-widgets/controls",
     "model_module_version": "1.5.0",
     "model_name": "ImageModel",
     "state": {
      "_dom_classes": [],
      "_model_module": "@jupyter-widgets/controls",
      "_model_module_version": "1.5.0",
      "_model_name": "ImageModel",
      "_view_count": null,
      "_view_module": "@jupyter-widgets/controls",
      "_view_module_version": "1.5.0",
      "_view_name": "ImageView",
      "format": "png",
      "height": "",
      "layout": "IPY_MODEL_1077868db87340a4a64f11a89915b06b",
      "width": ""
     }
    },
    "1d04b75e1af041ceb5e83baf32275c03": {
     "model_module": "@jupyter-widgets/base",
     "model_module_version": "1.2.0",
     "model_name": "LayoutModel",
     "state": {
      "_model_module": "@jupyter-widgets/base",
      "_model_module_version": "1.2.0",
      "_model_name": "LayoutModel",
      "_view_count": null,
      "_view_module": "@jupyter-widgets/base",
      "_view_module_version": "1.2.0",
      "_view_name": "LayoutView",
      "align_content": null,
      "align_items": null,
      "align_self": null,
      "border": null,
      "bottom": null,
      "display": null,
      "flex": null,
      "flex_flow": null,
      "grid_area": null,
      "grid_auto_columns": null,
      "grid_auto_flow": null,
      "grid_auto_rows": null,
      "grid_column": null,
      "grid_gap": null,
      "grid_row": null,
      "grid_template_areas": null,
      "grid_template_columns": null,
      "grid_template_rows": null,
      "height": null,
      "justify_content": null,
      "justify_items": null,
      "left": null,
      "margin": null,
      "max_height": null,
      "max_width": null,
      "min_height": null,
      "min_width": null,
      "object_fit": null,
      "object_position": null,
      "order": null,
      "overflow": null,
      "overflow_x": null,
      "overflow_y": null,
      "padding": null,
      "right": null,
      "top": null,
      "visibility": null,
      "width": null
     }
    },
    "1ec5909637074d14a91dc7ad13da5608": {
     "model_module": "@jupyter-widgets/controls",
     "model_module_version": "1.5.0",
     "model_name": "ButtonModel",
     "state": {
      "_dom_classes": [],
      "_model_module": "@jupyter-widgets/controls",
      "_model_module_version": "1.5.0",
      "_model_name": "ButtonModel",
      "_view_count": null,
      "_view_module": "@jupyter-widgets/controls",
      "_view_module_version": "1.5.0",
      "_view_name": "ButtonView",
      "button_style": "",
      "description": "Reset",
      "disabled": false,
      "icon": "",
      "layout": "IPY_MODEL_eeb869dafc7a4b6a83cd9906d9bf6145",
      "style": "IPY_MODEL_ee16076647c34cb79e7a18207f2a0830",
      "tooltip": ""
     }
    },
    "22da16c724fc4a95b5f9e9ce82b3669b": {
     "model_module": "@jupyter-widgets/controls",
     "model_module_version": "1.5.0",
     "model_name": "VBoxModel",
     "state": {
      "_dom_classes": [],
      "_model_module": "@jupyter-widgets/controls",
      "_model_module_version": "1.5.0",
      "_model_name": "VBoxModel",
      "_view_count": null,
      "_view_module": "@jupyter-widgets/controls",
      "_view_module_version": "1.5.0",
      "_view_name": "VBoxView",
      "box_style": "",
      "children": [
       "IPY_MODEL_ffc0833f832441bdb9d57faa5bde6349",
       "IPY_MODEL_d3591f5bc4ae47bca7312148731fdbad",
       "IPY_MODEL_5483256bb7ed4314bff01cf73387b066"
      ],
      "layout": "IPY_MODEL_1d04b75e1af041ceb5e83baf32275c03"
     }
    },
    "251a04f546da463ea86a2319e1e783f9": {
     "model_module": "@jupyter-widgets/base",
     "model_module_version": "1.2.0",
     "model_name": "LayoutModel",
     "state": {
      "_model_module": "@jupyter-widgets/base",
      "_model_module_version": "1.2.0",
      "_model_name": "LayoutModel",
      "_view_count": null,
      "_view_module": "@jupyter-widgets/base",
      "_view_module_version": "1.2.0",
      "_view_name": "LayoutView",
      "align_content": null,
      "align_items": null,
      "align_self": null,
      "border": null,
      "bottom": null,
      "display": null,
      "flex": null,
      "flex_flow": null,
      "grid_area": null,
      "grid_auto_columns": null,
      "grid_auto_flow": null,
      "grid_auto_rows": null,
      "grid_column": null,
      "grid_gap": null,
      "grid_row": null,
      "grid_template_areas": null,
      "grid_template_columns": null,
      "grid_template_rows": null,
      "height": "3em",
      "justify_content": null,
      "justify_items": null,
      "left": null,
      "margin": null,
      "max_height": null,
      "max_width": null,
      "min_height": null,
      "min_width": null,
      "object_fit": null,
      "object_position": null,
      "order": null,
      "overflow": null,
      "overflow_x": null,
      "overflow_y": null,
      "padding": null,
      "right": null,
      "top": null,
      "visibility": null,
      "width": "3em"
     }
    },
    "27e47b1333674d878eacb31d31706905": {
     "model_module": "@jupyter-widgets/controls",
     "model_module_version": "1.5.0",
     "model_name": "LabelModel",
     "state": {
      "_dom_classes": [],
      "_model_module": "@jupyter-widgets/controls",
      "_model_module_version": "1.5.0",
      "_model_name": "LabelModel",
      "_view_count": null,
      "_view_module": "@jupyter-widgets/controls",
      "_view_module_version": "1.5.0",
      "_view_name": "LabelView",
      "description": "",
      "description_tooltip": null,
      "layout": "IPY_MODEL_9b22a0efc005407abc73625ccb7fa02d",
      "placeholder": "​",
      "style": "IPY_MODEL_d360c10a9cc84788a1b13d4baf2f9fb9",
      "value": "State Vector:"
     }
    },
    "2bccb4aa95b046e185bfe5651b9d2114": {
     "model_module": "@jupyter-widgets/controls",
     "model_module_version": "1.5.0",
     "model_name": "ButtonStyleModel",
     "state": {
      "_model_module": "@jupyter-widgets/controls",
      "_model_module_version": "1.5.0",
      "_model_name": "ButtonStyleModel",
      "_view_count": null,
      "_view_module": "@jupyter-widgets/base",
      "_view_module_version": "1.2.0",
      "_view_name": "StyleView",
      "button_color": null,
      "font_weight": ""
     }
    },
    "2ed45f4f663f4214b8ed3d7bd885ab04": {
     "model_module": "@jupyter-widgets/controls",
     "model_module_version": "1.5.0",
     "model_name": "DescriptionStyleModel",
     "state": {
      "_model_module": "@jupyter-widgets/controls",
      "_model_module_version": "1.5.0",
      "_model_name": "DescriptionStyleModel",
      "_view_count": null,
      "_view_module": "@jupyter-widgets/base",
      "_view_module_version": "1.2.0",
      "_view_name": "StyleView",
      "description_width": ""
     }
    },
    "35e7b1e7248e405385e08ac65bd51ac7": {
     "model_module": "@jupyter-widgets/controls",
     "model_module_version": "1.5.0",
     "model_name": "VBoxModel",
     "state": {
      "_dom_classes": [],
      "_model_module": "@jupyter-widgets/controls",
      "_model_module_version": "1.5.0",
      "_model_name": "VBoxModel",
      "_view_count": null,
      "_view_module": "@jupyter-widgets/controls",
      "_view_module_version": "1.5.0",
      "_view_name": "VBoxView",
      "box_style": "",
      "children": [
       "IPY_MODEL_27e47b1333674d878eacb31d31706905",
       "IPY_MODEL_ac35fcebe7734c3f82ff1fe39662c426"
      ],
      "layout": "IPY_MODEL_8ea664b16082485e9a9fb72849f6400b"
     }
    },
    "36e81a908ac248af9f3f08d67b9dc45e": {
     "model_module": "@jupyter-widgets/controls",
     "model_module_version": "1.5.0",
     "model_name": "ButtonModel",
     "state": {
      "_dom_classes": [],
      "_model_module": "@jupyter-widgets/controls",
      "_model_module_version": "1.5.0",
      "_model_name": "ButtonModel",
      "_view_count": null,
      "_view_module": "@jupyter-widgets/controls",
      "_view_module_version": "1.5.0",
      "_view_name": "ButtonView",
      "button_style": "",
      "description": "Z",
      "disabled": false,
      "icon": "",
      "layout": "IPY_MODEL_4de5b73246294ff59d6cf17d93caa876",
      "style": "IPY_MODEL_90a4f17c08cf4f49a17d65b0664d21ca",
      "tooltip": ""
     }
    },
    "4581c9753c574b2580eac0b90c17b790": {
     "model_module": "@jupyter-widgets/controls",
     "model_module_version": "1.5.0",
     "model_name": "DescriptionStyleModel",
     "state": {
      "_model_module": "@jupyter-widgets/controls",
      "_model_module_version": "1.5.0",
      "_model_name": "DescriptionStyleModel",
      "_view_count": null,
      "_view_module": "@jupyter-widgets/base",
      "_view_module_version": "1.2.0",
      "_view_name": "StyleView",
      "description_width": ""
     }
    },
    "4a09f7e41ff44475aaedccd17e4f2b9e": {
     "model_module": "@jupyter-widgets/controls",
     "model_module_version": "1.5.0",
     "model_name": "DescriptionStyleModel",
     "state": {
      "_model_module": "@jupyter-widgets/controls",
      "_model_module_version": "1.5.0",
      "_model_name": "DescriptionStyleModel",
      "_view_count": null,
      "_view_module": "@jupyter-widgets/base",
      "_view_module_version": "1.2.0",
      "_view_name": "StyleView",
      "description_width": ""
     }
    },
    "4de5b73246294ff59d6cf17d93caa876": {
     "model_module": "@jupyter-widgets/base",
     "model_module_version": "1.2.0",
     "model_name": "LayoutModel",
     "state": {
      "_model_module": "@jupyter-widgets/base",
      "_model_module_version": "1.2.0",
      "_model_name": "LayoutModel",
      "_view_count": null,
      "_view_module": "@jupyter-widgets/base",
      "_view_module_version": "1.2.0",
      "_view_name": "LayoutView",
      "align_content": null,
      "align_items": null,
      "align_self": null,
      "border": null,
      "bottom": null,
      "display": null,
      "flex": null,
      "flex_flow": null,
      "grid_area": null,
      "grid_auto_columns": null,
      "grid_auto_flow": null,
      "grid_auto_rows": null,
      "grid_column": null,
      "grid_gap": null,
      "grid_row": null,
      "grid_template_areas": null,
      "grid_template_columns": null,
      "grid_template_rows": null,
      "height": "3em",
      "justify_content": null,
      "justify_items": null,
      "left": null,
      "margin": null,
      "max_height": null,
      "max_width": null,
      "min_height": null,
      "min_width": null,
      "object_fit": null,
      "object_position": null,
      "order": null,
      "overflow": null,
      "overflow_x": null,
      "overflow_y": null,
      "padding": null,
      "right": null,
      "top": null,
      "visibility": null,
      "width": "3em"
     }
    },
    "53f7b83e98f24059ae750f5c63cde407": {
     "model_module": "@jupyter-widgets/controls",
     "model_module_version": "1.5.0",
     "model_name": "ButtonModel",
     "state": {
      "_dom_classes": [],
      "_model_module": "@jupyter-widgets/controls",
      "_model_module_version": "1.5.0",
      "_model_name": "ButtonModel",
      "_view_count": null,
      "_view_module": "@jupyter-widgets/controls",
      "_view_module_version": "1.5.0",
      "_view_name": "ButtonView",
      "button_style": "",
      "description": "Y",
      "disabled": false,
      "icon": "",
      "layout": "IPY_MODEL_cee2344cd8dd4c9a86e76f30e382bd29",
      "style": "IPY_MODEL_2bccb4aa95b046e185bfe5651b9d2114",
      "tooltip": ""
     }
    },
    "5483256bb7ed4314bff01cf73387b066": {
     "model_module": "@jupyter-widgets/controls",
     "model_module_version": "1.5.0",
     "model_name": "HBoxModel",
     "state": {
      "_dom_classes": [],
      "_model_module": "@jupyter-widgets/controls",
      "_model_module_version": "1.5.0",
      "_model_name": "HBoxModel",
      "_view_count": null,
      "_view_module": "@jupyter-widgets/controls",
      "_view_module_version": "1.5.0",
      "_view_name": "HBoxView",
      "box_style": "",
      "children": [
       "IPY_MODEL_7d78d9f840bf4f3aaaa4408d6210bbd9",
       "IPY_MODEL_fafef16f3785416ebfebda71418b6072",
       "IPY_MODEL_e110fffcb2fd48f1808b270040613c1c",
       "IPY_MODEL_ce9923e11cb5490dac93650ce9a756de",
       "IPY_MODEL_91987492252948709246645c42030e15"
      ],
      "layout": "IPY_MODEL_8708b078a61f4dbfb90481983bfab4ff"
     }
    },
    "6252bb1134b043b2afd05368d337c71e": {
     "model_module": "@jupyter-widgets/controls",
     "model_module_version": "1.5.0",
     "model_name": "TextModel",
     "state": {
      "_dom_classes": [],
      "_model_module": "@jupyter-widgets/controls",
      "_model_module_version": "1.5.0",
      "_model_name": "TextModel",
      "_view_count": null,
      "_view_module": "@jupyter-widgets/controls",
      "_view_module_version": "1.5.0",
      "_view_name": "TextView",
      "continuous_update": true,
      "description": "",
      "description_tooltip": null,
      "disabled": false,
      "layout": "IPY_MODEL_ee99e4c3dfeb4a3cb35667061b51389d",
      "placeholder": "Type something",
      "style": "IPY_MODEL_16248d73efe849dcb2445124078828f4",
      "value": "[1, 0]"
     }
    },
    "6df2988e50f24ada87df3de6eb505629": {
     "model_module": "@jupyter-widgets/controls",
     "model_module_version": "1.5.0",
     "model_name": "DescriptionStyleModel",
     "state": {
      "_model_module": "@jupyter-widgets/controls",
      "_model_module_version": "1.5.0",
      "_model_name": "DescriptionStyleModel",
      "_view_count": null,
      "_view_module": "@jupyter-widgets/base",
      "_view_module_version": "1.2.0",
      "_view_name": "StyleView",
      "description_width": ""
     }
    },
    "7ac3ce28a6f449568b14191d18d0ca92": {
     "model_module": "@jupyter-widgets/controls",
     "model_module_version": "1.5.0",
     "model_name": "HTMLModel",
     "state": {
      "_dom_classes": [],
      "_model_module": "@jupyter-widgets/controls",
      "_model_module_version": "1.5.0",
      "_model_name": "HTMLModel",
      "_view_count": null,
      "_view_module": "@jupyter-widgets/controls",
      "_view_module_version": "1.5.0",
      "_view_name": "HTMLView",
      "description": "",
      "description_tooltip": null,
      "layout": "IPY_MODEL_f5209a17d60e4d75b4f7463c2ec81fe7",
      "placeholder": "​",
      "style": "IPY_MODEL_4581c9753c574b2580eac0b90c17b790",
      "value": "<pre>Binary   Decimal\n 00000 = 0</pre>"
     }
    },
    "7d78d9f840bf4f3aaaa4408d6210bbd9": {
     "model_module": "@jupyter-widgets/controls",
     "model_module_version": "1.5.0",
     "model_name": "ToggleButtonModel",
     "state": {
      "_dom_classes": [],
      "_model_module": "@jupyter-widgets/controls",
      "_model_module_version": "1.5.0",
      "_model_name": "ToggleButtonModel",
      "_view_count": null,
      "_view_module": "@jupyter-widgets/controls",
      "_view_module_version": "1.5.0",
      "_view_name": "ToggleButtonView",
      "button_style": "",
      "description": "16",
      "description_tooltip": null,
      "disabled": false,
      "icon": "",
      "layout": "IPY_MODEL_13d4a227b4a44d72b81c6807cd48fda4",
      "style": "IPY_MODEL_2ed45f4f663f4214b8ed3d7bd885ab04",
      "tooltip": "",
      "value": false
     }
    },
    "80a26e41457a4dc99c794a78733fb3dc": {
     "model_module": "@jupyter-widgets/controls",
     "model_module_version": "1.5.0",
     "model_name": "DescriptionStyleModel",
     "state": {
      "_model_module": "@jupyter-widgets/controls",
      "_model_module_version": "1.5.0",
      "_model_name": "DescriptionStyleModel",
      "_view_count": null,
      "_view_module": "@jupyter-widgets/base",
      "_view_module_version": "1.2.0",
      "_view_name": "StyleView",
      "description_width": ""
     }
    },
    "8708b078a61f4dbfb90481983bfab4ff": {
     "model_module": "@jupyter-widgets/base",
     "model_module_version": "1.2.0",
     "model_name": "LayoutModel",
     "state": {
      "_model_module": "@jupyter-widgets/base",
      "_model_module_version": "1.2.0",
      "_model_name": "LayoutModel",
      "_view_count": null,
      "_view_module": "@jupyter-widgets/base",
      "_view_module_version": "1.2.0",
      "_view_name": "LayoutView",
      "align_content": null,
      "align_items": null,
      "align_self": null,
      "border": null,
      "bottom": null,
      "display": null,
      "flex": null,
      "flex_flow": null,
      "grid_area": null,
      "grid_auto_columns": null,
      "grid_auto_flow": null,
      "grid_auto_rows": null,
      "grid_column": null,
      "grid_gap": null,
      "grid_row": null,
      "grid_template_areas": null,
      "grid_template_columns": null,
      "grid_template_rows": null,
      "height": null,
      "justify_content": null,
      "justify_items": null,
      "left": null,
      "margin": null,
      "max_height": null,
      "max_width": null,
      "min_height": null,
      "min_width": null,
      "object_fit": null,
      "object_position": null,
      "order": null,
      "overflow": null,
      "overflow_x": null,
      "overflow_y": null,
      "padding": null,
      "right": null,
      "top": null,
      "visibility": null,
      "width": null
     }
    },
    "8ea664b16082485e9a9fb72849f6400b": {
     "model_module": "@jupyter-widgets/base",
     "model_module_version": "1.2.0",
     "model_name": "LayoutModel",
     "state": {
      "_model_module": "@jupyter-widgets/base",
      "_model_module_version": "1.2.0",
      "_model_name": "LayoutModel",
      "_view_count": null,
      "_view_module": "@jupyter-widgets/base",
      "_view_module_version": "1.2.0",
      "_view_name": "LayoutView",
      "align_content": null,
      "align_items": null,
      "align_self": null,
      "border": null,
      "bottom": null,
      "display": null,
      "flex": null,
      "flex_flow": null,
      "grid_area": null,
      "grid_auto_columns": null,
      "grid_auto_flow": null,
      "grid_auto_rows": null,
      "grid_column": null,
      "grid_gap": null,
      "grid_row": null,
      "grid_template_areas": null,
      "grid_template_columns": null,
      "grid_template_rows": null,
      "height": null,
      "justify_content": null,
      "justify_items": null,
      "left": null,
      "margin": null,
      "max_height": null,
      "max_width": null,
      "min_height": null,
      "min_width": null,
      "object_fit": null,
      "object_position": null,
      "order": null,
      "overflow": null,
      "overflow_x": null,
      "overflow_y": null,
      "padding": null,
      "right": null,
      "top": null,
      "visibility": null,
      "width": null
     }
    },
    "90a4f17c08cf4f49a17d65b0664d21ca": {
     "model_module": "@jupyter-widgets/controls",
     "model_module_version": "1.5.0",
     "model_name": "ButtonStyleModel",
     "state": {
      "_model_module": "@jupyter-widgets/controls",
      "_model_module_version": "1.5.0",
      "_model_name": "ButtonStyleModel",
      "_view_count": null,
      "_view_module": "@jupyter-widgets/base",
      "_view_module_version": "1.2.0",
      "_view_name": "StyleView",
      "button_color": null,
      "font_weight": ""
     }
    },
    "91987492252948709246645c42030e15": {
     "model_module": "@jupyter-widgets/controls",
     "model_module_version": "1.5.0",
     "model_name": "ToggleButtonModel",
     "state": {
      "_dom_classes": [],
      "_model_module": "@jupyter-widgets/controls",
      "_model_module_version": "1.5.0",
      "_model_name": "ToggleButtonModel",
      "_view_count": null,
      "_view_module": "@jupyter-widgets/controls",
      "_view_module_version": "1.5.0",
      "_view_name": "ToggleButtonView",
      "button_style": "",
      "description": "1",
      "description_tooltip": null,
      "disabled": false,
      "icon": "",
      "layout": "IPY_MODEL_f6534d684bf4473495148417c1e0969c",
      "style": "IPY_MODEL_f3aa2381818a4da5bd1535c193251d40",
      "tooltip": "",
      "value": false
     }
    },
    "9285652d91fc4c7da65b0f2619d5e457": {
     "model_module": "@jupyter-widgets/base",
     "model_module_version": "1.2.0",
     "model_name": "LayoutModel",
     "state": {
      "_model_module": "@jupyter-widgets/base",
      "_model_module_version": "1.2.0",
      "_model_name": "LayoutModel",
      "_view_count": null,
      "_view_module": "@jupyter-widgets/base",
      "_view_module_version": "1.2.0",
      "_view_name": "LayoutView",
      "align_content": null,
      "align_items": null,
      "align_self": null,
      "border": null,
      "bottom": null,
      "display": null,
      "flex": null,
      "flex_flow": null,
      "grid_area": null,
      "grid_auto_columns": null,
      "grid_auto_flow": null,
      "grid_auto_rows": null,
      "grid_column": null,
      "grid_gap": null,
      "grid_row": null,
      "grid_template_areas": null,
      "grid_template_columns": null,
      "grid_template_rows": null,
      "height": "3em",
      "justify_content": null,
      "justify_items": null,
      "left": null,
      "margin": null,
      "max_height": null,
      "max_width": null,
      "min_height": null,
      "min_width": null,
      "object_fit": null,
      "object_position": null,
      "order": null,
      "overflow": null,
      "overflow_x": null,
      "overflow_y": null,
      "padding": null,
      "right": null,
      "top": null,
      "visibility": null,
      "width": "3em"
     }
    },
    "976f75b7eae745b39e054e6fa93a774a": {
     "model_module": "@jupyter-widgets/base",
     "model_module_version": "1.2.0",
     "model_name": "LayoutModel",
     "state": {
      "_model_module": "@jupyter-widgets/base",
      "_model_module_version": "1.2.0",
      "_model_name": "LayoutModel",
      "_view_count": null,
      "_view_module": "@jupyter-widgets/base",
      "_view_module_version": "1.2.0",
      "_view_name": "LayoutView",
      "align_content": null,
      "align_items": null,
      "align_self": null,
      "border": null,
      "bottom": null,
      "display": null,
      "flex": null,
      "flex_flow": null,
      "grid_area": null,
      "grid_auto_columns": null,
      "grid_auto_flow": null,
      "grid_auto_rows": null,
      "grid_column": null,
      "grid_gap": null,
      "grid_row": null,
      "grid_template_areas": null,
      "grid_template_columns": null,
      "grid_template_rows": null,
      "height": null,
      "justify_content": null,
      "justify_items": null,
      "left": null,
      "margin": null,
      "max_height": null,
      "max_width": null,
      "min_height": null,
      "min_width": null,
      "object_fit": null,
      "object_position": null,
      "order": null,
      "overflow": null,
      "overflow_x": null,
      "overflow_y": null,
      "padding": null,
      "right": null,
      "top": null,
      "visibility": null,
      "width": "5em"
     }
    },
    "9b22a0efc005407abc73625ccb7fa02d": {
     "model_module": "@jupyter-widgets/base",
     "model_module_version": "1.2.0",
     "model_name": "LayoutModel",
     "state": {
      "_model_module": "@jupyter-widgets/base",
      "_model_module_version": "1.2.0",
      "_model_name": "LayoutModel",
      "_view_count": null,
      "_view_module": "@jupyter-widgets/base",
      "_view_module_version": "1.2.0",
      "_view_name": "LayoutView",
      "align_content": null,
      "align_items": null,
      "align_self": null,
      "border": null,
      "bottom": null,
      "display": null,
      "flex": null,
      "flex_flow": null,
      "grid_area": null,
      "grid_auto_columns": null,
      "grid_auto_flow": null,
      "grid_auto_rows": null,
      "grid_column": null,
      "grid_gap": null,
      "grid_row": null,
      "grid_template_areas": null,
      "grid_template_columns": null,
      "grid_template_rows": null,
      "height": null,
      "justify_content": null,
      "justify_items": null,
      "left": null,
      "margin": null,
      "max_height": null,
      "max_width": null,
      "min_height": null,
      "min_width": null,
      "object_fit": null,
      "object_position": null,
      "order": null,
      "overflow": null,
      "overflow_x": null,
      "overflow_y": null,
      "padding": null,
      "right": null,
      "top": null,
      "visibility": null,
      "width": null
     }
    },
    "a104a7298caf460a91307172ea3fcc7c": {
     "model_module": "@jupyter-widgets/controls",
     "model_module_version": "1.5.0",
     "model_name": "DescriptionStyleModel",
     "state": {
      "_model_module": "@jupyter-widgets/controls",
      "_model_module_version": "1.5.0",
      "_model_name": "DescriptionStyleModel",
      "_view_count": null,
      "_view_module": "@jupyter-widgets/base",
      "_view_module_version": "1.2.0",
      "_view_name": "StyleView",
      "description_width": ""
     }
    },
    "a2aba04dba4d4ab78f7ef4824da2b0a1": {
     "model_module": "@jupyter-widgets/controls",
     "model_module_version": "1.5.0",
     "model_name": "ButtonStyleModel",
     "state": {
      "_model_module": "@jupyter-widgets/controls",
      "_model_module_version": "1.5.0",
      "_model_name": "ButtonStyleModel",
      "_view_count": null,
      "_view_module": "@jupyter-widgets/base",
      "_view_module_version": "1.2.0",
      "_view_name": "StyleView",
      "button_color": null,
      "font_weight": ""
     }
    },
    "ac35fcebe7734c3f82ff1fe39662c426": {
     "model_module": "@jupyter-widgets/controls",
     "model_module_version": "1.5.0",
     "model_name": "HBoxModel",
     "state": {
      "_dom_classes": [],
      "_model_module": "@jupyter-widgets/controls",
      "_model_module_version": "1.5.0",
      "_model_name": "HBoxModel",
      "_view_count": null,
      "_view_module": "@jupyter-widgets/controls",
      "_view_module_version": "1.5.0",
      "_view_name": "HBoxView",
      "box_style": "",
      "children": [
       "IPY_MODEL_6252bb1134b043b2afd05368d337c71e",
       "IPY_MODEL_ad21233fdf0e438b80a2414e7c2a1cfc"
      ],
      "layout": "IPY_MODEL_ffe8d070db88400eb3f4c8e944c7d6c7"
     }
    },
    "acf3829838be44e29afddaf2639b0e8c": {
     "model_module": "@jupyter-widgets/controls",
     "model_module_version": "1.5.0",
     "model_name": "ButtonStyleModel",
     "state": {
      "_model_module": "@jupyter-widgets/controls",
      "_model_module_version": "1.5.0",
      "_model_name": "ButtonStyleModel",
      "_view_count": null,
      "_view_module": "@jupyter-widgets/base",
      "_view_module_version": "1.2.0",
      "_view_name": "StyleView",
      "button_color": null,
      "font_weight": ""
     }
    },
    "ad21233fdf0e438b80a2414e7c2a1cfc": {
     "model_module": "@jupyter-widgets/controls",
     "model_module_version": "1.5.0",
     "model_name": "ButtonModel",
     "state": {
      "_dom_classes": [],
      "_model_module": "@jupyter-widgets/controls",
      "_model_module_version": "1.5.0",
      "_model_name": "ButtonModel",
      "_view_count": null,
      "_view_module": "@jupyter-widgets/controls",
      "_view_module_version": "1.5.0",
      "_view_name": "ButtonView",
      "button_style": "",
      "description": "Check",
      "disabled": false,
      "icon": "",
      "layout": "IPY_MODEL_976f75b7eae745b39e054e6fa93a774a",
      "style": "IPY_MODEL_a2aba04dba4d4ab78f7ef4824da2b0a1",
      "tooltip": ""
     }
    },
    "c515d719a9e34099a68b49e28e3c8e42": {
     "model_module": "@jupyter-widgets/base",
     "model_module_version": "1.2.0",
     "model_name": "LayoutModel",
     "state": {
      "_model_module": "@jupyter-widgets/base",
      "_model_module_version": "1.2.0",
      "_model_name": "LayoutModel",
      "_view_count": null,
      "_view_module": "@jupyter-widgets/base",
      "_view_module_version": "1.2.0",
      "_view_name": "LayoutView",
      "align_content": null,
      "align_items": null,
      "align_self": null,
      "border": null,
      "bottom": null,
      "display": null,
      "flex": null,
      "flex_flow": null,
      "grid_area": null,
      "grid_auto_columns": null,
      "grid_auto_flow": null,
      "grid_auto_rows": null,
      "grid_column": null,
      "grid_gap": null,
      "grid_row": null,
      "grid_template_areas": null,
      "grid_template_columns": null,
      "grid_template_rows": null,
      "height": "3em",
      "justify_content": null,
      "justify_items": null,
      "left": null,
      "margin": null,
      "max_height": null,
      "max_width": null,
      "min_height": null,
      "min_width": null,
      "object_fit": null,
      "object_position": null,
      "order": null,
      "overflow": null,
      "overflow_x": null,
      "overflow_y": null,
      "padding": null,
      "right": null,
      "top": null,
      "visibility": null,
      "width": "3em"
     }
    },
    "ce9923e11cb5490dac93650ce9a756de": {
     "model_module": "@jupyter-widgets/controls",
     "model_module_version": "1.5.0",
     "model_name": "ToggleButtonModel",
     "state": {
      "_dom_classes": [],
      "_model_module": "@jupyter-widgets/controls",
      "_model_module_version": "1.5.0",
      "_model_name": "ToggleButtonModel",
      "_view_count": null,
      "_view_module": "@jupyter-widgets/controls",
      "_view_module_version": "1.5.0",
      "_view_name": "ToggleButtonView",
      "button_style": "",
      "description": "2",
      "description_tooltip": null,
      "disabled": false,
      "icon": "",
      "layout": "IPY_MODEL_9285652d91fc4c7da65b0f2619d5e457",
      "style": "IPY_MODEL_6df2988e50f24ada87df3de6eb505629",
      "tooltip": "",
      "value": false
     }
    },
    "cee2344cd8dd4c9a86e76f30e382bd29": {
     "model_module": "@jupyter-widgets/base",
     "model_module_version": "1.2.0",
     "model_name": "LayoutModel",
     "state": {
      "_model_module": "@jupyter-widgets/base",
      "_model_module_version": "1.2.0",
      "_model_name": "LayoutModel",
      "_view_count": null,
      "_view_module": "@jupyter-widgets/base",
      "_view_module_version": "1.2.0",
      "_view_name": "LayoutView",
      "align_content": null,
      "align_items": null,
      "align_self": null,
      "border": null,
      "bottom": null,
      "display": null,
      "flex": null,
      "flex_flow": null,
      "grid_area": null,
      "grid_auto_columns": null,
      "grid_auto_flow": null,
      "grid_auto_rows": null,
      "grid_column": null,
      "grid_gap": null,
      "grid_row": null,
      "grid_template_areas": null,
      "grid_template_columns": null,
      "grid_template_rows": null,
      "height": "3em",
      "justify_content": null,
      "justify_items": null,
      "left": null,
      "margin": null,
      "max_height": null,
      "max_width": null,
      "min_height": null,
      "min_width": null,
      "object_fit": null,
      "object_position": null,
      "order": null,
      "overflow": null,
      "overflow_x": null,
      "overflow_y": null,
      "padding": null,
      "right": null,
      "top": null,
      "visibility": null,
      "width": "3em"
     }
    },
    "d3591f5bc4ae47bca7312148731fdbad": {
     "model_module": "@jupyter-widgets/controls",
     "model_module_version": "1.5.0",
     "model_name": "LabelModel",
     "state": {
      "_dom_classes": [],
      "_model_module": "@jupyter-widgets/controls",
      "_model_module_version": "1.5.0",
      "_model_name": "LabelModel",
      "_view_count": null,
      "_view_module": "@jupyter-widgets/controls",
      "_view_module_version": "1.5.0",
      "_view_name": "LabelView",
      "description": "",
      "description_tooltip": null,
      "layout": "IPY_MODEL_f0cc13153dcb46f3a55742bbd8a8f766",
      "placeholder": "​",
      "style": "IPY_MODEL_a104a7298caf460a91307172ea3fcc7c",
      "value": "Think of a number between 0 and 31 and try to write it down in binary."
     }
    },
    "d360c10a9cc84788a1b13d4baf2f9fb9": {
     "model_module": "@jupyter-widgets/controls",
     "model_module_version": "1.5.0",
     "model_name": "DescriptionStyleModel",
     "state": {
      "_model_module": "@jupyter-widgets/controls",
      "_model_module_version": "1.5.0",
      "_model_name": "DescriptionStyleModel",
      "_view_count": null,
      "_view_module": "@jupyter-widgets/base",
      "_view_module_version": "1.2.0",
      "_view_name": "StyleView",
      "description_width": ""
     }
    },
    "d88ce3f4562b4bc3a75c0c70a07d3508": {
     "model_module": "@jupyter-widgets/controls",
     "model_module_version": "1.5.0",
     "model_name": "ButtonModel",
     "state": {
      "_dom_classes": [],
      "_model_module": "@jupyter-widgets/controls",
      "_model_module_version": "1.5.0",
      "_model_name": "ButtonModel",
      "_view_count": null,
      "_view_module": "@jupyter-widgets/controls",
      "_view_module_version": "1.5.0",
      "_view_name": "ButtonView",
      "button_style": "",
      "description": "X",
      "disabled": false,
      "icon": "",
      "layout": "IPY_MODEL_251a04f546da463ea86a2319e1e783f9",
      "style": "IPY_MODEL_acf3829838be44e29afddaf2639b0e8c",
      "tooltip": ""
     }
    },
    "e110fffcb2fd48f1808b270040613c1c": {
     "model_module": "@jupyter-widgets/controls",
     "model_module_version": "1.5.0",
     "model_name": "ToggleButtonModel",
     "state": {
      "_dom_classes": [],
      "_model_module": "@jupyter-widgets/controls",
      "_model_module_version": "1.5.0",
      "_model_name": "ToggleButtonModel",
      "_view_count": null,
      "_view_module": "@jupyter-widgets/controls",
      "_view_module_version": "1.5.0",
      "_view_name": "ToggleButtonView",
      "button_style": "",
      "description": "4",
      "description_tooltip": null,
      "disabled": false,
      "icon": "",
      "layout": "IPY_MODEL_c515d719a9e34099a68b49e28e3c8e42",
      "style": "IPY_MODEL_0429ac1cdd3844cb88d97dd03efbe0d7",
      "tooltip": "",
      "value": false
     }
    },
    "ee16076647c34cb79e7a18207f2a0830": {
     "model_module": "@jupyter-widgets/controls",
     "model_module_version": "1.5.0",
     "model_name": "ButtonStyleModel",
     "state": {
      "_model_module": "@jupyter-widgets/controls",
      "_model_module_version": "1.5.0",
      "_model_name": "ButtonStyleModel",
      "_view_count": null,
      "_view_module": "@jupyter-widgets/base",
      "_view_module_version": "1.2.0",
      "_view_name": "StyleView",
      "button_color": null,
      "font_weight": ""
     }
    },
    "ee99e4c3dfeb4a3cb35667061b51389d": {
     "model_module": "@jupyter-widgets/base",
     "model_module_version": "1.2.0",
     "model_name": "LayoutModel",
     "state": {
      "_model_module": "@jupyter-widgets/base",
      "_model_module_version": "1.2.0",
      "_model_name": "LayoutModel",
      "_view_count": null,
      "_view_module": "@jupyter-widgets/base",
      "_view_module_version": "1.2.0",
      "_view_name": "LayoutView",
      "align_content": null,
      "align_items": null,
      "align_self": null,
      "border": null,
      "bottom": null,
      "display": null,
      "flex": null,
      "flex_flow": null,
      "grid_area": null,
      "grid_auto_columns": null,
      "grid_auto_flow": null,
      "grid_auto_rows": null,
      "grid_column": null,
      "grid_gap": null,
      "grid_row": null,
      "grid_template_areas": null,
      "grid_template_columns": null,
      "grid_template_rows": null,
      "height": null,
      "justify_content": null,
      "justify_items": null,
      "left": null,
      "margin": null,
      "max_height": null,
      "max_width": null,
      "min_height": null,
      "min_width": null,
      "object_fit": null,
      "object_position": null,
      "order": null,
      "overflow": null,
      "overflow_x": null,
      "overflow_y": null,
      "padding": null,
      "right": null,
      "top": null,
      "visibility": null,
      "width": null
     }
    },
    "eeb869dafc7a4b6a83cd9906d9bf6145": {
     "model_module": "@jupyter-widgets/base",
     "model_module_version": "1.2.0",
     "model_name": "LayoutModel",
     "state": {
      "_model_module": "@jupyter-widgets/base",
      "_model_module_version": "1.2.0",
      "_model_name": "LayoutModel",
      "_view_count": null,
      "_view_module": "@jupyter-widgets/base",
      "_view_module_version": "1.2.0",
      "_view_name": "LayoutView",
      "align_content": null,
      "align_items": null,
      "align_self": null,
      "border": null,
      "bottom": null,
      "display": null,
      "flex": null,
      "flex_flow": null,
      "grid_area": null,
      "grid_auto_columns": null,
      "grid_auto_flow": null,
      "grid_auto_rows": null,
      "grid_column": null,
      "grid_gap": null,
      "grid_row": null,
      "grid_template_areas": null,
      "grid_template_columns": null,
      "grid_template_rows": null,
      "height": "3em",
      "justify_content": null,
      "justify_items": null,
      "left": null,
      "margin": null,
      "max_height": null,
      "max_width": null,
      "min_height": null,
      "min_width": null,
      "object_fit": null,
      "object_position": null,
      "order": null,
      "overflow": null,
      "overflow_x": null,
      "overflow_y": null,
      "padding": null,
      "right": null,
      "top": null,
      "visibility": null,
      "width": "6em"
     }
    },
    "f0cc13153dcb46f3a55742bbd8a8f766": {
     "model_module": "@jupyter-widgets/base",
     "model_module_version": "1.2.0",
     "model_name": "LayoutModel",
     "state": {
      "_model_module": "@jupyter-widgets/base",
      "_model_module_version": "1.2.0",
      "_model_name": "LayoutModel",
      "_view_count": null,
      "_view_module": "@jupyter-widgets/base",
      "_view_module_version": "1.2.0",
      "_view_name": "LayoutView",
      "align_content": null,
      "align_items": null,
      "align_self": null,
      "border": null,
      "bottom": null,
      "display": null,
      "flex": null,
      "flex_flow": null,
      "grid_area": null,
      "grid_auto_columns": null,
      "grid_auto_flow": null,
      "grid_auto_rows": null,
      "grid_column": null,
      "grid_gap": null,
      "grid_row": null,
      "grid_template_areas": null,
      "grid_template_columns": null,
      "grid_template_rows": null,
      "height": null,
      "justify_content": null,
      "justify_items": null,
      "left": null,
      "margin": null,
      "max_height": null,
      "max_width": null,
      "min_height": null,
      "min_width": null,
      "object_fit": null,
      "object_position": null,
      "order": null,
      "overflow": null,
      "overflow_x": null,
      "overflow_y": null,
      "padding": null,
      "right": null,
      "top": null,
      "visibility": null,
      "width": null
     }
    },
    "f179c228f57f45df859fa9ffa644e0d6": {
     "model_module": "@jupyter-widgets/controls",
     "model_module_version": "1.5.0",
     "model_name": "HBoxModel",
     "state": {
      "_dom_classes": [],
      "_model_module": "@jupyter-widgets/controls",
      "_model_module_version": "1.5.0",
      "_model_name": "HBoxModel",
      "_view_count": null,
      "_view_module": "@jupyter-widgets/controls",
      "_view_module_version": "1.5.0",
      "_view_name": "HBoxView",
      "box_style": "",
      "children": [
       "IPY_MODEL_d88ce3f4562b4bc3a75c0c70a07d3508",
       "IPY_MODEL_53f7b83e98f24059ae750f5c63cde407",
       "IPY_MODEL_36e81a908ac248af9f3f08d67b9dc45e",
       "IPY_MODEL_1ec5909637074d14a91dc7ad13da5608"
      ],
      "layout": "IPY_MODEL_129ef3e5445946468c105c6c9d7733a9"
     }
    },
    "f2147add7ca24251af8708091796a54c": {
     "model_module": "@jupyter-widgets/controls",
     "model_module_version": "1.5.0",
     "model_name": "HTMLModel",
     "state": {
      "_dom_classes": [],
      "_model_module": "@jupyter-widgets/controls",
      "_model_module_version": "1.5.0",
      "_model_name": "HTMLModel",
      "_view_count": null,
      "_view_module": "@jupyter-widgets/controls",
      "_view_module_version": "1.5.0",
      "_view_name": "HTMLView",
      "description": "",
      "description_tooltip": null,
      "layout": "IPY_MODEL_f5dc57781dba42a8bf81e14070f02cd9",
      "placeholder": "​",
      "style": "IPY_MODEL_80a26e41457a4dc99c794a78733fb3dc",
      "value": "<pre>The absolute value of 1, squared is not equal to 0.3333333333333333</pre>"
     }
    },
    "f3aa2381818a4da5bd1535c193251d40": {
     "model_module": "@jupyter-widgets/controls",
     "model_module_version": "1.5.0",
     "model_name": "DescriptionStyleModel",
     "state": {
      "_model_module": "@jupyter-widgets/controls",
      "_model_module_version": "1.5.0",
      "_model_name": "DescriptionStyleModel",
      "_view_count": null,
      "_view_module": "@jupyter-widgets/base",
      "_view_module_version": "1.2.0",
      "_view_name": "StyleView",
      "description_width": ""
     }
    },
    "f5209a17d60e4d75b4f7463c2ec81fe7": {
     "model_module": "@jupyter-widgets/base",
     "model_module_version": "1.2.0",
     "model_name": "LayoutModel",
     "state": {
      "_model_module": "@jupyter-widgets/base",
      "_model_module_version": "1.2.0",
      "_model_name": "LayoutModel",
      "_view_count": null,
      "_view_module": "@jupyter-widgets/base",
      "_view_module_version": "1.2.0",
      "_view_name": "LayoutView",
      "align_content": null,
      "align_items": null,
      "align_self": null,
      "border": null,
      "bottom": null,
      "display": null,
      "flex": null,
      "flex_flow": null,
      "grid_area": null,
      "grid_auto_columns": null,
      "grid_auto_flow": null,
      "grid_auto_rows": null,
      "grid_column": null,
      "grid_gap": null,
      "grid_row": null,
      "grid_template_areas": null,
      "grid_template_columns": null,
      "grid_template_rows": null,
      "height": null,
      "justify_content": null,
      "justify_items": null,
      "left": null,
      "margin": null,
      "max_height": null,
      "max_width": null,
      "min_height": null,
      "min_width": null,
      "object_fit": null,
      "object_position": null,
      "order": null,
      "overflow": null,
      "overflow_x": null,
      "overflow_y": null,
      "padding": null,
      "right": null,
      "top": null,
      "visibility": null,
      "width": null
     }
    },
    "f5dc57781dba42a8bf81e14070f02cd9": {
     "model_module": "@jupyter-widgets/base",
     "model_module_version": "1.2.0",
     "model_name": "LayoutModel",
     "state": {
      "_model_module": "@jupyter-widgets/base",
      "_model_module_version": "1.2.0",
      "_model_name": "LayoutModel",
      "_view_count": null,
      "_view_module": "@jupyter-widgets/base",
      "_view_module_version": "1.2.0",
      "_view_name": "LayoutView",
      "align_content": null,
      "align_items": null,
      "align_self": null,
      "border": null,
      "bottom": null,
      "display": null,
      "flex": null,
      "flex_flow": null,
      "grid_area": null,
      "grid_auto_columns": null,
      "grid_auto_flow": null,
      "grid_auto_rows": null,
      "grid_column": null,
      "grid_gap": null,
      "grid_row": null,
      "grid_template_areas": null,
      "grid_template_columns": null,
      "grid_template_rows": null,
      "height": null,
      "justify_content": null,
      "justify_items": null,
      "left": null,
      "margin": null,
      "max_height": null,
      "max_width": null,
      "min_height": null,
      "min_width": null,
      "object_fit": null,
      "object_position": null,
      "order": null,
      "overflow": null,
      "overflow_x": null,
      "overflow_y": null,
      "padding": null,
      "right": null,
      "top": null,
      "visibility": null,
      "width": null
     }
    },
    "f6534d684bf4473495148417c1e0969c": {
     "model_module": "@jupyter-widgets/base",
     "model_module_version": "1.2.0",
     "model_name": "LayoutModel",
     "state": {
      "_model_module": "@jupyter-widgets/base",
      "_model_module_version": "1.2.0",
      "_model_name": "LayoutModel",
      "_view_count": null,
      "_view_module": "@jupyter-widgets/base",
      "_view_module_version": "1.2.0",
      "_view_name": "LayoutView",
      "align_content": null,
      "align_items": null,
      "align_self": null,
      "border": null,
      "bottom": null,
      "display": null,
      "flex": null,
      "flex_flow": null,
      "grid_area": null,
      "grid_auto_columns": null,
      "grid_auto_flow": null,
      "grid_auto_rows": null,
      "grid_column": null,
      "grid_gap": null,
      "grid_row": null,
      "grid_template_areas": null,
      "grid_template_columns": null,
      "grid_template_rows": null,
      "height": "3em",
      "justify_content": null,
      "justify_items": null,
      "left": null,
      "margin": null,
      "max_height": null,
      "max_width": null,
      "min_height": null,
      "min_width": null,
      "object_fit": null,
      "object_position": null,
      "order": null,
      "overflow": null,
      "overflow_x": null,
      "overflow_y": null,
      "padding": null,
      "right": null,
      "top": null,
      "visibility": null,
      "width": "3em"
     }
    },
    "f6f7472dedbc4af993a5479fc6b5625d": {
     "model_module": "@jupyter-widgets/controls",
     "model_module_version": "1.5.0",
     "model_name": "DescriptionStyleModel",
     "state": {
      "_model_module": "@jupyter-widgets/controls",
      "_model_module_version": "1.5.0",
      "_model_name": "DescriptionStyleModel",
      "_view_count": null,
      "_view_module": "@jupyter-widgets/base",
      "_view_module_version": "1.2.0",
      "_view_name": "StyleView",
      "description_width": ""
     }
    },
    "fad18097d7c140fa8240d8e0ade34543": {
     "model_module": "@jupyter-widgets/base",
     "model_module_version": "1.2.0",
     "model_name": "LayoutModel",
     "state": {
      "_model_module": "@jupyter-widgets/base",
      "_model_module_version": "1.2.0",
      "_model_name": "LayoutModel",
      "_view_count": null,
      "_view_module": "@jupyter-widgets/base",
      "_view_module_version": "1.2.0",
      "_view_name": "LayoutView",
      "align_content": null,
      "align_items": null,
      "align_self": null,
      "border": null,
      "bottom": null,
      "display": null,
      "flex": null,
      "flex_flow": null,
      "grid_area": null,
      "grid_auto_columns": null,
      "grid_auto_flow": null,
      "grid_auto_rows": null,
      "grid_column": null,
      "grid_gap": null,
      "grid_row": null,
      "grid_template_areas": null,
      "grid_template_columns": null,
      "grid_template_rows": null,
      "height": "3em",
      "justify_content": null,
      "justify_items": null,
      "left": null,
      "margin": null,
      "max_height": null,
      "max_width": null,
      "min_height": null,
      "min_width": null,
      "object_fit": null,
      "object_position": null,
      "order": null,
      "overflow": null,
      "overflow_x": null,
      "overflow_y": null,
      "padding": null,
      "right": null,
      "top": null,
      "visibility": null,
      "width": "3em"
     }
    },
    "fafef16f3785416ebfebda71418b6072": {
     "model_module": "@jupyter-widgets/controls",
     "model_module_version": "1.5.0",
     "model_name": "ToggleButtonModel",
     "state": {
      "_dom_classes": [],
      "_model_module": "@jupyter-widgets/controls",
      "_model_module_version": "1.5.0",
      "_model_name": "ToggleButtonModel",
      "_view_count": null,
      "_view_module": "@jupyter-widgets/controls",
      "_view_module_version": "1.5.0",
      "_view_name": "ToggleButtonView",
      "button_style": "",
      "description": "8",
      "description_tooltip": null,
      "disabled": false,
      "icon": "",
      "layout": "IPY_MODEL_fad18097d7c140fa8240d8e0ade34543",
      "style": "IPY_MODEL_4a09f7e41ff44475aaedccd17e4f2b9e",
      "tooltip": "",
      "value": false
     }
    },
    "ffc0833f832441bdb9d57faa5bde6349": {
     "model_module": "@jupyter-widgets/controls",
     "model_module_version": "1.5.0",
     "model_name": "LabelModel",
     "state": {
      "_dom_classes": [],
      "_model_module": "@jupyter-widgets/controls",
      "_model_module_version": "1.5.0",
      "_model_name": "LabelModel",
      "_view_count": null,
      "_view_module": "@jupyter-widgets/controls",
      "_view_module_version": "1.5.0",
      "_view_name": "LabelView",
      "description": "",
      "description_tooltip": null,
      "layout": "IPY_MODEL_020759e00bbf4028a97968ba8be077ee",
      "placeholder": "​",
      "style": "IPY_MODEL_f6f7472dedbc4af993a5479fc6b5625d",
      "value": "Toggle the bits below to change the binary number."
     }
    },
    "ffe8d070db88400eb3f4c8e944c7d6c7": {
     "model_module": "@jupyter-widgets/base",
     "model_module_version": "1.2.0",
     "model_name": "LayoutModel",
     "state": {
      "_model_module": "@jupyter-widgets/base",
      "_model_module_version": "1.2.0",
      "_model_name": "LayoutModel",
      "_view_count": null,
      "_view_module": "@jupyter-widgets/base",
      "_view_module_version": "1.2.0",
      "_view_name": "LayoutView",
      "align_content": null,
      "align_items": null,
      "align_self": null,
      "border": null,
      "bottom": null,
      "display": null,
      "flex": null,
      "flex_flow": null,
      "grid_area": null,
      "grid_auto_columns": null,
      "grid_auto_flow": null,
      "grid_auto_rows": null,
      "grid_column": null,
      "grid_gap": null,
      "grid_row": null,
      "grid_template_areas": null,
      "grid_template_columns": null,
      "grid_template_rows": null,
      "height": null,
      "justify_content": null,
      "justify_items": null,
      "left": null,
      "margin": null,
      "max_height": null,
      "max_width": null,
      "min_height": null,
      "min_width": null,
      "object_fit": null,
      "object_position": null,
      "order": null,
      "overflow": null,
      "overflow_x": null,
      "overflow_y": null,
      "padding": null,
      "right": null,
      "top": null,
      "visibility": null,
      "width": null
     }
    }
   }
  }
 },
 "nbformat": 4,
 "nbformat_minor": 1
}
