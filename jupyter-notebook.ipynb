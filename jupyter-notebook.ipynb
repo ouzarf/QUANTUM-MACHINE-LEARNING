{
 "cells": [
  {
   "cell_type": "markdown",
   "metadata": {
    "collapsed": false
   },
   "source": [
    "# This is a Jupyter Notebook – `*.ipynb`\n",
    "\n",
    "[Jupyter Notebooks](http://jupyter.org/) are an emerging format for sharing scientific calculations in a standardized document.\n",
    "It is made up of a list of input-cells (usually containing code) and corresponding output cells (containing text and/or graphics).\n",
    "There are also \"Markdown\" cells, like the one you're reading right now, containing formatted text to explain the content.\n",
    "\n",
    "## Usage\n",
    "\n",
    "To **evaluate a cell**, select the input cell (click on it, or put the cursor inside of it), and either press the play-button in the button row or press the `Shift`+`Return` keys.\n",
    "Usually, you should be able to go through a full notebook by pressing `Shift`+`Return` for evaluating one cell after another.\n",
    "Try it here after reading this introduction!\n",
    "\n",
    "Each Jupyter Notebook has a corresponding **\"Kernel\"**.\n",
    "It defines the language and back-end you are using when running code in a cell.\n",
    "Look at the top right, there it tells you what the current one is!\n",
    "\n",
    "In the menu, you can select the \"Kernel\" you want to use.\n",
    "For this notebook here, it needs to be Python 3 by Anaconda.\n",
    "\n",
    "CoCalc supports the following kernels:\n",
    "\n",
    "* [Python](https://www.python.org/) -- version 2 and 3.\n",
    "* [Anaconda Python](https://www.anaconda.com/what-is-anaconda/)\n",
    "* [SageMath](https://www.sagemath.org/)  -- [Tutorial](http://doc.sagemath.org/html/en/tutorial/index.html)\n",
    "* [Julia](https://julialang.org/)\n",
    "* [R](https://cran.r-project.org)  -- [Getting Started](https://cran.r-project.org/doc/contrib/Lemon-kickstart/)\n",
    "* [Octave](https://www.gnu.org/software/octave/)\n",
    "* and many more ...\n",
    "\n",
    "## CoCalc Jupyter Notebooks\n",
    "\n",
    "Our Jupyter notebooks are an enhanced version of the legacy implementation.\n",
    "In addition to the standard features, we offer concurrent editing (Google Docs style), integrated chat, detailed revision history, and a faster more scalable interface.\n",
    "\n",
    "## Classical Jupyter Notebook\n",
    "\n",
    "As an backwards compatible alternative to CoCalc's Jupyter Notebook implementation,\n",
    "there is also an enhanced version of the classical Jupyter Notebook available.\n",
    "It offers all original functionalities, but has a few technical drawbacks.\n",
    "Use it when you require full support of the legacy system.\n",
    "\n",
    "---\n",
    "\n",
    "Read [this overview](https://github.com/sagemathinc/cocalc/wiki/JupyterClassicModern) for more information!\n",
    "\n"
   ]
  },
  {
   "cell_type": "markdown",
   "metadata": {
    "collapsed": false
   },
   "source": [
    "## Simple calculations"
   ]
  },
  {
   "cell_type": "code",
   "execution_count": 1,
   "metadata": {
    "collapsed": false
   },
   "outputs": [
    {
     "data": {
      "text/plain": [
       "1.3"
      ]
     },
     "execution_count": 1,
     "metadata": {
     },
     "output_type": "execute_result"
    }
   ],
   "source": [
    "apple = 1.3\n",
    "apple"
   ]
  },
  {
   "cell_type": "code",
   "execution_count": 0,
   "metadata": {
    "collapsed": false
   },
   "outputs": [
   ],
   "source": [
   ]
  },
  {
   "cell_type": "markdown",
   "metadata": {
    "collapsed": false
   },
   "source": [
    "Note, the variable `apple` from above still exists in the following cell.\n",
    "Such a definition holds as long as the **session** of the kernel is still active.\n",
    "\n",
    "Restart the kernel (in the menu: Kernel -> Restart) and wait spawning up a new session.\n",
    "You'll see that evaluating this next cell will result in an error, because `apple` is no longer defined.\n",
    "\n",
    "`NameError: name 'apple' is not defined`"
   ]
  },
  {
   "cell_type": "code",
   "execution_count": 2,
   "metadata": {
    "collapsed": false
   },
   "outputs": [
    {
     "data": {
      "text/plain": [
       "6.5"
      ]
     },
     "execution_count": 2,
     "metadata": {
     },
     "output_type": "execute_result"
    }
   ],
   "source": [
    "2 * apple + 3 * apple"
   ]
  },
  {
   "cell_type": "markdown",
   "metadata": {
    "collapsed": false
   },
   "source": [
    "## Linear Algebra\n",
    "\n",
    "Use [NumPy](http://www.numpy.org/) for working with two three dimensional vectors $\\vec{x}$ and $\\vec{y}$:"
   ]
  },
  {
   "cell_type": "code",
   "execution_count": 2,
   "metadata": {
    "collapsed": false
   },
   "outputs": [
   ],
   "source": [
    "import numpy as np\n",
    "x = np.array([1, 2, 3])\n",
    "y = np.array([5, 2.2, -1])"
   ]
  },
  {
   "cell_type": "code",
   "execution_count": 3,
   "metadata": {
    "collapsed": false
   },
   "outputs": [
    {
     "data": {
      "text/plain": [
       "array([1, 2, 3])"
      ]
     },
     "execution_count": 3,
     "metadata": {
     },
     "output_type": "execute_result"
    }
   ],
   "source": [
    "x"
   ]
  },
  {
   "cell_type": "code",
   "execution_count": 4,
   "metadata": {
    "collapsed": false
   },
   "outputs": [
    {
     "data": {
      "text/plain": [
       "array([ 5. ,  2.2, -1. ])"
      ]
     },
     "execution_count": 4,
     "metadata": {
     },
     "output_type": "execute_result"
    }
   ],
   "source": [
    "y"
   ]
  },
  {
   "cell_type": "code",
   "execution_count": 5,
   "metadata": {
    "collapsed": false
   },
   "outputs": [
    {
     "data": {
      "text/plain": [
       "array([ 6. ,  4.2,  2. ])"
      ]
     },
     "execution_count": 5,
     "metadata": {
     },
     "output_type": "execute_result"
    }
   ],
   "source": [
    "x + y"
   ]
  },
  {
   "cell_type": "markdown",
   "metadata": {
    "collapsed": false
   },
   "source": [
    "Dot-product $\\vec{x} \\cdot \\vec{y}$"
   ]
  },
  {
   "cell_type": "code",
   "execution_count": 6,
   "metadata": {
    "collapsed": false
   },
   "outputs": [
    {
     "data": {
      "text/plain": [
       "6.4000000000000004"
      ]
     },
     "execution_count": 6,
     "metadata": {
     },
     "output_type": "execute_result"
    }
   ],
   "source": [
    "x.dot(y)"
   ]
  },
  {
   "cell_type": "markdown",
   "metadata": {
    "collapsed": false
   },
   "source": [
    "## Plotting\n",
    "\n",
    "Familiarize yourself with the excellent [matplotlib](https://matplotlib.org/) library."
   ]
  },
  {
   "cell_type": "code",
   "execution_count": 7,
   "metadata": {
    "collapsed": false
   },
   "outputs": [
   ],
   "source": [
    "import matplotlib.pyplot as plt"
   ]
  },
  {
   "cell_type": "markdown",
   "metadata": {
    "collapsed": false
   },
   "source": [
    "Defining a vector $u$ for the x-values and calculating a corresponding vector $v$ for the y-values."
   ]
  },
  {
   "cell_type": "code",
   "execution_count": 8,
   "metadata": {
    "collapsed": false
   },
   "outputs": [
   ],
   "source": [
    "u = np.linspace(0, 3 * np.pi, 1000)\n",
    "v = u * np.sin(u)"
   ]
  },
  {
   "cell_type": "markdown",
   "metadata": {
    "collapsed": false
   },
   "source": [
    "First 4 values of u and v as (x, y)-coordinates:"
   ]
  },
  {
   "cell_type": "code",
   "execution_count": 9,
   "metadata": {
    "collapsed": false
   },
   "outputs": [
    {
     "data": {
      "text/plain": [
       "[(0.0, 0.0),\n",
       " (0.009434212172942321, 8.9003039033972223e-05),\n",
       " (0.018868424345884642, 0.00035599631293646464),\n",
       " (0.028302636518826963, 0.00080093229422435958)]"
      ]
     },
     "execution_count": 9,
     "metadata": {
     },
     "output_type": "execute_result"
    }
   ],
   "source": [
    "list(zip(u[:4], v[:4]))"
   ]
  },
  {
   "cell_type": "markdown",
   "metadata": {
    "collapsed": false
   },
   "source": [
    "Now, we plot a grid and draw a line through all corresponding x and y values."
   ]
  },
  {
   "cell_type": "code",
   "execution_count": 10,
   "metadata": {
    "collapsed": false
   },
   "outputs": [
    {
     "data": {
      "text/plain": [
       "[<matplotlib.lines.Line2D at 0x7f8a114474a8>]"
      ]
     },
     "execution_count": 10,
     "metadata": {
     },
     "output_type": "execute_result"
    },
    {
     "data": {
      "image/png": "[encoded data removed]"
     },
     "execution_count": 10,
     "metadata": {
      "image/png": {
       "height": 250,
       "width": 372
      }
     },
     "output_type": "execute_result"
    }
   ],
   "source": [
    "plt.grid()\n",
    "plt.plot(u, v)"
   ]
  },
  {
   "cell_type": "markdown",
   "metadata": {
    "collapsed": false
   },
   "source": [
    "## Programming in Python"
   ]
  },
  {
   "cell_type": "markdown",
   "metadata": {
    "collapsed": false
   },
   "source": [
    "Procedural programming's main idea is to define functions for encoding – well – procedures. They're a small \"recipe\" and here is such an example:"
   ]
  },
  {
   "cell_type": "code",
   "execution_count": 11,
   "metadata": {
    "collapsed": false
   },
   "outputs": [
   ],
   "source": [
    "def func1(a, b):\n",
    "    result = a + 2*b\n",
    "    return result"
   ]
  },
  {
   "cell_type": "markdown",
   "metadata": {
    "collapsed": false
   },
   "source": [
    "Now, we \"call\" this function named `func1` – containing the recipe to add the first argument to twice the second argument – and show the result"
   ]
  },
  {
   "cell_type": "code",
   "execution_count": 12,
   "metadata": {
    "collapsed": false
   },
   "outputs": [
    {
     "data": {
      "text/plain": [
       "14"
      ]
     },
     "execution_count": 12,
     "metadata": {
     },
     "output_type": "execute_result"
    }
   ],
   "source": [
    "func1(4, 5)"
   ]
  },
  {
   "cell_type": "markdown",
   "metadata": {
    "collapsed": false
   },
   "source": [
    "That's `4 + 2 * 5`. Follow where `a` and `b` are in the function to understand what's going on.\n",
    "\n",
    "Now, we try another one:"
   ]
  },
  {
   "cell_type": "code",
   "execution_count": 13,
   "metadata": {
    "collapsed": false
   },
   "outputs": [
    {
     "data": {
      "text/plain": [
       "10"
      ]
     },
     "execution_count": 13,
     "metadata": {
     },
     "output_type": "execute_result"
    }
   ],
   "source": [
    "func1(8, 1)"
   ]
  },
  {
   "cell_type": "markdown",
   "metadata": {
    "collapsed": false
   },
   "source": [
    "And here we use a nested loop to calculate a whole bunch of them all at once ..."
   ]
  },
  {
   "cell_type": "code",
   "execution_count": 14,
   "metadata": {
    "collapsed": false
   },
   "outputs": [
    {
     "name": "stdout",
     "output_type": "stream",
     "text": [
      "func1(0, 0) = 0\n",
      "func1(0, 1) = 2\n",
      "func1(0, 2) = 4\n",
      "func1(0, 3) = 6\n",
      "func1(0, 4) = 8\n",
      "func1(1, 0) = 1\n",
      "func1(1, 1) = 3\n",
      "func1(1, 2) = 5\n",
      "func1(1, 3) = 7\n",
      "func1(1, 4) = 9\n",
      "func1(2, 0) = 2\n",
      "func1(2, 1) = 4\n",
      "func1(2, 2) = 6\n",
      "func1(2, 3) = 8\n",
      "func1(2, 4) = 10\n"
     ]
    }
   ],
   "source": [
    "for i in range(3):\n",
    "    for j in range(5):\n",
    "        z = func1(i, j)\n",
    "        print(\"func1({i}, {j}) = {z}\".format(i = i, j = j, z = z))"
   ]
  },
  {
   "cell_type": "markdown",
   "metadata": {
    "collapsed": false
   },
   "source": [
    "---\n",
    "\n",
    "## Great job!\n",
    "\n",
    "... and don't worry too much about all the details. This tutorial should make you curious about what CoCalc can do for you :-)\n",
    "\n",
    "Now, let's go back to [first-steps.tasks](first-steps.tasks)."
   ]
  },
  {
   "cell_type": "code",
   "execution_count": 3,
   "metadata": {
    "collapsed": false
   },
   "outputs": [
   ],
   "source": [
    "a_list = [0,1,2,3]"
   ]
  },
  {
   "cell_type": "code",
   "execution_count": 6,
   "metadata": {
    "collapsed": false
   },
   "outputs": [
    {
     "data": {
      "text/plain": [
       "0"
      ]
     },
     "execution_count": 6,
     "metadata": {
     },
     "output_type": "execute_result"
    }
   ],
   "source": [
    "a_list[0]"
   ]
  },
  {
   "cell_type": "code",
   "execution_count": 13,
   "metadata": {
    "collapsed": false
   },
   "outputs": [
    {
     "name": "stdout",
     "output_type": "stream",
     "text": [
      "Not much fruit here!\n"
     ]
    }
   ],
   "source": [
    "if 'strawberry' in a_list:\n",
    "    print('We have a strawberry!')\n",
    "elif a_list[3]=='apple':\n",
    "    print('We have an apple!')\n",
    "else:\n",
    "    print('Not much fruit here!')"
   ]
  },
  {
   "cell_type": "code",
   "execution_count": 0,
   "metadata": {
    "collapsed": false
   },
   "outputs": [
   ],
   "source": [
   ]
  },
  {
   "cell_type": "code",
   "execution_count": 7,
   "metadata": {
    "collapsed": false
   },
   "outputs": [
    {
     "data": {
      "text/plain": [
       "42"
      ]
     },
     "execution_count": 7,
     "metadata": {
     },
     "output_type": "execute_result"
    }
   ],
   "source": [
    "a_tuple = ( 42, 0.5, True, [0,1], None, 'Banana' )\n",
    "a_tuple[0]"
   ]
  },
  {
   "cell_type": "code",
   "execution_count": 0,
   "metadata": {
    "collapsed": false
   },
   "outputs": [
   ],
   "source": [
   ]
  },
  {
   "cell_type": "code",
   "execution_count": 4,
   "metadata": {
    "collapsed": false
   },
   "outputs": [
   ],
   "source": [
    "a_dict = { 1:'This is the value, for the key 1', 'This is the key for a value 1':1, False:':)', (0,1):256 }"
   ]
  },
  {
   "cell_type": "code",
   "execution_count": 5,
   "metadata": {
    "collapsed": false
   },
   "outputs": [
    {
     "data": {
      "text/plain": [
       "1"
      ]
     },
     "execution_count": 5,
     "metadata": {
     },
     "output_type": "execute_result"
    }
   ],
   "source": [
    "a_dict['This is the key for a value 1']"
   ]
  },
  {
   "cell_type": "code",
   "execution_count": 8,
   "metadata": {
    "collapsed": false
   },
   "outputs": [
   ],
   "source": [
    "a_dict['new key'] = 'new_value'"
   ]
  },
  {
   "cell_type": "code",
   "execution_count": 9,
   "metadata": {
    "collapsed": false
   },
   "outputs": [
    {
     "name": "stdout",
     "output_type": "stream",
     "text": [
      "0\n",
      "1\n",
      "2\n",
      "3\n",
      "4\n"
     ]
    }
   ],
   "source": [
    "for j in range(5):\n",
    "    print(j)"
   ]
  },
  {
   "cell_type": "code",
   "execution_count": 10,
   "metadata": {
    "collapsed": false
   },
   "outputs": [
    {
     "name": "stdout",
     "output_type": "stream",
     "text": [
      "key = 1\n",
      "value = This is the value, for the key 1\n",
      "\n",
      "key = This is the key for a value 1\n",
      "value = 1\n",
      "\n",
      "key = False\n",
      "value = :)\n",
      "\n",
      "key = (0, 1)\n",
      "value = 256\n",
      "\n",
      "key = new key\n",
      "value = new_value\n",
      "\n"
     ]
    }
   ],
   "source": [
    "for key in a_dict:\n",
    "    value = a_dict[key]\n",
    "    print('key =',key)\n",
    "    print('value =',value)\n",
    "    print()"
   ]
  },
  {
   "cell_type": "code",
   "execution_count": 0,
   "metadata": {
    "collapsed": false
   },
   "outputs": [
   ],
   "source": [
   ]
  },
  {
   "cell_type": "code",
   "execution_count": 0,
   "metadata": {
    "collapsed": false
   },
   "outputs": [
   ],
   "source": [
   ]
  },
  {
   "cell_type": "code",
   "execution_count": 0,
   "metadata": {
    "collapsed": false
   },
   "outputs": [
   ],
   "source": [
   ]
  },
  {
   "cell_type": "code",
   "execution_count": 0,
   "metadata": {
    "collapsed": false
   },
   "outputs": [
   ],
   "source": [
   ]
  },
  {
   "cell_type": "code",
   "execution_count": 0,
   "metadata": {
    "collapsed": false
   },
   "outputs": [
   ],
   "source": [
   ]
  },
  {
   "cell_type": "code",
   "execution_count": 0,
   "metadata": {
    "collapsed": false
   },
   "outputs": [
   ],
   "source": [
   ]
  },
  {
   "cell_type": "code",
   "execution_count": 0,
   "metadata": {
    "collapsed": false
   },
   "outputs": [
   ],
   "source": [
   ]
  },
  {
   "cell_type": "code",
   "execution_count": 0,
   "metadata": {
    "collapsed": false
   },
   "outputs": [
   ],
   "source": [
   ]
  },
  {
   "cell_type": "code",
   "execution_count": 0,
   "metadata": {
    "collapsed": false
   },
   "outputs": [
   ],
   "source": [
   ]
  },
  {
   "cell_type": "code",
   "execution_count": 0,
   "metadata": {
    "collapsed": false
   },
   "outputs": [
   ],
   "source": [
   ]
  },
  {
   "cell_type": "code",
   "execution_count": 0,
   "metadata": {
    "collapsed": false
   },
   "outputs": [
   ],
   "source": [
   ]
  },
  {
   "cell_type": "code",
   "execution_count": 0,
   "metadata": {
    "collapsed": false
   },
   "outputs": [
   ],
   "source": [
   ]
  },
  {
   "cell_type": "code",
   "execution_count": 0,
   "metadata": {
    "collapsed": false
   },
   "outputs": [
   ],
   "source": [
   ]
  },
  {
   "cell_type": "code",
   "execution_count": 0,
   "metadata": {
    "collapsed": false
   },
   "outputs": [
   ],
   "source": [
   ]
  },
  {
   "cell_type": "code",
   "execution_count": 0,
   "metadata": {
    "collapsed": false
   },
   "outputs": [
   ],
   "source": [
   ]
  },
  {
   "cell_type": "code",
   "execution_count": 0,
   "metadata": {
    "collapsed": false
   },
   "outputs": [
   ],
   "source": [
   ]
  },
  {
   "cell_type": "code",
   "execution_count": 0,
   "metadata": {
    "collapsed": false
   },
   "outputs": [
   ],
   "source": [
   ]
  },
  {
   "cell_type": "code",
   "execution_count": 0,
   "metadata": {
    "collapsed": false
   },
   "outputs": [
   ],
   "source": [
   ]
  },
  {
   "cell_type": "code",
   "execution_count": 0,
   "metadata": {
    "collapsed": false
   },
   "outputs": [
   ],
   "source": [
   ]
  },
  {
   "cell_type": "code",
   "execution_count": 0,
   "metadata": {
    "collapsed": false
   },
   "outputs": [
   ],
   "source": [
   ]
  },
  {
   "cell_type": "code",
   "execution_count": 0,
   "metadata": {
    "collapsed": false
   },
   "outputs": [
   ],
   "source": [
   ]
  },
  {
   "cell_type": "code",
   "execution_count": 0,
   "metadata": {
    "collapsed": false
   },
   "outputs": [
   ],
   "source": [
   ]
  },
  {
   "cell_type": "code",
   "execution_count": 0,
   "metadata": {
    "collapsed": false
   },
   "outputs": [
   ],
   "source": [
   ]
  },
  {
   "cell_type": "code",
   "execution_count": 0,
   "metadata": {
    "collapsed": false
   },
   "outputs": [
   ],
   "source": [
   ]
  },
  {
   "cell_type": "code",
   "execution_count": 0,
   "metadata": {
    "collapsed": false
   },
   "outputs": [
   ],
   "source": [
   ]
  },
  {
   "cell_type": "code",
   "execution_count": 0,
   "metadata": {
    "collapsed": false
   },
   "outputs": [
   ],
   "source": [
   ]
  },
  {
   "cell_type": "code",
   "execution_count": 0,
   "metadata": {
    "collapsed": false
   },
   "outputs": [
   ],
   "source": [
   ]
  }
 ],
 "metadata": {
  "kernelspec": {
   "display_name": "Python 3 (Anaconda 2019)",
   "env": {
    "AR": "/ext/anaconda-2019.03/bin/x86_64-conda_cos6-linux-gnu-ar",
    "AS": "/ext/anaconda-2019.03/bin/x86_64-conda_cos6-linux-gnu-as",
    "CC": "/ext/anaconda-2019.03/bin/x86_64-conda_cos6-linux-gnu-cc",
    "CONDA_EXE": "/ext/anaconda-2019.03/bin/conda",
    "CONDA_PREFIX": "/ext/anaconda-2019.03",
    "CONDA_PYTHON_EXE": "/ext/anaconda-2019.03/bin/python",
    "CPP": "/ext/anaconda-2019.03/bin/x86_64-conda_cos6-linux-gnu-cpp",
    "CXX": "/ext/anaconda-2019.03/bin/x86_64-conda_cos6-linux-gnu-c++",
    "CXXFILT": "/ext/anaconda-2019.03/bin/x86_64-conda_cos6-linux-gnu-c++filt",
    "ELFEDIT": "/ext/anaconda-2019.03/bin/x86_64-conda_cos6-linux-gnu-elfedit",
    "F77": "/ext/anaconda-2019.03/bin/x86_64-conda_cos6-linux-gnu-gfortran",
    "F90": "/ext/anaconda-2019.03/bin/x86_64-conda_cos6-linux-gnu-gfortran",
    "F95": "/ext/anaconda-2019.03/bin/x86_64-conda_cos6-linux-gnu-f95",
    "FC": "/ext/anaconda-2019.03/bin/x86_64-conda_cos6-linux-gnu-gfortran",
    "GCC": "/ext/anaconda-2019.03/bin/x86_64-conda_cos6-linux-gnu-gcc",
    "GCC_AR": "/ext/anaconda-2019.03/bin/x86_64-conda_cos6-linux-gnu-gcc-ar",
    "GCC_NM": "/ext/anaconda-2019.03/bin/x86_64-conda_cos6-linux-gnu-gcc-nm",
    "GCC_RANLIB": "/ext/anaconda-2019.03/bin/x86_64-conda_cos6-linux-gnu-gcc-ranlib",
    "GDAL_DATA": "/ext/anaconda-2019.03/share/gdal",
    "GFORTRAN": "/ext/anaconda-2019.03/bin/x86_64-conda_cos6-linux-gnu-gfortran",
    "GPROF": "/ext/anaconda-2019.03/bin/x86_64-conda_cos6-linux-gnu-gprof",
    "GXX": "/ext/anaconda-2019.03/bin/x86_64-conda_cos6-linux-gnu-g++",
    "JAVA_HOME": "/ext/anaconda-2019.03",
    "JAVA_LD_LIBRARY_PATH": "/ext/anaconda-2019.03/lib/server",
    "LD": "/ext/anaconda-2019.03/bin/x86_64-conda_cos6-linux-gnu-ld",
    "LD_GOLD": "/ext/anaconda-2019.03/bin/x86_64-conda_cos6-linux-gnu-ld.gold",
    "LD_LIBRARY_PATH": "/ext/anaconda-2019.03/lib",
    "NM": "/ext/anaconda-2019.03/bin/x86_64-conda_cos6-linux-gnu-nm",
    "OBJCOPY": "/ext/anaconda-2019.03/bin/x86_64-conda_cos6-linux-gnu-objcopy",
    "OBJDUMP": "/ext/anaconda-2019.03/bin/x86_64-conda_cos6-linux-gnu-objdump",
    "OCAMLFIND_CONF": "/ext/anaconda-2019.03/etc/findlib.conf",
    "OCAMLLIB": "/ext/anaconda-2019.03/lib/ocaml",
    "OCAML_PREFIX": "/ext/anaconda-2019.03",
    "PATH": "/ext/anaconda-2019.03/bin:/ext/anaconda-2019.03/condabin:/cocalc/bin:/cocalc/src/smc-project/bin:/home/user/bin:/home/user/.local/bin:/ext/bin:/usr/lib/xpra:/opt/ghc/bin:/usr/local/bin:/usr/bin:/bin:/ext/data/homer/bin:/ext/data/weblogo:/ext/intellij/idea/bin:/ext/pycharm/pycharm/bin:/usr/lib/postgresql/10/bin",
    "PROJ_LIB": "/ext/anaconda-2019.03/share/proj",
    "PYTHONHOME": "/ext/anaconda-2019.03/lib/python3.7",
    "PYTHONPATH": "/ext/anaconda-2019.03/lib/python3.7:/ext/anaconda-2019.03/lib/python3.7/site-packages",
    "RANLIB": "/ext/anaconda-2019.03/bin/x86_64-conda_cos6-linux-gnu-ranlib",
    "READELF": "/ext/anaconda-2019.03/bin/x86_64-conda_cos6-linux-gnu-readelf",
    "RSTUDIO_WHICH_R": "/ext/anaconda-2019.03/bin/R",
    "SIZE": "/ext/anaconda-2019.03/bin/x86_64-conda_cos6-linux-gnu-size",
    "STRINGS": "/ext/anaconda-2019.03/bin/x86_64-conda_cos6-linux-gnu-strings",
    "STRIP": "/ext/anaconda-2019.03/bin/x86_64-conda_cos6-linux-gnu-strip"
   },
   "language": "python",
   "metadata": {
    "cocalc": {
     "description": "Python/R distribution for data science",
     "priority": 5,
     "url": "https://www.anaconda.com/distribution/"
    }
   },
   "name": "anaconda2019",
   "resource_dir": "/ext/jupyter/kernels/anaconda2019"
  },
  "language_info": {
   "codemirror_mode": {
    "name": "ipython",
    "version": 3
   },
   "file_extension": ".py",
   "mimetype": "text/x-python",
   "name": "python",
   "nbconvert_exporter": "python",
   "pygments_lexer": "ipython3",
   "version": "3.7.7"
  }
 },
 "nbformat": 4,
 "nbformat_minor": 4
}